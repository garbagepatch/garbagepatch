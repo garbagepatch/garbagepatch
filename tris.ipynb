{
 "cells": [
  {
   "cell_type": "code",
   "execution_count": null,
   "metadata": {},
   "outputs": [],
   "source": [
    "             Estimate Std. Error t value Pr(>|t|)    \n",
    "(Intercept)  7.880239   0.225097  35.008  < 2e-16 ***\n",
    "TOT          0.004195   0.437691   0.010  0.99239    \n",
    "pH           0.039786   0.030047   1.324  0.19104    \n",
    "NACL         0.776068   0.250447   3.099  0.00308 ** \n",
    "TOT:pH      -0.002939   0.054040  -0.054  0.95683    \n",
    "pH:NACL     -0.106901   0.033608  -3.181  0.00243 ** "
   ]
  },
  {
   "cell_type": "code",
   "execution_count": 1,
   "metadata": {},
   "outputs": [
    {
     "data": {
      "application/vnd.jupyter.widget-view+json": {
       "model_id": "55908167a5f04181945fcce7b7f7efb2",
       "version_major": 2,
       "version_minor": 0
      },
      "text/plain": [
       "HBox(children=(FloatText(value=0.1, description='Total buffer molarity:', step=0.001), FloatText(value=8.2, de…"
      ]
     },
     "metadata": {},
     "output_type": "display_data"
    },
    {
     "data": {
      "application/vnd.jupyter.widget-view+json": {
       "model_id": "5a82750ab2174b98a57fb3377fd7f86d",
       "version_major": 2,
       "version_minor": 0
      },
      "text/plain": [
       "Output()"
      ]
     },
     "metadata": {},
     "output_type": "display_data"
    }
   ],
   "source": [
    "from ipywidgets import interact, interactive, fixed, interactive_output\n",
    "from ipywidgets import FloatText, Output, HBox\n",
    "import numpy as np\n",
    "import pandas as pd\n",
    "\n",
    "x = FloatText(value=0.100,\n",
    "    min=0.001,\n",
    "    max=3.000,\n",
    "    step=0.001,\n",
    "    description='Total buffer molarity:',\n",
    "    disabled=False,\n",
    "    continuous_update=False,\n",
    "    orientation='horizontal',\n",
    "    )\n",
    "y = FloatText(value=8.2,\n",
    "    min=6.00,\n",
    "    max=9.00,\n",
    "    step=0.01,\n",
    "    description='pH:',\n",
    "    disabled=False,\n",
    "    continuous_update=False,\n",
    "    orientation='horizontal',\n",
    "    )\n",
    "z = FloatText(value=0,\n",
    "    min=0.000,\n",
    "    max=5.000,\n",
    "    step=0.001,\n",
    "    description='NaCl molarity:',\n",
    "    disabled=False,\n",
    "    continuous_update=False,\n",
    "    orientation='horizontal',\n",
    "    )\n",
    "ui = HBox([x,y,z])\n",
    " \n",
    "def f(x,y,z):    \n",
    "    t = [[z,y,x]]\n",
    "\n",
    "    mwA = 121.14\n",
    "    mHA =  157.6\n",
    "    mwNaCl= 58.44\n",
    "    answer = 7.77545- 0.01700*x + 0.05266*y -0.15982*z + 16.44407*x*z + 0.02311 *y*z -2.22510*x*y*z\n",
    "    \n",
    "\n",
    "    molratio = np.power(10, y - answer)\n",
    "    mol_of_HA = x/(molratio + 1)\n",
    "    mL_of_HA = mol_of_HA * mHA\n",
    "    mol_A = x - mol_of_HA\n",
    "    g_of_A = mol_A*mwA\n",
    "    g_of_NaCl = mwNaCl * z\n",
    "    return(print(g_of_A,\"g of Tris Base and \", mL_of_HA, \"g of Tris HCl and \", g_of_NaCl, \"g of NaCl\", sep=\"\"))\n",
    "out = interactive_output(f, {'x':x, 'y':y, 'z':z})\n",
    "display(ui, out)\n"
   ]
  },
  {
   "cell_type": "code",
   "execution_count": null,
   "metadata": {},
   "outputs": [],
   "source": []
  }
 ],
 "metadata": {
  "kernelspec": {
   "display_name": "Python 3",
   "language": "python",
   "name": "python3"
  },
  "language_info": {
   "codemirror_mode": {
    "name": "ipython",
    "version": 3
   },
   "file_extension": ".py",
   "mimetype": "text/x-python",
   "name": "python",
   "nbconvert_exporter": "python",
   "pygments_lexer": "ipython3",
   "version": "3.7.6"
  },
  "widgets": {
   "application/vnd.jupyter.widget-state+json": {
    "state": {},
    "version_major": 2,
    "version_minor": 0
   }
  }
 },
 "nbformat": 4,
 "nbformat_minor": 4
}
