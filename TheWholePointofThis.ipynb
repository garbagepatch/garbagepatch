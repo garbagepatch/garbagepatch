{
 "cells": [
  {
   "cell_type": "markdown",
   "metadata": {
    "slideshow": {
     "slide_type": "slide"
    }
   },
   "source": [
    "# Deep learning for Buffer Calculator...\n",
    "\n",
    "## Hit run all if shits not opening, there each cell on this notebook that still is available loads the dl nodes for use. GL have fun, if you break it your probably fucked."
   ]
  },
  {
   "cell_type": "code",
   "execution_count": 1,
   "metadata": {},
   "outputs": [],
   "source": [
    "from tensorflow.keras.models import model_from_json\n",
    "import numpy as np\n",
    "import pandas as pd"
   ]
  },
  {
   "cell_type": "code",
   "execution_count": 2,
   "metadata": {},
   "outputs": [],
   "source": [
    "data_file = 'C:/Users/cmedders/Data/Mostupdatedcalcyo.csv'\n",
    "data_raw = pd.read_csv(data_file)\n",
    "data = data_raw.copy()\n",
    "inputs_test = data.sample(frac=0.8,random_state=0)\n",
    "outputs_test = data.drop(inputs_test.index)\n",
    "input_stats = inputs_test.describe()\n",
    "input_stats.pop(\"pKa\")\n",
    "input_stats = input_stats.transpose()\n"
   ]
  },
  {
   "cell_type": "code",
   "execution_count": 3,
   "metadata": {},
   "outputs": [],
   "source": [
    "def norm(x):\n",
    "    return(x - input_stats['mean'] / input_stats['std'])"
   ]
  },
  {
   "cell_type": "code",
   "execution_count": 4,
   "metadata": {
    "ExecuteTime": {
     "start_time": "2020-03-26T17:30:58.857Z"
    },
    "slideshow": {
     "slide_type": "subslide"
    }
   },
   "outputs": [
    {
     "data": {
      "application/vnd.jupyter.widget-view+json": {
       "model_id": "445dc50c89f649a182801cf6df1c4b63",
       "version_major": 2,
       "version_minor": 0
      },
      "text/plain": [
       "HBox(children=(FloatText(value=0.0, description='Total Buffer:', step=0.001), FloatText(value=0.1, description…"
      ]
     },
     "metadata": {},
     "output_type": "display_data"
    },
    {
     "data": {
      "application/vnd.jupyter.widget-view+json": {
       "model_id": "29583fe432644aa59b759812df43ebf4",
       "version_major": 2,
       "version_minor": 0
      },
      "text/plain": [
       "Output()"
      ]
     },
     "metadata": {},
     "output_type": "display_data"
    }
   ],
   "source": [
    "from ipywidgets import interact, interactive, fixed, interactive_output\n",
    "from ipywidgets import FloatText, Output, HBox\n",
    "json_file = open('mesmodel.json', 'r')\n",
    "loaded_model_json = json_file.read()\n",
    "json_file.close()\n",
    "loaded_model = model_from_json(loaded_model_json)\n",
    "# load weights into new model\n",
    "loaded_model.load_weights(\"mesmodel.h5\")\n",
    "x = FloatText(value=0.100,\n",
    "    min=0.001,\n",
    "    max=3.000,\n",
    "    step=0.001,\n",
    "    description='NaCl:',\n",
    "    disabled=False,\n",
    "    continuous_update=False,\n",
    "    orientation='horizontal',\n",
    "               )\n",
    "\n",
    "y = FloatText(value=5.5,\n",
    "    min=5,\n",
    "    max=8,\n",
    "    step=0.01,\n",
    "    description='pH:',\n",
    "    disabled=False,\n",
    "    continuous_update=False,\n",
    "    orientation='horizontal',\n",
    "             )\n",
    "\n",
    "             \n",
    "z = FloatText(value=0,\n",
    "    min=0.000,\n",
    "    max=5.000,\n",
    "    step=0.001,\n",
    "    description='Total Buffer:',\n",
    "    disabled=False,\n",
    "    continuous_update=False,\n",
    "    orientation='horizontal',\n",
    "    )\n",
    "ui = HBox([z,x,y])\n",
    "\n",
    "\n",
    "def f(x,y,z):\n",
    "    \n",
    "    t = [[x,y,z]]\n",
    "    df= pd.DataFrame(t, columns = ['TOT', 'pH','NACL' ])\n",
    "    normdf = norm(df)\n",
    "    answer = loaded_model.predict(normdf)\n",
    "    dif= df.iloc[0,1]- answer[0,0]\n",
    "    molratio = np.power(10, dif)\n",
    "    mwA = 217.22\n",
    "\n",
    "    mHA = 195.24\n",
    "\n",
    "    mwNaCl= 58.44\n",
    "    molHA = df.iloc[0,2]/(molratio + 1)\n",
    "    gHA = molHA * mHA\n",
    "    \n",
    "    molA = df.iloc[0,2] - molHA\n",
    "    gA = molA*mwA\n",
    "    gNaCl = mwNaCl * x\n",
    "    print(f\"MES Sodium: {gA}g   MES: {gHA}g   NaCl: {gNaCl}g\")\n",
    "out = interactive_output(f, {'x':x, 'y':y, 'z':z})\n",
    "display(ui, out)    \n",
    "    "
   ]
  },
  {
   "cell_type": "code",
   "execution_count": 11,
   "metadata": {},
   "outputs": [],
   "source": [
    "from __future__ import absolute_import, division, print_function, unicode_literals\n",
    "import tensorflow as tf\n",
    "import pandas as pd\n",
    "from tensorflow import keras\n",
    "from tensorflow.keras import layers\n",
    "from tensorflow.keras import regularizers\n",
    "import tensorflow_docs as tfdocs\n",
    "import tensorflow_docs.plots\n",
    "import tensorflow_docs.modeling\n",
    "from tensorflow.keras.models import model_from_json\n",
    "import pathlib\n",
    "\n",
    "import matplotlib.pyplot as plt\n",
    "import numpy as np\n",
    "import pandas as pd\n",
    "import seaborn as sns\n",
    "import asyncio\n"
   ]
  },
  {
   "cell_type": "code",
   "execution_count": 12,
   "metadata": {
    "jupyter": {
     "source_hidden": true
    }
   },
   "outputs": [
    {
     "data": {
      "application/vnd.jupyter.widget-view+json": {
       "model_id": "3d62b6ee26b245c18a8cbcb4e203e70d",
       "version_major": 2,
       "version_minor": 0
      },
      "text/plain": [
       "HBox(children=(FloatText(value=0.0, description='Total Buffer:', step=0.001), FloatText(value=0.1, description…"
      ]
     },
     "metadata": {},
     "output_type": "display_data"
    },
    {
     "data": {
      "application/vnd.jupyter.widget-view+json": {
       "model_id": "ad3eee607441424e8c3d38ba24808ee5",
       "version_major": 2,
       "version_minor": 0
      },
      "text/plain": [
       "Output()"
      ]
     },
     "metadata": {},
     "output_type": "display_data"
    }
   ],
   "source": [
    "from ipywidgets import interact, interactive, fixed, interactive_output\n",
    "from ipywidgets import FloatText, Output, HBox\n",
    "json_file = open('napimodel.json', 'r')\n",
    "loaded_model_json = json_file.read()\n",
    "json_file.close()\n",
    "loaded_model = model_from_json(loaded_model_json)\n",
    "# load weights into new model\n",
    "loaded_model.load_weights(\"napimodel.h5\")\n",
    "x = FloatText(value=0.100,\n",
    "    min=0.000,\n",
    "    max=3.000,\n",
    "    step=0.001,\n",
    "    description='NaCl:',\n",
    "    disabled=False,\n",
    "    continuous_update=False,\n",
    "    orientation='horizontal',\n",
    "               )\n",
    "\n",
    "y = FloatText(value=7.0,\n",
    "    min=6.0,\n",
    "    max=8,\n",
    "    step=0.01,\n",
    "    description='pH:',\n",
    "    disabled=False,\n",
    "    continuous_update=False,\n",
    "    orientation='horizontal',\n",
    "             )\n",
    "\n",
    "             \n",
    "z = FloatText(value=0,\n",
    "    min=0.000,\n",
    "    max=1.000,\n",
    "    step=0.001,\n",
    "    description='Total Buffer:',\n",
    "    disabled=False,\n",
    "    continuous_update=False,\n",
    "    orientation='horizontal',\n",
    "    )\n",
    "ui = HBox([z,x,y])\n",
    "\n",
    "\n",
    "def f(x,y,z):\n",
    "    \n",
    "    t = [[x,y,z]]\n",
    "    df= pd.DataFrame(t, columns = ['TOT', 'pH','NACL' ])\n",
    "    normdf = norm(df)\n",
    "    answer = loaded_model.predict(normdf)\n",
    "    dif= df.iloc[0,1]- answer[0,0]\n",
    "    molratio = np.power(10, dif)\n",
    "    mwA = 141.96\n",
    "\n",
    "\n",
    "    mHA = 137.99\n",
    "\n",
    "\n",
    "    mwNaCl= 58.44\n",
    "    molHA = df.iloc[0,2]/(molratio + 1)\n",
    "    gHA = molHA * mHA\n",
    "    \n",
    "    molA = df.iloc[0,2] - molHA\n",
    "    gA = molA*mwA\n",
    "    gNaCl = mwNaCl * x\n",
    "    print(f\"NaPi Dibasic Anhydrous: {gA}g   NaPi Monobasic Monohydrate: {gHA}g   NaCl: {gNaCl}g\")\n",
    "out = interactive_output(f, {'x':x, 'y':y, 'z':z})\n",
    "display(ui, out)    \n",
    "    "
   ]
  },
  {
   "cell_type": "code",
   "execution_count": 17,
   "metadata": {},
   "outputs": [
    {
     "data": {
      "application/vnd.jupyter.widget-view+json": {
       "model_id": "e8c5542ebd624e62a6fa15a1440908e2",
       "version_major": 2,
       "version_minor": 0
      },
      "text/plain": [
       "HBox(children=(FloatText(value=0.0, description='Total Buffer:', step=0.001), FloatText(value=0.1, description…"
      ]
     },
     "metadata": {},
     "output_type": "display_data"
    },
    {
     "data": {
      "application/vnd.jupyter.widget-view+json": {
       "model_id": "c19289fb828d40fab283b3ec8ea5f59b",
       "version_major": 2,
       "version_minor": 0
      },
      "text/plain": [
       "Output()"
      ]
     },
     "metadata": {},
     "output_type": "display_data"
    }
   ],
   "source": [
    "from ipywidgets import interact, interactive, fixed, interactive_output\n",
    "from ipywidgets import FloatText, Output, HBox\n",
    "json_file = open('acetatsmodel.json', 'r')\n",
    "loaded_model_json = json_file.read()\n",
    "json_file.close()\n",
    "loaded_model = model_from_json(loaded_model_json)\n",
    "# load weights into new model\n",
    "loaded_model.load_weights(\"model.h5\")\n",
    "x = FloatText(value=0.100,\n",
    "    min=0.000,\n",
    "    max=3.000,\n",
    "    step=0.001,\n",
    "    description='NaCl:',\n",
    "    disabled=False,\n",
    "    continuous_update=False,\n",
    "    orientation='horizontal',\n",
    "               )\n",
    "\n",
    "y = FloatText(value=4.76,\n",
    "    min=3,\n",
    "    max=6,\n",
    "    step=0.01,\n",
    "    description='pH:',\n",
    "    disabled=False,\n",
    "    continuous_update=False,\n",
    "    orientation='horizontal',\n",
    "             )\n",
    "\n",
    "             \n",
    "z = FloatText(value=0,\n",
    "    min=0.000,\n",
    "    max=1.000,\n",
    "    step=0.001,\n",
    "    description='Total Buffer:',\n",
    "    disabled=False,\n",
    "    continuous_update=False,\n",
    "    orientation='horizontal',\n",
    "    )\n",
    "ui = HBox([z,x,y])\n",
    "\n",
    "\n",
    "def f(x,y,z):\n",
    "    \n",
    "    t = [[x,y,z]]\n",
    "    df= pd.DataFrame(t, columns = ['TOT', 'pH','NACL' ])\n",
    "    normdf = norm(df)\n",
    "    answer = loaded_model.predict(normdf)\n",
    "    dif= df.iloc[0,1]- answer[0,0]\n",
    "    molratio = np.power(10, dif)\n",
    "    mwA = 82.03\n",
    "\n",
    "\n",
    "    mHA = 17.4\n",
    "\n",
    "\n",
    "    mwNaCl= 58.44\n",
    "    molHA = df.iloc[0,2]/(molratio + 1)\n",
    "    gHA = molHA / mHA*1000\n",
    "    \n",
    "    molA = df.iloc[0,2] - molHA\n",
    "    gA = molA*mwA\n",
    "    gNaCl = mwNaCl * x\n",
    "    print(f\"Sodium Acetate Anhydrous: {gA}g   Glacial Acetic Acid: {gHA}mL   NaCl: {gNaCl}g\")\n",
    "out = interactive_output(f, {'x':x, 'y':y, 'z':z})\n",
    "display(ui, out)    \n",
    "    "
   ]
  },
  {
   "cell_type": "code",
   "execution_count": 10,
   "metadata": {},
   "outputs": [
    {
     "data": {
      "application/vnd.jupyter.widget-view+json": {
       "model_id": "0e9d259cd82e4302bfb4f5f6c537f1bd",
       "version_major": 2,
       "version_minor": 0
      },
      "text/plain": [
       "HBox(children=(FloatText(value=0.1, description='Total buffer molarity:', step=0.001), FloatText(value=8.2, de…"
      ]
     },
     "metadata": {},
     "output_type": "display_data"
    },
    {
     "data": {
      "application/vnd.jupyter.widget-view+json": {
       "model_id": "7bf65202e4834361bce932c566b8c8c6",
       "version_major": 2,
       "version_minor": 0
      },
      "text/plain": [
       "Output()"
      ]
     },
     "metadata": {},
     "output_type": "display_data"
    }
   ],
   "source": [
    "from ipywidgets import interact, interactive, fixed, interactive_output\n",
    "from ipywidgets import FloatText, Output, HBox\n",
    "import numpy as np\n",
    "import pandas as pd\n",
    "\n",
    "x = FloatText(value=0.100,\n",
    "    min=0.001,\n",
    "    max=3.000,\n",
    "    step=0.001,\n",
    "    description='Total buffer molarity:',\n",
    "    disabled=False,\n",
    "    continuous_update=False,\n",
    "    orientation='horizontal',\n",
    "    )\n",
    "y = FloatText(value=8.2,\n",
    "    min=6.00,\n",
    "    max=9.00,\n",
    "    step=0.01,\n",
    "    description='pH:',\n",
    "    disabled=False,\n",
    "    continuous_update=False,\n",
    "    orientation='horizontal',\n",
    "    )\n",
    "z = FloatText(value=0,\n",
    "    min=0.000,\n",
    "    max=5.000,\n",
    "    step=0.001,\n",
    "    description='NaCl molarity:',\n",
    "    disabled=False,\n",
    "    continuous_update=False,\n",
    "    orientation='horizontal',\n",
    "    )\n",
    "ui = HBox([x,y,z])\n",
    " \n",
    "def f(x,y,z):    \n",
    "    t = [[z,y,x]]\n",
    "\n",
    "    mwA = 231.25\n",
    "    mHA =  209.26\n",
    "\n",
    "    mwNaCl= 58.44\n",
    "    answer = 7.600- 0.6742*x - 0.05369*y -0.02077*z -0.1568*x*y +0.001606 *y*z +0.001259*x*y*z\n",
    "    \n",
    "\n",
    "    molratio = np.power(10, y - answer)\n",
    "    mol_of_HA = x/(molratio + 1)\n",
    "    mL_of_HA = mol_of_HA * mHA\n",
    "    mol_A = x - mol_of_HA\n",
    "    g_of_A = mol_A*mwA\n",
    "    g_of_NaCl = mwNaCl * z\n",
    "    return(print(g_of_A,\"g of MOPS Base and \", mL_of_HA, \"g of MOPS and \", g_of_NaCl, \"g of NaCl\", sep=\"\"))\n",
    "out = interactive_output(f, {'x':x, 'y':y, 'z':z})\n",
    "display(ui, out)\n",
    "\n"
   ]
  },
  {
   "cell_type": "code",
   "execution_count": 9,
   "metadata": {},
   "outputs": [
    {
     "data": {
      "application/vnd.jupyter.widget-view+json": {
       "model_id": "1b68b06dcf1747bd9fc307723a42bb1f",
       "version_major": 2,
       "version_minor": 0
      },
      "text/plain": [
       "HBox(children=(FloatText(value=0.1, description='Total buffer molarity:', step=0.001), FloatText(value=7.2, de…"
      ]
     },
     "metadata": {},
     "output_type": "display_data"
    },
    {
     "data": {
      "application/vnd.jupyter.widget-view+json": {
       "model_id": "f73fb45bdaaa498bba02065686e9930f",
       "version_major": 2,
       "version_minor": 0
      },
      "text/plain": [
       "Output()"
      ]
     },
     "metadata": {},
     "output_type": "display_data"
    }
   ],
   "source": [
    "\n",
    "    "
   ]
  },
  {
   "cell_type": "code",
   "execution_count": null,
   "metadata": {},
   "outputs": [],
   "source": []
  },
  {
   "cell_type": "code",
   "execution_count": null,
   "metadata": {},
   "outputs": [],
   "source": []
  }
 ],
 "metadata": {
  "kernelspec": {
   "display_name": "Python [conda env:root] *",
   "language": "python",
   "name": "conda-root-py"
  },
  "language_info": {
   "codemirror_mode": {
    "name": "ipython",
    "version": 3
   },
   "file_extension": ".py",
   "mimetype": "text/x-python",
   "name": "python",
   "nbconvert_exporter": "python",
   "pygments_lexer": "ipython3",
   "version": "3.7.6"
  },
  "widgets": {
   "application/vnd.jupyter.widget-state+json": {
    "state": {
     "03ba468b764c429db95d8a5923e2deb6": {
      "model_module": "@jupyter-widgets/controls",
      "model_module_version": "1.5.0",
      "model_name": "FloatTextModel",
      "state": {
       "description": "Total buffer molarity:",
       "layout": "IPY_MODEL_5b6d146db1e64267ac7972e60e056b8a",
       "step": 0.001,
       "style": "IPY_MODEL_63f23a6ebe734c1a900bc2e67d670a61",
       "value": 0.1
      }
     },
     "0e9d259cd82e4302bfb4f5f6c537f1bd": {
      "model_module": "@jupyter-widgets/controls",
      "model_module_version": "1.5.0",
      "model_name": "HBoxModel",
      "state": {
       "children": [
        "IPY_MODEL_a78cfdcbc80a4585a34cd6620b89fe82",
        "IPY_MODEL_8b592a2279474a07b33e6901c03c969d",
        "IPY_MODEL_73cd1548f839469ba0d17be4beef9727"
       ],
       "layout": "IPY_MODEL_168eb1b348334aa7a4e272bb5b6db3e7"
      }
     },
     "0f86ef9f26dd47ef982566e2a2ef9add": {
      "model_module": "@jupyter-widgets/controls",
      "model_module_version": "1.5.0",
      "model_name": "DescriptionStyleModel",
      "state": {
       "description_width": ""
      }
     },
     "168eb1b348334aa7a4e272bb5b6db3e7": {
      "model_module": "@jupyter-widgets/base",
      "model_module_version": "1.2.0",
      "model_name": "LayoutModel",
      "state": {}
     },
     "1a0f531231de43ea8093877e6ffb7c3b": {
      "model_module": "@jupyter-widgets/base",
      "model_module_version": "1.2.0",
      "model_name": "LayoutModel",
      "state": {}
     },
     "1b68b06dcf1747bd9fc307723a42bb1f": {
      "model_module": "@jupyter-widgets/controls",
      "model_module_version": "1.5.0",
      "model_name": "HBoxModel",
      "state": {
       "children": [
        "IPY_MODEL_03ba468b764c429db95d8a5923e2deb6",
        "IPY_MODEL_d2edebadae4d4089973a020586ab3a25",
        "IPY_MODEL_f692de8de3594431844ca554f8fce11d"
       ],
       "layout": "IPY_MODEL_ee21ae91f43b43aa9ce7ac2eaa1ba230"
      }
     },
     "1da630b9ce9842e78041fe9f2d933956": {
      "model_module": "@jupyter-widgets/controls",
      "model_module_version": "1.5.0",
      "model_name": "FloatTextModel",
      "state": {
       "description": "Total buffer molarity:",
       "layout": "IPY_MODEL_e24b8a8d3efc49abb2b17da86ed1689e",
       "step": 0.001,
       "style": "IPY_MODEL_2bf55ef2f9b74de8a3ac5fd8f9b7670c",
       "value": 0.02
      }
     },
     "1f4409a05c3545359173fa7cbca16d9d": {
      "model_module": "@jupyter-widgets/base",
      "model_module_version": "1.2.0",
      "model_name": "LayoutModel",
      "state": {}
     },
     "28bfeb69a48f421fa9d6b134c25fe0f5": {
      "model_module": "@jupyter-widgets/controls",
      "model_module_version": "1.5.0",
      "model_name": "FloatTextModel",
      "state": {
       "description": "pH:",
       "layout": "IPY_MODEL_41f346305e054d1c81a774721463dabc",
       "step": 0.01,
       "style": "IPY_MODEL_3827feba0ab548edab3e7b8c1a346c2d",
       "value": 7.2
      }
     },
     "29583fe432644aa59b759812df43ebf4": {
      "model_module": "@jupyter-widgets/output",
      "model_module_version": "1.0.0",
      "model_name": "OutputModel",
      "state": {
       "layout": "IPY_MODEL_b7c0d864e02d4b92b7c51a00a1a6a71d",
       "outputs": [
        {
         "name": "stdout",
         "output_type": "stream",
         "text": "MES Sodium: 0.0g   MES: 0.0g   NaCl: 5.844g\n"
        }
       ]
      }
     },
     "2bf55ef2f9b74de8a3ac5fd8f9b7670c": {
      "model_module": "@jupyter-widgets/controls",
      "model_module_version": "1.5.0",
      "model_name": "DescriptionStyleModel",
      "state": {
       "description_width": ""
      }
     },
     "369528c158964cd6aff8765233f34a19": {
      "model_module": "@jupyter-widgets/controls",
      "model_module_version": "1.5.0",
      "model_name": "DescriptionStyleModel",
      "state": {
       "description_width": ""
      }
     },
     "3827feba0ab548edab3e7b8c1a346c2d": {
      "model_module": "@jupyter-widgets/controls",
      "model_module_version": "1.5.0",
      "model_name": "DescriptionStyleModel",
      "state": {
       "description_width": ""
      }
     },
     "388bf95cdad54c688f6a239efa5dfb48": {
      "model_module": "@jupyter-widgets/output",
      "model_module_version": "1.0.0",
      "model_name": "OutputModel",
      "state": {
       "layout": "IPY_MODEL_ad807d75ea894111ad5094217a67b82b",
       "outputs": [
        {
         "name": "stdout",
         "output_type": "stream",
         "text": "[[0.01222689]]g of MOPS Na and [[4.1741357]]g of MOPS and 1.1688g of NaCl\n"
        }
       ]
      }
     },
     "3b7ae1e1ad9c4b0a9bd3f33bf1faca02": {
      "model_module": "@jupyter-widgets/base",
      "model_module_version": "1.2.0",
      "model_name": "LayoutModel",
      "state": {}
     },
     "41f346305e054d1c81a774721463dabc": {
      "model_module": "@jupyter-widgets/base",
      "model_module_version": "1.2.0",
      "model_name": "LayoutModel",
      "state": {}
     },
     "432a25f3ba2b4c98bc5b62b5dc9473b9": {
      "model_module": "@jupyter-widgets/base",
      "model_module_version": "1.2.0",
      "model_name": "LayoutModel",
      "state": {}
     },
     "445dc50c89f649a182801cf6df1c4b63": {
      "model_module": "@jupyter-widgets/controls",
      "model_module_version": "1.5.0",
      "model_name": "HBoxModel",
      "state": {
       "children": [
        "IPY_MODEL_75c6f64752cc4a69a6498ee43b8c4761",
        "IPY_MODEL_f3981e7810bc4b7dac17f0d278eb2349",
        "IPY_MODEL_77ba24da286c4c67ae26821713fd3334"
       ],
       "layout": "IPY_MODEL_5b3c996408e54ef2a07caa34ed0f4119"
      }
     },
     "5b3c996408e54ef2a07caa34ed0f4119": {
      "model_module": "@jupyter-widgets/base",
      "model_module_version": "1.2.0",
      "model_name": "LayoutModel",
      "state": {}
     },
     "5b6d146db1e64267ac7972e60e056b8a": {
      "model_module": "@jupyter-widgets/base",
      "model_module_version": "1.2.0",
      "model_name": "LayoutModel",
      "state": {}
     },
     "5e9dcb76729542b7b49ab8f2e8f22e66": {
      "model_module": "@jupyter-widgets/controls",
      "model_module_version": "1.5.0",
      "model_name": "HBoxModel",
      "state": {
       "children": [
        "IPY_MODEL_623a6cf6c5a942d2b3f0c93582b322c6",
        "IPY_MODEL_c7f0bd1793d943cdba51391fa49e77ee",
        "IPY_MODEL_da9e8fd8008b4f568b99343fd5c9b09d"
       ],
       "layout": "IPY_MODEL_a3ae16aef9c544d096850340285ea02d"
      }
     },
     "611fda8e3ba340c9af1f7275cae5d755": {
      "model_module": "@jupyter-widgets/base",
      "model_module_version": "1.2.0",
      "model_name": "LayoutModel",
      "state": {}
     },
     "61d034fb5e3449df91190abfac58d33e": {
      "model_module": "@jupyter-widgets/base",
      "model_module_version": "1.2.0",
      "model_name": "LayoutModel",
      "state": {}
     },
     "623a6cf6c5a942d2b3f0c93582b322c6": {
      "model_module": "@jupyter-widgets/controls",
      "model_module_version": "1.5.0",
      "model_name": "FloatTextModel",
      "state": {
       "description": "Total buffer molarity:",
       "layout": "IPY_MODEL_1f4409a05c3545359173fa7cbca16d9d",
       "step": 0.001,
       "style": "IPY_MODEL_369528c158964cd6aff8765233f34a19",
       "value": 0.1
      }
     },
     "6327f9d031424cf997239f015377a5da": {
      "model_module": "@jupyter-widgets/base",
      "model_module_version": "1.2.0",
      "model_name": "LayoutModel",
      "state": {}
     },
     "63ab7b38162c4ed38d9aa2ddd91f944d": {
      "model_module": "@jupyter-widgets/output",
      "model_module_version": "1.0.0",
      "model_name": "OutputModel",
      "state": {
       "layout": "IPY_MODEL_1a0f531231de43ea8093877e6ffb7c3b",
       "outputs": [
        {
         "name": "stdout",
         "output_type": "stream",
         "text": "[[0.05877833]]g of MOPS Na and [[20.87281]]g of MOPS and 5.844g of NaCl\n"
        }
       ]
      }
     },
     "63f23a6ebe734c1a900bc2e67d670a61": {
      "model_module": "@jupyter-widgets/controls",
      "model_module_version": "1.5.0",
      "model_name": "DescriptionStyleModel",
      "state": {
       "description_width": ""
      }
     },
     "68f96f34cbd34e93a76a43dbf6eda1d3": {
      "model_module": "@jupyter-widgets/controls",
      "model_module_version": "1.5.0",
      "model_name": "FloatTextModel",
      "state": {
       "description": "pH:",
       "layout": "IPY_MODEL_3b7ae1e1ad9c4b0a9bd3f33bf1faca02",
       "step": 0.01,
       "style": "IPY_MODEL_f037df751c284aefa5dba542a1f10c62",
       "value": 7.3
      }
     },
     "72060deadf7c4d2aacdd73ed6414c9f0": {
      "model_module": "@jupyter-widgets/controls",
      "model_module_version": "1.5.0",
      "model_name": "DescriptionStyleModel",
      "state": {
       "description_width": ""
      }
     },
     "7235ccbe19b14416a627338be15fc86a": {
      "model_module": "@jupyter-widgets/controls",
      "model_module_version": "1.5.0",
      "model_name": "DescriptionStyleModel",
      "state": {
       "description_width": ""
      }
     },
     "73cd1548f839469ba0d17be4beef9727": {
      "model_module": "@jupyter-widgets/controls",
      "model_module_version": "1.5.0",
      "model_name": "FloatTextModel",
      "state": {
       "description": "NaCl molarity:",
       "layout": "IPY_MODEL_de5c1f9e56b4400a918acb50f7e88346",
       "step": 0.001,
       "style": "IPY_MODEL_fcb40942ccef446d9a0cf3efc670c267"
      }
     },
     "74874edccb0a40b1825846061e485bf5": {
      "model_module": "@jupyter-widgets/controls",
      "model_module_version": "1.5.0",
      "model_name": "DescriptionStyleModel",
      "state": {
       "description_width": ""
      }
     },
     "755c4772256e426a92a61415942374ba": {
      "model_module": "@jupyter-widgets/controls",
      "model_module_version": "1.5.0",
      "model_name": "DescriptionStyleModel",
      "state": {
       "description_width": ""
      }
     },
     "75c6f64752cc4a69a6498ee43b8c4761": {
      "model_module": "@jupyter-widgets/controls",
      "model_module_version": "1.5.0",
      "model_name": "FloatTextModel",
      "state": {
       "description": "Total Buffer:",
       "layout": "IPY_MODEL_86da15c148884ee1acb94c52108d9175",
       "step": 0.001,
       "style": "IPY_MODEL_85b38da1621c431ab77818466b72895e"
      }
     },
     "77ba24da286c4c67ae26821713fd3334": {
      "model_module": "@jupyter-widgets/controls",
      "model_module_version": "1.5.0",
      "model_name": "FloatTextModel",
      "state": {
       "description": "pH:",
       "layout": "IPY_MODEL_8d752ab2c6c74cd38442d288ed6e05f7",
       "step": 0.01,
       "style": "IPY_MODEL_c4f13d81128949b2a6dcda99209a9d70",
       "value": 5.5
      }
     },
     "7bf65202e4834361bce932c566b8c8c6": {
      "model_module": "@jupyter-widgets/output",
      "model_module_version": "1.0.0",
      "model_name": "OutputModel",
      "state": {
       "layout": "IPY_MODEL_611fda8e3ba340c9af1f7275cae5d755",
       "outputs": [
        {
         "name": "stdout",
         "output_type": "stream",
         "text": "16.329572147507882g of MOPS Base and 6.149237761783789g of MOPS and 0.0g of NaCl\n"
        }
       ]
      }
     },
     "7c74d01373414d549897253c6478d418": {
      "model_module": "@jupyter-widgets/base",
      "model_module_version": "1.2.0",
      "model_name": "LayoutModel",
      "state": {}
     },
     "7db8302175e84f05bd41f4c8e5125d7d": {
      "model_module": "@jupyter-widgets/base",
      "model_module_version": "1.2.0",
      "model_name": "LayoutModel",
      "state": {}
     },
     "8149209b8b2c41f5a477e82cbc96ecc5": {
      "model_module": "@jupyter-widgets/base",
      "model_module_version": "1.2.0",
      "model_name": "LayoutModel",
      "state": {}
     },
     "85b38da1621c431ab77818466b72895e": {
      "model_module": "@jupyter-widgets/controls",
      "model_module_version": "1.5.0",
      "model_name": "DescriptionStyleModel",
      "state": {
       "description_width": ""
      }
     },
     "86da15c148884ee1acb94c52108d9175": {
      "model_module": "@jupyter-widgets/base",
      "model_module_version": "1.2.0",
      "model_name": "LayoutModel",
      "state": {}
     },
     "875d81d9d76e42e9ac78d210ea2825a6": {
      "model_module": "@jupyter-widgets/base",
      "model_module_version": "1.2.0",
      "model_name": "LayoutModel",
      "state": {}
     },
     "87a42c0e2cb844d6b44a909a6f45416e": {
      "model_module": "@jupyter-widgets/base",
      "model_module_version": "1.2.0",
      "model_name": "LayoutModel",
      "state": {}
     },
     "88e775cfec08406aacb12c304de398c4": {
      "model_module": "@jupyter-widgets/controls",
      "model_module_version": "1.5.0",
      "model_name": "HBoxModel",
      "state": {
       "children": [
        "IPY_MODEL_1da630b9ce9842e78041fe9f2d933956",
        "IPY_MODEL_28bfeb69a48f421fa9d6b134c25fe0f5",
        "IPY_MODEL_97088acb11e24d0f874e122f9ab2ded7"
       ],
       "layout": "IPY_MODEL_87a42c0e2cb844d6b44a909a6f45416e"
      }
     },
     "8909389efe064af6ba23ff1ab8c48d38": {
      "model_module": "@jupyter-widgets/base",
      "model_module_version": "1.2.0",
      "model_name": "LayoutModel",
      "state": {}
     },
     "8b592a2279474a07b33e6901c03c969d": {
      "model_module": "@jupyter-widgets/controls",
      "model_module_version": "1.5.0",
      "model_name": "FloatTextModel",
      "state": {
       "description": "pH:",
       "layout": "IPY_MODEL_d010a0c5d0134959877cbd76d21842d3",
       "step": 0.01,
       "style": "IPY_MODEL_0f86ef9f26dd47ef982566e2a2ef9add",
       "value": 7.4
      }
     },
     "8c15d3b07e734152834122c71552649e": {
      "model_module": "@jupyter-widgets/output",
      "model_module_version": "1.0.0",
      "model_name": "OutputModel",
      "state": {
       "layout": "IPY_MODEL_432a25f3ba2b4c98bc5b62b5dc9473b9",
       "outputs": [
        {
         "name": "stdout",
         "output_type": "stream",
         "text": "[0.01325334]g of MOPS Na and [4.173207]g of MOPS and 0.0g of NaCl\n"
        }
       ]
      }
     },
     "8d752ab2c6c74cd38442d288ed6e05f7": {
      "model_module": "@jupyter-widgets/base",
      "model_module_version": "1.2.0",
      "model_name": "LayoutModel",
      "state": {}
     },
     "97088acb11e24d0f874e122f9ab2ded7": {
      "model_module": "@jupyter-widgets/controls",
      "model_module_version": "1.5.0",
      "model_name": "FloatTextModel",
      "state": {
       "description": "NaCl molarity:",
       "layout": "IPY_MODEL_7c74d01373414d549897253c6478d418",
       "step": 0.001,
       "style": "IPY_MODEL_74874edccb0a40b1825846061e485bf5",
       "value": 0.02
      }
     },
     "9fed3ccebc98435ca6cf7f5f75be096b": {
      "model_module": "@jupyter-widgets/base",
      "model_module_version": "1.2.0",
      "model_name": "LayoutModel",
      "state": {}
     },
     "a1e6a0de1b4d4bc0bcf6f6a0a9864457": {
      "model_module": "@jupyter-widgets/base",
      "model_module_version": "1.2.0",
      "model_name": "LayoutModel",
      "state": {}
     },
     "a3ae16aef9c544d096850340285ea02d": {
      "model_module": "@jupyter-widgets/base",
      "model_module_version": "1.2.0",
      "model_name": "LayoutModel",
      "state": {}
     },
     "a4bb3c5404a344de80db6aff658fb3bc": {
      "model_module": "@jupyter-widgets/base",
      "model_module_version": "1.2.0",
      "model_name": "LayoutModel",
      "state": {}
     },
     "a78cfdcbc80a4585a34cd6620b89fe82": {
      "model_module": "@jupyter-widgets/controls",
      "model_module_version": "1.5.0",
      "model_name": "FloatTextModel",
      "state": {
       "description": "Total buffer molarity:",
       "layout": "IPY_MODEL_7db8302175e84f05bd41f4c8e5125d7d",
       "step": 0.001,
       "style": "IPY_MODEL_c9e04bdcfa8648049f1c2695f6964091",
       "value": 0.1
      }
     },
     "ad807d75ea894111ad5094217a67b82b": {
      "model_module": "@jupyter-widgets/base",
      "model_module_version": "1.2.0",
      "model_name": "LayoutModel",
      "state": {}
     },
     "b1ef79f7d4ac4d0f9dfdf782c0c5d803": {
      "model_module": "@jupyter-widgets/controls",
      "model_module_version": "1.5.0",
      "model_name": "FloatTextModel",
      "state": {
       "description": "NaCl molarity:",
       "layout": "IPY_MODEL_8909389efe064af6ba23ff1ab8c48d38",
       "step": 0.001,
       "style": "IPY_MODEL_755c4772256e426a92a61415942374ba"
      }
     },
     "b2037e1fb7284925876be59f0ed46d3d": {
      "model_module": "@jupyter-widgets/controls",
      "model_module_version": "1.5.0",
      "model_name": "DescriptionStyleModel",
      "state": {
       "description_width": ""
      }
     },
     "b7c0d864e02d4b92b7c51a00a1a6a71d": {
      "model_module": "@jupyter-widgets/base",
      "model_module_version": "1.2.0",
      "model_name": "LayoutModel",
      "state": {}
     },
     "c0c19077e08b459492b472e98d007f50": {
      "model_module": "@jupyter-widgets/controls",
      "model_module_version": "1.5.0",
      "model_name": "FloatTextModel",
      "state": {
       "description": "Total buffer molarity:",
       "layout": "IPY_MODEL_a4bb3c5404a344de80db6aff658fb3bc",
       "step": 0.001,
       "style": "IPY_MODEL_cf1f39f2d7464be998494a87a24e74b8",
       "value": 0.02
      }
     },
     "c4f13d81128949b2a6dcda99209a9d70": {
      "model_module": "@jupyter-widgets/controls",
      "model_module_version": "1.5.0",
      "model_name": "DescriptionStyleModel",
      "state": {
       "description_width": ""
      }
     },
     "c7f0bd1793d943cdba51391fa49e77ee": {
      "model_module": "@jupyter-widgets/controls",
      "model_module_version": "1.5.0",
      "model_name": "FloatTextModel",
      "state": {
       "description": "pH:",
       "layout": "IPY_MODEL_df108abc36d0495eaca83a6a57647166",
       "step": 0.01,
       "style": "IPY_MODEL_72060deadf7c4d2aacdd73ed6414c9f0",
       "value": 7.2
      }
     },
     "c9e04bdcfa8648049f1c2695f6964091": {
      "model_module": "@jupyter-widgets/controls",
      "model_module_version": "1.5.0",
      "model_name": "DescriptionStyleModel",
      "state": {
       "description_width": ""
      }
     },
     "cf1f39f2d7464be998494a87a24e74b8": {
      "model_module": "@jupyter-widgets/controls",
      "model_module_version": "1.5.0",
      "model_name": "DescriptionStyleModel",
      "state": {
       "description_width": ""
      }
     },
     "cf5c18cf22c54c20a3c3475a46caaa40": {
      "model_module": "@jupyter-widgets/controls",
      "model_module_version": "1.5.0",
      "model_name": "DescriptionStyleModel",
      "state": {
       "description_width": ""
      }
     },
     "d010a0c5d0134959877cbd76d21842d3": {
      "model_module": "@jupyter-widgets/base",
      "model_module_version": "1.2.0",
      "model_name": "LayoutModel",
      "state": {}
     },
     "d2edebadae4d4089973a020586ab3a25": {
      "model_module": "@jupyter-widgets/controls",
      "model_module_version": "1.5.0",
      "model_name": "FloatTextModel",
      "state": {
       "description": "pH:",
       "layout": "IPY_MODEL_61d034fb5e3449df91190abfac58d33e",
       "step": 0.01,
       "style": "IPY_MODEL_7235ccbe19b14416a627338be15fc86a",
       "value": 7.2
      }
     },
     "da9e8fd8008b4f568b99343fd5c9b09d": {
      "model_module": "@jupyter-widgets/controls",
      "model_module_version": "1.5.0",
      "model_name": "FloatTextModel",
      "state": {
       "description": "NaCl molarity:",
       "layout": "IPY_MODEL_a1e6a0de1b4d4bc0bcf6f6a0a9864457",
       "step": 0.001,
       "style": "IPY_MODEL_b2037e1fb7284925876be59f0ed46d3d",
       "value": 0.1
      }
     },
     "de5c1f9e56b4400a918acb50f7e88346": {
      "model_module": "@jupyter-widgets/base",
      "model_module_version": "1.2.0",
      "model_name": "LayoutModel",
      "state": {}
     },
     "df108abc36d0495eaca83a6a57647166": {
      "model_module": "@jupyter-widgets/base",
      "model_module_version": "1.2.0",
      "model_name": "LayoutModel",
      "state": {}
     },
     "e24b8a8d3efc49abb2b17da86ed1689e": {
      "model_module": "@jupyter-widgets/base",
      "model_module_version": "1.2.0",
      "model_name": "LayoutModel",
      "state": {}
     },
     "e928481c76b6461e8441e4699e776e71": {
      "model_module": "@jupyter-widgets/controls",
      "model_module_version": "1.5.0",
      "model_name": "HBoxModel",
      "state": {
       "children": [
        "IPY_MODEL_c0c19077e08b459492b472e98d007f50",
        "IPY_MODEL_68f96f34cbd34e93a76a43dbf6eda1d3",
        "IPY_MODEL_b1ef79f7d4ac4d0f9dfdf782c0c5d803"
       ],
       "layout": "IPY_MODEL_6327f9d031424cf997239f015377a5da"
      }
     },
     "ee21ae91f43b43aa9ce7ac2eaa1ba230": {
      "model_module": "@jupyter-widgets/base",
      "model_module_version": "1.2.0",
      "model_name": "LayoutModel",
      "state": {}
     },
     "f037df751c284aefa5dba542a1f10c62": {
      "model_module": "@jupyter-widgets/controls",
      "model_module_version": "1.5.0",
      "model_name": "DescriptionStyleModel",
      "state": {
       "description_width": ""
      }
     },
     "f2ddb78e8d7e4b12a1f01929686a9b10": {
      "model_module": "@jupyter-widgets/controls",
      "model_module_version": "1.5.0",
      "model_name": "DescriptionStyleModel",
      "state": {
       "description_width": ""
      }
     },
     "f3981e7810bc4b7dac17f0d278eb2349": {
      "model_module": "@jupyter-widgets/controls",
      "model_module_version": "1.5.0",
      "model_name": "FloatTextModel",
      "state": {
       "description": "NaCl:",
       "layout": "IPY_MODEL_875d81d9d76e42e9ac78d210ea2825a6",
       "step": 0.001,
       "style": "IPY_MODEL_cf5c18cf22c54c20a3c3475a46caaa40",
       "value": 0.1
      }
     },
     "f692de8de3594431844ca554f8fce11d": {
      "model_module": "@jupyter-widgets/controls",
      "model_module_version": "1.5.0",
      "model_name": "FloatTextModel",
      "state": {
       "description": "NaCl molarity:",
       "layout": "IPY_MODEL_9fed3ccebc98435ca6cf7f5f75be096b",
       "step": 0.001,
       "style": "IPY_MODEL_f2ddb78e8d7e4b12a1f01929686a9b10",
       "value": 0.1
      }
     },
     "f73fb45bdaaa498bba02065686e9930f": {
      "model_module": "@jupyter-widgets/output",
      "model_module_version": "1.0.0",
      "model_name": "OutputModel",
      "state": {
       "layout": "IPY_MODEL_8149209b8b2c41f5a477e82cbc96ecc5",
       "outputs": [
        {
         "name": "stdout",
         "output_type": "stream",
         "text": "[[0.05877833]]g of MOPS Na and [[20.87281]]g of MOPS and 5.844g of NaCl\n"
        }
       ]
      }
     },
     "fcb40942ccef446d9a0cf3efc670c267": {
      "model_module": "@jupyter-widgets/controls",
      "model_module_version": "1.5.0",
      "model_name": "DescriptionStyleModel",
      "state": {
       "description_width": ""
      }
     }
    },
    "version_major": 2,
    "version_minor": 0
   }
  }
 },
 "nbformat": 4,
 "nbformat_minor": 4
}
