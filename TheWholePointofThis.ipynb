{
 "cells": [
  {
   "cell_type": "markdown",
   "metadata": {
    "slideshow": {
     "slide_type": "slide"
    }
   },
   "source": [
    "# Deep learning for Buffer Calculator...\n",
    "\n",
    "## Hit run all if shits not opening, there each cell on this notebook that still is available loads the dl nodes for use. GL have fun, if you break it your probably fucked."
   ]
  },
  {
   "cell_type": "code",
   "execution_count": 14,
   "metadata": {},
   "outputs": [],
   "source": [
    "from tensorflow.keras.models import model_from_json\n",
    "import numpy as np\n",
    "import pandas as pd"
   ]
  },
  {
   "cell_type": "code",
   "execution_count": 9,
   "metadata": {},
   "outputs": [],
   "source": [
    "data_file = 'C:/Users/cmedders/Data/Mostupdatedcalcyo.csv'\n",
    "data_raw = pd.read_csv(data_file)\n",
    "data = data_raw.copy()\n",
    "inputs_test = data.sample(frac=0.8,random_state=0)\n",
    "outputs_test = data.drop(inputs_test.index)\n",
    "input_stats = inputs_test.describe()\n",
    "input_stats.pop(\"pKa\")\n",
    "input_stats = input_stats.transpose()\n"
   ]
  },
  {
   "cell_type": "code",
   "execution_count": 10,
   "metadata": {},
   "outputs": [],
   "source": [
    "def norm(x):\n",
    "    return(x - input_stats['mean'] / input_stats['std'])"
   ]
  },
  {
   "cell_type": "code",
   "execution_count": 5,
   "metadata": {
    "ExecuteTime": {
     "start_time": "2020-03-26T17:30:58.857Z"
    },
    "slideshow": {
     "slide_type": "subslide"
    }
   },
   "outputs": [
    {
     "data": {
      "application/vnd.jupyter.widget-view+json": {
       "model_id": "fdde8f202d614e4497fa113a154edefc",
       "version_major": 2,
       "version_minor": 0
      },
      "text/plain": [
       "HBox(children=(FloatText(value=0.0, description='Total Buffer:', step=0.001), FloatText(value=0.1, description…"
      ]
     },
     "metadata": {},
     "output_type": "display_data"
    },
    {
     "data": {
      "application/vnd.jupyter.widget-view+json": {
       "model_id": "eacb3ea492504c8da908d78e7723a013",
       "version_major": 2,
       "version_minor": 0
      },
      "text/plain": [
       "Output()"
      ]
     },
     "metadata": {},
     "output_type": "display_data"
    }
   ],
   "source": [
    "from ipywidgets import interact, interactive, fixed, interactive_output\n",
    "from ipywidgets import FloatText, Output, HBox\n",
    "json_file = open('mesmodel.json', 'r')\n",
    "loaded_model_json = json_file.read()\n",
    "json_file.close()\n",
    "loaded_model = model_from_json(loaded_model_json)\n",
    "# load weights into new model\n",
    "loaded_model.load_weights(\"mesmodel.h5\")\n",
    "x = FloatText(value=0.100,\n",
    "    min=0.001,\n",
    "    max=3.000,\n",
    "    step=0.001,\n",
    "    description='NaCl:',\n",
    "    disabled=False,\n",
    "    continuous_update=False,\n",
    "    orientation='horizontal',\n",
    "               )\n",
    "\n",
    "y = FloatText(value=5.5,\n",
    "    min=5,\n",
    "    max=8,\n",
    "    step=0.01,\n",
    "    description='pH:',\n",
    "    disabled=False,\n",
    "    continuous_update=False,\n",
    "    orientation='horizontal',\n",
    "             )\n",
    "\n",
    "             \n",
    "z = FloatText(value=0,\n",
    "    min=0.000,\n",
    "    max=5.000,\n",
    "    step=0.001,\n",
    "    description='Total Buffer:',\n",
    "    disabled=False,\n",
    "    continuous_update=False,\n",
    "    orientation='horizontal',\n",
    "    )\n",
    "ui = HBox([z,x,y])\n",
    "\n",
    "\n",
    "def f(x,y,z):\n",
    "    \n",
    "    t = [[x,y,z]]\n",
    "    df= pd.DataFrame(t, columns = ['TOT', 'pH','NACL' ])\n",
    "    normdf = norm(df)\n",
    "    answer = loaded_model.predict(normdf)\n",
    "    dif= df.iloc[0,1]- answer[0,0]\n",
    "    molratio = np.power(10, dif)\n",
    "    mwA = 217.22\n",
    "\n",
    "    mHA = 195.24\n",
    "\n",
    "    mwNaCl= 58.44\n",
    "    molHA = df.iloc[0,2]/(molratio + 1)\n",
    "    gHA = molHA * mHA\n",
    "    \n",
    "    molA = df.iloc[0,2] - molHA\n",
    "    gA = molA*mwA\n",
    "    gNaCl = mwNaCl * x\n",
    "    print(f\"MES Sodium: {gA}g   MES: {gHA}g   NaCl: {gNaCl}g\")\n",
    "out = interactive_output(f, {'x':x, 'y':y, 'z':z})\n",
    "display(ui, out)    \n",
    "    "
   ]
  },
  {
   "cell_type": "code",
   "execution_count": 380,
   "metadata": {
    "jupyter": {
     "source_hidden": true
    }
   },
   "outputs": [],
   "source": [
    "from __future__ import absolute_import, division, print_function, unicode_literals\n",
    "import tensorflow as tf\n",
    "import pandas as pd\n",
    "from tensorflow import keras\n",
    "from tensorflow.keras import layers\n",
    "from tensorflow.keras import regularizers\n",
    "import tensorflow_docs as tfdocs\n",
    "import tensorflow_docs.plots\n",
    "import tensorflow_docs.modeling\n",
    "from tensorflow.keras.models import model_from_json\n",
    "import pathlib\n",
    "\n",
    "import matplotlib.pyplot as plt\n",
    "import numpy as np\n",
    "import pandas as pd\n",
    "import seaborn as sns\n",
    "import asyncio\n"
   ]
  },
  {
   "cell_type": "code",
   "execution_count": 381,
   "metadata": {
    "jupyter": {
     "source_hidden": true
    }
   },
   "outputs": [
    {
     "data": {
      "application/vnd.jupyter.widget-view+json": {
       "model_id": "cedf899384dc442092e6ae31fb6107bb",
       "version_major": 2,
       "version_minor": 0
      },
      "text/plain": [
       "HBox(children=(FloatText(value=0.0, description='Total Buffer:', step=0.001), FloatText(value=0.1, description…"
      ]
     },
     "metadata": {},
     "output_type": "display_data"
    },
    {
     "data": {
      "application/vnd.jupyter.widget-view+json": {
       "model_id": "70e80bd48cf449fd81cd4e5614a212b0",
       "version_major": 2,
       "version_minor": 0
      },
      "text/plain": [
       "Output()"
      ]
     },
     "metadata": {},
     "output_type": "display_data"
    }
   ],
   "source": [
    "from ipywidgets import interact, interactive, fixed, interactive_output\n",
    "from ipywidgets import FloatText, Output, HBox\n",
    "json_file = open('napimodel.json', 'r')\n",
    "loaded_model_json = json_file.read()\n",
    "json_file.close()\n",
    "loaded_model = model_from_json(loaded_model_json)\n",
    "# load weights into new model\n",
    "loaded_model.load_weights(\"napimodel.h5\")\n",
    "x = FloatText(value=0.100,\n",
    "    min=0.000,\n",
    "    max=3.000,\n",
    "    step=0.001,\n",
    "    description='NaCl:',\n",
    "    disabled=False,\n",
    "    continuous_update=False,\n",
    "    orientation='horizontal',\n",
    "               )\n",
    "\n",
    "y = FloatText(value=7.0,\n",
    "    min=6.0,\n",
    "    max=8,\n",
    "    step=0.01,\n",
    "    description='pH:',\n",
    "    disabled=False,\n",
    "    continuous_update=False,\n",
    "    orientation='horizontal',\n",
    "             )\n",
    "\n",
    "             \n",
    "z = FloatText(value=0,\n",
    "    min=0.000,\n",
    "    max=1.000,\n",
    "    step=0.001,\n",
    "    description='Total Buffer:',\n",
    "    disabled=False,\n",
    "    continuous_update=False,\n",
    "    orientation='horizontal',\n",
    "    )\n",
    "ui = HBox([z,x,y])\n",
    "\n",
    "\n",
    "def f(x,y,z):\n",
    "    \n",
    "    t = [[x,y,z]]\n",
    "    df= pd.DataFrame(t, columns = ['TOT', 'pH','NACL' ])\n",
    "    normdf = norm(df)\n",
    "    answer = loaded_model.predict(normdf)\n",
    "    dif= df.iloc[0,1]- answer[0,0]\n",
    "    molratio = np.power(10, dif)\n",
    "    mwA = 141.96\n",
    "\n",
    "\n",
    "    mHA = 137.99\n",
    "\n",
    "\n",
    "    mwNaCl= 58.44\n",
    "    molHA = df.iloc[0,2]/(molratio + 1)\n",
    "    gHA = molHA * mHA\n",
    "    \n",
    "    molA = df.iloc[0,2] - molHA\n",
    "    gA = molA*mwA\n",
    "    gNaCl = mwNaCl * x\n",
    "    print(f\"NaPi Dibasic Anhydrous: {gA}g   NaPi Monobasic Monohydrate: {gHA}g   NaCl: {gNaCl}g\")\n",
    "out = interactive_output(f, {'x':x, 'y':y, 'z':z})\n",
    "display(ui, out)    \n",
    "    "
   ]
  },
  {
   "cell_type": "code",
   "execution_count": 16,
   "metadata": {},
   "outputs": [
    {
     "data": {
      "application/vnd.jupyter.widget-view+json": {
       "model_id": "519bc1f3e5f54098bd320dfbc08e068e",
       "version_major": 2,
       "version_minor": 0
      },
      "text/plain": [
       "HBox(children=(FloatText(value=0.0, description='Total Buffer:', step=0.001), FloatText(value=0.1, description…"
      ]
     },
     "metadata": {},
     "output_type": "display_data"
    },
    {
     "data": {
      "application/vnd.jupyter.widget-view+json": {
       "model_id": "8a75a5aba56b4df3b9b922c02b259e80",
       "version_major": 2,
       "version_minor": 0
      },
      "text/plain": [
       "Output()"
      ]
     },
     "metadata": {},
     "output_type": "display_data"
    }
   ],
   "source": [
    "from ipywidgets import interact, interactive, fixed, interactive_output\n",
    "from ipywidgets import FloatText, Output, HBox\n",
    "json_file = open('acetatsmodel.json', 'r')\n",
    "loaded_model_json = json_file.read()\n",
    "json_file.close()\n",
    "loaded_model = model_from_json(loaded_model_json)\n",
    "# load weights into new model\n",
    "loaded_model.load_weights(\"model.h5\")\n",
    "x = FloatText(value=0.100,\n",
    "    min=0.000,\n",
    "    max=3.000,\n",
    "    step=0.001,\n",
    "    description='NaCl:',\n",
    "    disabled=False,\n",
    "    continuous_update=False,\n",
    "    orientation='horizontal',\n",
    "               )\n",
    "\n",
    "y = FloatText(value=4.76,\n",
    "    min=3,\n",
    "    max=6,\n",
    "    step=0.01,\n",
    "    description='pH:',\n",
    "    disabled=False,\n",
    "    continuous_update=False,\n",
    "    orientation='horizontal',\n",
    "             )\n",
    "\n",
    "             \n",
    "z = FloatText(value=0,\n",
    "    min=0.000,\n",
    "    max=1.000,\n",
    "    step=0.001,\n",
    "    description='Total Buffer:',\n",
    "    disabled=False,\n",
    "    continuous_update=False,\n",
    "    orientation='horizontal',\n",
    "    )\n",
    "ui = HBox([z,x,y])\n",
    "\n",
    "\n",
    "def f(x,y,z):\n",
    "    \n",
    "    t = [[x,y,z]]\n",
    "    df= pd.DataFrame(t, columns = ['TOT', 'pH','NACL' ])\n",
    "    normdf = norm(df)\n",
    "    normdf.('acetatnorm.csv')\n",
    "    answer = loaded_model.predict(normdf)\n",
    "    dif= df.iloc[0,1]- answer[0,0]\n",
    "    molratio = np.power(10, dif)\n",
    "    mwA = 82.03\n",
    "\n",
    "\n",
    "    mHA = 17.4\n",
    "\n",
    "\n",
    "    mwNaCl= 58.44\n",
    "    molHA = df.iloc[0,2]/(molratio + 1)\n",
    "    gHA = molHA / mHA*1000\n",
    "    \n",
    "    molA = df.iloc[0,2] - molHA\n",
    "    gA = molA*mwA\n",
    "    gNaCl = mwNaCl * x\n",
    "    print(f\"Sodium Acetate Anhydrous: {gA}g   Glacial Acetic Acid: {gHA}mL   NaCl: {gNaCl}g\")\n",
    "out = interactive_output(f, {'x':x, 'y':y, 'z':z})\n",
    "display(ui, out)    \n",
    "    "
   ]
  },
  {
   "cell_type": "code",
   "execution_count": null,
   "metadata": {},
   "outputs": [],
   "source": []
  }
 ],
 "metadata": {
  "kernelspec": {
   "display_name": "Python [conda env:root] *",
   "language": "python",
   "name": "conda-root-py"
  },
  "language_info": {
   "codemirror_mode": {
    "name": "ipython",
    "version": 3
   },
   "file_extension": ".py",
   "mimetype": "text/x-python",
   "name": "python",
   "nbconvert_exporter": "python",
   "pygments_lexer": "ipython3",
   "version": "3.7.6"
  },
  "widgets": {
   "application/vnd.jupyter.widget-state+json": {
    "state": {},
    "version_major": 2,
    "version_minor": 0
   }
  }
 },
 "nbformat": 4,
 "nbformat_minor": 4
}
