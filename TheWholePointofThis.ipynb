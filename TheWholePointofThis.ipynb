{
 "cells": [
  {
   "cell_type": "markdown",
   "metadata": {
    "slideshow": {
     "slide_type": "slide"
    }
   },
   "source": [
    "# Deep learning for Buffer Calculator...\n",
    "\n",
    "## Hit run all if shits not opening, there each cell on this notebook that still is available loads the dl nodes for use. GL have fun, if you break it your probably fucked."
   ]
  },
  {
   "cell_type": "code",
   "execution_count": 379,
   "metadata": {
    "ExecuteTime": {
     "start_time": "2020-03-26T17:30:58.857Z"
    },
    "slideshow": {
     "slide_type": "subslide"
    }
   },
   "outputs": [
    {
     "data": {
      "application/vnd.jupyter.widget-view+json": {
       "model_id": "d766c7a13530408893db524b4afef462",
       "version_major": 2,
       "version_minor": 0
      },
      "text/plain": [
       "HBox(children=(FloatText(value=0.0, description='Total Buffer:', step=0.001), FloatText(value=0.1, description…"
      ]
     },
     "metadata": {},
     "output_type": "display_data"
    },
    {
     "data": {
      "application/vnd.jupyter.widget-view+json": {
       "model_id": "258f61e5075642cd84aaa699ee111bce",
       "version_major": 2,
       "version_minor": 0
      },
      "text/plain": [
       "Output()"
      ]
     },
     "metadata": {},
     "output_type": "display_data"
    }
   ],
   "source": [
    "from ipywidgets import interact, interactive, fixed, interactive_output\n",
    "from ipywidgets import FloatText, Output, HBox\n",
    "json_file = open('mesmodel.json', 'r')\n",
    "loaded_model_json = json_file.read()\n",
    "json_file.close()\n",
    "loaded_model = model_from_json(loaded_model_json)\n",
    "# load weights into new model\n",
    "loaded_model.load_weights(\"mesmodel.h5\")\n",
    "x = FloatText(value=0.100,\n",
    "    min=0.001,\n",
    "    max=3.000,\n",
    "    step=0.001,\n",
    "    description='NaCl:',\n",
    "    disabled=False,\n",
    "    continuous_update=False,\n",
    "    orientation='horizontal',\n",
    "               )\n",
    "\n",
    "y = FloatText(value=5.5,\n",
    "    min=5,\n",
    "    max=8,\n",
    "    step=0.01,\n",
    "    description='pH:',\n",
    "    disabled=False,\n",
    "    continuous_update=False,\n",
    "    orientation='horizontal',\n",
    "             )\n",
    "\n",
    "             \n",
    "z = FloatText(value=0,\n",
    "    min=0.000,\n",
    "    max=5.000,\n",
    "    step=0.001,\n",
    "    description='Total Buffer:',\n",
    "    disabled=False,\n",
    "    continuous_update=False,\n",
    "    orientation='horizontal',\n",
    "    )\n",
    "ui = HBox([z,x,y])\n",
    "\n",
    "\n",
    "def f(x,y,z):\n",
    "    \n",
    "    t = [[x,y,z]]\n",
    "    df= pd.DataFrame(t, columns = ['TOT', 'pH','NACL' ])\n",
    "    normdf = norm(df)\n",
    "    answer = loaded_model.predict(normdf)\n",
    "    dif= df.iloc[0,1]- answer[0,0]\n",
    "    molratio = np.power(10, dif)\n",
    "    mwA = 217.22\n",
    "\n",
    "    mHA = 195.24\n",
    "\n",
    "    mwNaCl= 58.44\n",
    "    molHA = df.iloc[0,2]/(molratio + 1)\n",
    "    gHA = molHA * mHA\n",
    "    \n",
    "    molA = df.iloc[0,2] - molHA\n",
    "    gA = molA*mwA\n",
    "    gNaCl = mwNaCl * x\n",
    "    print(f\"MES Sodium: {gA}g   MES: {gHA}g   NaCl: {gNaCl}g\")\n",
    "out = interactive_output(f, {'x':x, 'y':y, 'z':z})\n",
    "display(ui, out)    \n",
    "    "
   ]
  },
  {
   "cell_type": "code",
   "execution_count": 380,
   "metadata": {
    "jupyter": {
     "source_hidden": true
    }
   },
   "outputs": [],
   "source": [
    "from __future__ import absolute_import, division, print_function, unicode_literals\n",
    "import tensorflow as tf\n",
    "import pandas as pd\n",
    "from tensorflow import keras\n",
    "from tensorflow.keras import layers\n",
    "from tensorflow.keras import regularizers\n",
    "import tensorflow_docs as tfdocs\n",
    "import tensorflow_docs.plots\n",
    "import tensorflow_docs.modeling\n",
    "from tensorflow.keras.models import model_from_json\n",
    "import pathlib\n",
    "\n",
    "import matplotlib.pyplot as plt\n",
    "import numpy as np\n",
    "import pandas as pd\n",
    "import seaborn as sns\n",
    "import asyncio\n"
   ]
  },
  {
   "cell_type": "code",
   "execution_count": 381,
   "metadata": {
    "jupyter": {
     "source_hidden": true
    }
   },
   "outputs": [
    {
     "data": {
      "application/vnd.jupyter.widget-view+json": {
       "model_id": "cedf899384dc442092e6ae31fb6107bb",
       "version_major": 2,
       "version_minor": 0
      },
      "text/plain": [
       "HBox(children=(FloatText(value=0.0, description='Total Buffer:', step=0.001), FloatText(value=0.1, description…"
      ]
     },
     "metadata": {},
     "output_type": "display_data"
    },
    {
     "data": {
      "application/vnd.jupyter.widget-view+json": {
       "model_id": "70e80bd48cf449fd81cd4e5614a212b0",
       "version_major": 2,
       "version_minor": 0
      },
      "text/plain": [
       "Output()"
      ]
     },
     "metadata": {},
     "output_type": "display_data"
    }
   ],
   "source": [
    "from ipywidgets import interact, interactive, fixed, interactive_output\n",
    "from ipywidgets import FloatText, Output, HBox\n",
    "json_file = open('napimodel.json', 'r')\n",
    "loaded_model_json = json_file.read()\n",
    "json_file.close()\n",
    "loaded_model = model_from_json(loaded_model_json)\n",
    "# load weights into new model\n",
    "loaded_model.load_weights(\"napimodel.h5\")\n",
    "x = FloatText(value=0.100,\n",
    "    min=0.000,\n",
    "    max=3.000,\n",
    "    step=0.001,\n",
    "    description='NaCl:',\n",
    "    disabled=False,\n",
    "    continuous_update=False,\n",
    "    orientation='horizontal',\n",
    "               )\n",
    "\n",
    "y = FloatText(value=7.0,\n",
    "    min=6.0,\n",
    "    max=8,\n",
    "    step=0.01,\n",
    "    description='pH:',\n",
    "    disabled=False,\n",
    "    continuous_update=False,\n",
    "    orientation='horizontal',\n",
    "             )\n",
    "\n",
    "             \n",
    "z = FloatText(value=0,\n",
    "    min=0.000,\n",
    "    max=1.000,\n",
    "    step=0.001,\n",
    "    description='Total Buffer:',\n",
    "    disabled=False,\n",
    "    continuous_update=False,\n",
    "    orientation='horizontal',\n",
    "    )\n",
    "ui = HBox([z,x,y])\n",
    "\n",
    "\n",
    "def f(x,y,z):\n",
    "    \n",
    "    t = [[x,y,z]]\n",
    "    df= pd.DataFrame(t, columns = ['TOT', 'pH','NACL' ])\n",
    "    normdf = norm(df)\n",
    "    answer = loaded_model.predict(normdf)\n",
    "    dif= df.iloc[0,1]- answer[0,0]\n",
    "    molratio = np.power(10, dif)\n",
    "    mwA = 141.96\n",
    "\n",
    "\n",
    "    mHA = 137.99\n",
    "\n",
    "\n",
    "    mwNaCl= 58.44\n",
    "    molHA = df.iloc[0,2]/(molratio + 1)\n",
    "    gHA = molHA * mHA\n",
    "    \n",
    "    molA = df.iloc[0,2] - molHA\n",
    "    gA = molA*mwA\n",
    "    gNaCl = mwNaCl * x\n",
    "    print(f\"NaPi Dibasic Anhydrous: {gA}g   NaPi Monobasic Monohydrate: {gHA}g   NaCl: {gNaCl}g\")\n",
    "out = interactive_output(f, {'x':x, 'y':y, 'z':z})\n",
    "display(ui, out)    \n",
    "    "
   ]
  },
  {
   "cell_type": "code",
   "execution_count": 382,
   "metadata": {
    "jupyter": {
     "source_hidden": true
    }
   },
   "outputs": [
    {
     "data": {
      "application/vnd.jupyter.widget-view+json": {
       "model_id": "dbb1fece73bf4ef297aae6e4b84be877",
       "version_major": 2,
       "version_minor": 0
      },
      "text/plain": [
       "HBox(children=(FloatText(value=0.0, description='Total Buffer:', step=0.001), FloatText(value=0.1, description…"
      ]
     },
     "metadata": {},
     "output_type": "display_data"
    },
    {
     "data": {
      "application/vnd.jupyter.widget-view+json": {
       "model_id": "6bb524cb28bd4040b6cffcb5f3764084",
       "version_major": 2,
       "version_minor": 0
      },
      "text/plain": [
       "Output()"
      ]
     },
     "metadata": {},
     "output_type": "display_data"
    }
   ],
   "source": [
    "from ipywidgets import interact, interactive, fixed, interactive_output\n",
    "from ipywidgets import FloatText, Output, HBox\n",
    "json_file = open('acetatsmodel.json', 'r')\n",
    "loaded_model_json = json_file.read()\n",
    "json_file.close()\n",
    "loaded_model = model_from_json(loaded_model_json)\n",
    "# load weights into new model\n",
    "loaded_model.load_weights(\"model.h5\")\n",
    "x = FloatText(value=0.100,\n",
    "    min=0.000,\n",
    "    max=3.000,\n",
    "    step=0.001,\n",
    "    description='NaCl:',\n",
    "    disabled=False,\n",
    "    continuous_update=False,\n",
    "    orientation='horizontal',\n",
    "               )\n",
    "\n",
    "y = FloatText(value=4.76,\n",
    "    min=3,\n",
    "    max=6,\n",
    "    step=0.01,\n",
    "    description='pH:',\n",
    "    disabled=False,\n",
    "    continuous_update=False,\n",
    "    orientation='horizontal',\n",
    "             )\n",
    "\n",
    "             \n",
    "z = FloatText(value=0,\n",
    "    min=0.000,\n",
    "    max=1.000,\n",
    "    step=0.001,\n",
    "    description='Total Buffer:',\n",
    "    disabled=False,\n",
    "    continuous_update=False,\n",
    "    orientation='horizontal',\n",
    "    )\n",
    "ui = HBox([z,x,y])\n",
    "\n",
    "\n",
    "def f(x,y,z):\n",
    "    \n",
    "    t = [[x,y,z]]\n",
    "    df= pd.DataFrame(t, columns = ['TOT', 'pH','NACL' ])\n",
    "    normdf = norm(df)\n",
    "    answer = loaded_model.predict(normdf)\n",
    "    dif= df.iloc[0,1]- answer[0,0]\n",
    "    molratio = np.power(10, dif)\n",
    "    mwA = 82.03\n",
    "\n",
    "\n",
    "    mHA = 17.4\n",
    "\n",
    "\n",
    "    mwNaCl= 58.44\n",
    "    molHA = df.iloc[0,2]/(molratio + 1)\n",
    "    gHA = molHA / mHA*1000\n",
    "    \n",
    "    molA = df.iloc[0,2] - molHA\n",
    "    gA = molA*mwA\n",
    "    gNaCl = mwNaCl * x\n",
    "    print(f\"Sodium Acetate Anhydrous: {gA}g   Glacial Acetic Acid: {gHA}mL   NaCl: {gNaCl}g\")\n",
    "out = interactive_output(f, {'x':x, 'y':y, 'z':z})\n",
    "display(ui, out)    \n",
    "    "
   ]
  },
  {
   "cell_type": "code",
   "execution_count": null,
   "metadata": {},
   "outputs": [],
   "source": []
  }
 ],
 "metadata": {
  "kernelspec": {
   "display_name": "Python [conda env:root] *",
   "language": "python",
   "name": "conda-root-py"
  },
  "language_info": {
   "codemirror_mode": {
    "name": "ipython",
    "version": 3
   },
   "file_extension": ".py",
   "mimetype": "text/x-python",
   "name": "python",
   "nbconvert_exporter": "python",
   "pygments_lexer": "ipython3",
   "version": "3.7.6"
  },
  "widgets": {
   "application/vnd.jupyter.widget-state+json": {
    "state": {
     "0074f1c991ae48b496df085996085690": {
      "model_module": "@jupyter-widgets/controls",
      "model_module_version": "1.5.0",
      "model_name": "DescriptionStyleModel",
      "state": {
       "description_width": ""
      }
     },
     "01428ac972b94e4689a34c65b57b58a3": {
      "model_module": "@jupyter-widgets/controls",
      "model_module_version": "1.5.0",
      "model_name": "DescriptionStyleModel",
      "state": {
       "description_width": ""
      }
     },
     "026a9d1f7d7049559e73616b4a538ee5": {
      "model_module": "@jupyter-widgets/base",
      "model_module_version": "1.2.0",
      "model_name": "LayoutModel",
      "state": {}
     },
     "02b9985588e042b4b5106a8e9d5994ca": {
      "model_module": "@jupyter-widgets/output",
      "model_module_version": "1.0.0",
      "model_name": "OutputModel",
      "state": {
       "layout": "IPY_MODEL_c1e21717b5564950aabf28e7a4942c6d"
      }
     },
     "042b480115814dbeaffd75d2ce8dd327": {
      "model_module": "@jupyter-widgets/base",
      "model_module_version": "1.2.0",
      "model_name": "LayoutModel",
      "state": {}
     },
     "0464f6a7937947499594278053a6f4b1": {
      "model_module": "@jupyter-widgets/controls",
      "model_module_version": "1.5.0",
      "model_name": "DescriptionStyleModel",
      "state": {
       "description_width": ""
      }
     },
     "049f72524ef14bf4b0dfaa8ccec5d617": {
      "model_module": "@jupyter-widgets/base",
      "model_module_version": "1.2.0",
      "model_name": "LayoutModel",
      "state": {}
     },
     "05fc7cc3bae9488d9e13a9dee6958e78": {
      "model_module": "@jupyter-widgets/output",
      "model_module_version": "1.0.0",
      "model_name": "OutputModel",
      "state": {
       "layout": "IPY_MODEL_cb715f84c0ab4e8484289b83a9793a95",
       "outputs": [
        {
         "name": "stdout",
         "output_type": "stream",
         "text": "MES Sodium: 0.0g   MES: 0.0g   NaCl: 5.844g\n"
        }
       ]
      }
     },
     "0638439938f14563814dd707f753269a": {
      "model_module": "@jupyter-widgets/output",
      "model_module_version": "1.0.0",
      "model_name": "OutputModel",
      "state": {
       "layout": "IPY_MODEL_6845e6fd06c342fc955412e696e69172"
      }
     },
     "06af524157814aef84d24c02ac63deed": {
      "model_module": "@jupyter-widgets/base",
      "model_module_version": "1.2.0",
      "model_name": "LayoutModel",
      "state": {}
     },
     "06e5d8f255f7473fada4aee2a613c7a8": {
      "model_module": "@jupyter-widgets/controls",
      "model_module_version": "1.5.0",
      "model_name": "FloatTextModel",
      "state": {
       "description": "Total Buffer:",
       "layout": "IPY_MODEL_7ecf4a0d030b4fe8b9a5cb5be19342a8",
       "step": 0.001,
       "style": "IPY_MODEL_4ccb1badc4c74e25826dfb68796166c2"
      }
     },
     "08177d6639f14c369e3a572ebb3b2a09": {
      "model_module": "@jupyter-widgets/controls",
      "model_module_version": "1.5.0",
      "model_name": "FloatTextModel",
      "state": {
       "description": "NaCl:",
       "layout": "IPY_MODEL_224c7def8b624de38269246afec63b20",
       "step": 0.001,
       "style": "IPY_MODEL_93b25dfafaef41e89cba46561b30a6a3",
       "value": 0.1
      }
     },
     "084493c4c7004afc8998ab5f95f02ad1": {
      "model_module": "@jupyter-widgets/controls",
      "model_module_version": "1.5.0",
      "model_name": "FloatTextModel",
      "state": {
       "description": "NaCl:",
       "layout": "IPY_MODEL_e30dddd9a8b8458f8c49945d6a5c72d7",
       "step": 0.001,
       "style": "IPY_MODEL_1975af5ef0634c178fb67da9f1074951",
       "value": 0.1
      }
     },
     "08ba0d013469444f8510e6f97f16af49": {
      "model_module": "@jupyter-widgets/controls",
      "model_module_version": "1.5.0",
      "model_name": "HBoxModel",
      "state": {
       "children": [
        "IPY_MODEL_486f4b5f4a6e4481b7e48ecc064b391a",
        "IPY_MODEL_b1a18f0e9eab445789eac7c6a7a2449b",
        "IPY_MODEL_5d250a77305d4cb389499fadc8bc9030"
       ],
       "layout": "IPY_MODEL_eb9a72e4bca946708e38344326190be7"
      }
     },
     "0976cbcb07f245258971e99f22f23d63": {
      "model_module": "@jupyter-widgets/base",
      "model_module_version": "1.2.0",
      "model_name": "LayoutModel",
      "state": {}
     },
     "099e76824a5a418b9b830ed721e01639": {
      "model_module": "@jupyter-widgets/controls",
      "model_module_version": "1.5.0",
      "model_name": "HBoxModel",
      "state": {
       "children": [
        "IPY_MODEL_de02adcd591f4e249a9cec31092d5b9e",
        "IPY_MODEL_1ffb8141e3aa443d8ad4af11a461a889",
        "IPY_MODEL_c47d4878445f476f83d3ad3191a205d8"
       ],
       "layout": "IPY_MODEL_cb7a39012454492cb1a4d510e1a96a6a"
      }
     },
     "0a304082f7ab42598850c5f32109e5d6": {
      "model_module": "@jupyter-widgets/controls",
      "model_module_version": "1.5.0",
      "model_name": "DescriptionStyleModel",
      "state": {
       "description_width": ""
      }
     },
     "0a5cbc0df6fc4a84be76490406e218da": {
      "model_module": "@jupyter-widgets/base",
      "model_module_version": "1.2.0",
      "model_name": "LayoutModel",
      "state": {}
     },
     "0b24224d43ea472a9ff6819eed3df92f": {
      "model_module": "@jupyter-widgets/controls",
      "model_module_version": "1.5.0",
      "model_name": "DescriptionStyleModel",
      "state": {
       "description_width": ""
      }
     },
     "0b83dc7d9cd14ec0a9c17adce3c832e9": {
      "model_module": "@jupyter-widgets/controls",
      "model_module_version": "1.5.0",
      "model_name": "FloatTextModel",
      "state": {
       "description": "NaCl:",
       "layout": "IPY_MODEL_3a6218de82404e95be39ed7247410230",
       "step": 0.001,
       "style": "IPY_MODEL_ec15361a147b4ef3b43a233f27c7104f",
       "value": 0.1
      }
     },
     "0c44869878cc4e429b195eb9275f61a1": {
      "model_module": "@jupyter-widgets/controls",
      "model_module_version": "1.5.0",
      "model_name": "FloatTextModel",
      "state": {
       "description": "Total Buffer:",
       "layout": "IPY_MODEL_c4d2743c4e3147998d9397bdd40b0643",
       "step": 0.001,
       "style": "IPY_MODEL_6bc319abad6e46beadee7dd027f16f7a"
      }
     },
     "0c4bb98e734f426fb29a33d049cf62a2": {
      "model_module": "@jupyter-widgets/controls",
      "model_module_version": "1.5.0",
      "model_name": "DescriptionStyleModel",
      "state": {
       "description_width": ""
      }
     },
     "0c57de4c7cdc48b3b2dee426e3943639": {
      "model_module": "@jupyter-widgets/base",
      "model_module_version": "1.2.0",
      "model_name": "LayoutModel",
      "state": {}
     },
     "0d92892fabcd416cbc3d88247130949b": {
      "model_module": "@jupyter-widgets/base",
      "model_module_version": "1.2.0",
      "model_name": "LayoutModel",
      "state": {}
     },
     "0df7b4cc2d094d95b5789513302ee22a": {
      "model_module": "@jupyter-widgets/controls",
      "model_module_version": "1.5.0",
      "model_name": "FloatTextModel",
      "state": {
       "description": "pH:",
       "layout": "IPY_MODEL_24b741777e544d8e86b39bc3f1b63b82",
       "step": 0.01,
       "style": "IPY_MODEL_3d2e02c1796b4c8baaadc97c3db30fb6",
       "value": 4.76
      }
     },
     "0e16eafec9194b7a8f0423c8dc2cc9a1": {
      "model_module": "@jupyter-widgets/controls",
      "model_module_version": "1.5.0",
      "model_name": "FloatTextModel",
      "state": {
       "description": "Total Buffer:",
       "layout": "IPY_MODEL_c896d8438937425ba9cf2d687fa5eb69",
       "step": 0.001,
       "style": "IPY_MODEL_809a9190775848728d89d02115fbe19b",
       "value": 0.02
      }
     },
     "1009db2bea6e450a9e2d05b9d7468a00": {
      "model_module": "@jupyter-widgets/controls",
      "model_module_version": "1.5.0",
      "model_name": "HBoxModel",
      "state": {
       "children": [
        "IPY_MODEL_caee7303ca654a15953094599075b95a",
        "IPY_MODEL_20a41e289954429bb7ce20777a7e86bc",
        "IPY_MODEL_a0de016b1a9d403aa20a594b5375c5ab"
       ],
       "layout": "IPY_MODEL_4e59b1b4ad014e42a1d54dbf9ff5fe81"
      }
     },
     "10b1776e6bc14f70880eecde32e353aa": {
      "model_module": "@jupyter-widgets/controls",
      "model_module_version": "1.5.0",
      "model_name": "DescriptionStyleModel",
      "state": {
       "description_width": ""
      }
     },
     "11fd1015f1584d74984212af218b12da": {
      "model_module": "@jupyter-widgets/base",
      "model_module_version": "1.2.0",
      "model_name": "LayoutModel",
      "state": {}
     },
     "12542d82eb8d4c188068c53e4f321379": {
      "model_module": "@jupyter-widgets/base",
      "model_module_version": "1.2.0",
      "model_name": "LayoutModel",
      "state": {}
     },
     "12acb2800a1840ba91ef3818c2bee73d": {
      "model_module": "@jupyter-widgets/base",
      "model_module_version": "1.2.0",
      "model_name": "LayoutModel",
      "state": {}
     },
     "1321d641ee7246e0b4fa5858a0a01b66": {
      "model_module": "@jupyter-widgets/base",
      "model_module_version": "1.2.0",
      "model_name": "LayoutModel",
      "state": {}
     },
     "1323449b628640d5b543a216798edfe1": {
      "model_module": "@jupyter-widgets/controls",
      "model_module_version": "1.5.0",
      "model_name": "FloatTextModel",
      "state": {
       "description": "Total Buffer:",
       "layout": "IPY_MODEL_f26c97b8729745caa2265c1db95e9c94",
       "step": 0.001,
       "style": "IPY_MODEL_15414883a83549308ce327f87ec45820"
      }
     },
     "13ae86081ce8417695c828dd6d729ef7": {
      "model_module": "@jupyter-widgets/output",
      "model_module_version": "1.0.0",
      "model_name": "OutputModel",
      "state": {
       "layout": "IPY_MODEL_042b480115814dbeaffd75d2ce8dd327",
       "outputs": [
        {
         "name": "stdout",
         "output_type": "stream",
         "text": "NaPi Dibasic Anhydrous: 0.0g   NaPi Monobasic Monohydrate: 0.0g   NaCl: 5.844g\n"
        }
       ]
      }
     },
     "1425c1e6974748fea60098114128b209": {
      "model_module": "@jupyter-widgets/base",
      "model_module_version": "1.2.0",
      "model_name": "LayoutModel",
      "state": {}
     },
     "14c7c74c37a849f0b4cae2546c5ac5f6": {
      "model_module": "@jupyter-widgets/controls",
      "model_module_version": "1.5.0",
      "model_name": "DescriptionStyleModel",
      "state": {
       "description_width": ""
      }
     },
     "14da4b258e3b4e2d86bd1a9a5a56e181": {
      "model_module": "@jupyter-widgets/base",
      "model_module_version": "1.2.0",
      "model_name": "LayoutModel",
      "state": {}
     },
     "15414883a83549308ce327f87ec45820": {
      "model_module": "@jupyter-widgets/controls",
      "model_module_version": "1.5.0",
      "model_name": "DescriptionStyleModel",
      "state": {
       "description_width": ""
      }
     },
     "16021cb38f044d539c8b6e5ec3aed15b": {
      "model_module": "@jupyter-widgets/output",
      "model_module_version": "1.0.0",
      "model_name": "OutputModel",
      "state": {
       "layout": "IPY_MODEL_2ec05fce870f4a46a7bdfb250b29dd90",
       "outputs": [
        {
         "name": "stdout",
         "output_type": "stream",
         "text": "Sodium Acetate Anhydrous: 0.0g   Glacial Acetic Acid: 0.0mL   NaCl: 5.844g\n"
        }
       ]
      }
     },
     "169365cb233f454db348d618c3192145": {
      "model_module": "@jupyter-widgets/controls",
      "model_module_version": "1.5.0",
      "model_name": "FloatTextModel",
      "state": {
       "description": "Total Buffer:",
       "layout": "IPY_MODEL_be5924316b474acf86ae5db12064f784",
       "step": 0.001,
       "style": "IPY_MODEL_985fb42e216047cb89794b82768ada81"
      }
     },
     "1975af5ef0634c178fb67da9f1074951": {
      "model_module": "@jupyter-widgets/controls",
      "model_module_version": "1.5.0",
      "model_name": "DescriptionStyleModel",
      "state": {
       "description_width": ""
      }
     },
     "19a7bc9940c24b10a61a7ec9aec4f8f7": {
      "model_module": "@jupyter-widgets/controls",
      "model_module_version": "1.5.0",
      "model_name": "FloatTextModel",
      "state": {
       "description": "Total Buffer:",
       "layout": "IPY_MODEL_d26cb2e1231c4f5689c99bfe92c3cdda",
       "step": 0.001,
       "style": "IPY_MODEL_c151f2cee1f8459a9e757304e216b5fb"
      }
     },
     "19fcdde9184e4d899b29d6f78968bbd9": {
      "model_module": "@jupyter-widgets/base",
      "model_module_version": "1.2.0",
      "model_name": "LayoutModel",
      "state": {}
     },
     "1c8b8f3deb6d4f5d8323841594812770": {
      "model_module": "@jupyter-widgets/controls",
      "model_module_version": "1.5.0",
      "model_name": "DescriptionStyleModel",
      "state": {
       "description_width": ""
      }
     },
     "1d23ec183ea041e0804794b9e64f7c51": {
      "model_module": "@jupyter-widgets/base",
      "model_module_version": "1.2.0",
      "model_name": "LayoutModel",
      "state": {}
     },
     "1e0d099669a64d0c992c78c4070e8e4c": {
      "model_module": "@jupyter-widgets/controls",
      "model_module_version": "1.5.0",
      "model_name": "FloatTextModel",
      "state": {
       "description": "Total Buffer:",
       "layout": "IPY_MODEL_ed60dcb30c9c4075bf28db0c16a56b9a",
       "step": 0.001,
       "style": "IPY_MODEL_0c4bb98e734f426fb29a33d049cf62a2"
      }
     },
     "1e27ca87ed934b15b8785fb68523fdde": {
      "model_module": "@jupyter-widgets/controls",
      "model_module_version": "1.5.0",
      "model_name": "DescriptionStyleModel",
      "state": {
       "description_width": ""
      }
     },
     "1faea118ee7f4659b3c566fce99b8271": {
      "model_module": "@jupyter-widgets/controls",
      "model_module_version": "1.5.0",
      "model_name": "HBoxModel",
      "state": {
       "children": [
        "IPY_MODEL_0c44869878cc4e429b195eb9275f61a1",
        "IPY_MODEL_ed052bee370344598be85c7c6f2431fc",
        "IPY_MODEL_348e92f42a104b069603b3f8ec70c0eb"
       ],
       "layout": "IPY_MODEL_3b2dba1088e4418ca3d1561061124ef7"
      }
     },
     "1fc2ecf8973141d4b91153065d65dee0": {
      "model_module": "@jupyter-widgets/base",
      "model_module_version": "1.2.0",
      "model_name": "LayoutModel",
      "state": {}
     },
     "1ffb8141e3aa443d8ad4af11a461a889": {
      "model_module": "@jupyter-widgets/controls",
      "model_module_version": "1.5.0",
      "model_name": "FloatTextModel",
      "state": {
       "description": "NaCl:",
       "layout": "IPY_MODEL_9bf3efd05c634c08a7c164e91b1f6390",
       "step": 0.001,
       "style": "IPY_MODEL_1e27ca87ed934b15b8785fb68523fdde",
       "value": 0.5
      }
     },
     "206cb6f69ab94bc4bc3cb6bd0546cc7f": {
      "model_module": "@jupyter-widgets/base",
      "model_module_version": "1.2.0",
      "model_name": "LayoutModel",
      "state": {}
     },
     "20a41e289954429bb7ce20777a7e86bc": {
      "model_module": "@jupyter-widgets/controls",
      "model_module_version": "1.5.0",
      "model_name": "FloatTextModel",
      "state": {
       "description": "NaCl:",
       "layout": "IPY_MODEL_0a5cbc0df6fc4a84be76490406e218da",
       "step": 0.001,
       "style": "IPY_MODEL_c37cd3d9666d486ea818631be4ed07bd",
       "value": 0.1
      }
     },
     "20e293abdfa4427cbae894ab54070a49": {
      "model_module": "@jupyter-widgets/controls",
      "model_module_version": "1.5.0",
      "model_name": "FloatTextModel",
      "state": {
       "description": "NaCl:",
       "layout": "IPY_MODEL_d1226966935945dea755ea7a9a040f05",
       "step": 0.001,
       "style": "IPY_MODEL_b05a6fef49874232a04150bd845d876e",
       "value": 0.1
      }
     },
     "21c3321000914757a3922b1e84dc79a9": {
      "model_module": "@jupyter-widgets/controls",
      "model_module_version": "1.5.0",
      "model_name": "DescriptionStyleModel",
      "state": {
       "description_width": ""
      }
     },
     "21d3a6b151f843fca6f51a9b8c7fa2c2": {
      "model_module": "@jupyter-widgets/controls",
      "model_module_version": "1.5.0",
      "model_name": "DescriptionStyleModel",
      "state": {
       "description_width": ""
      }
     },
     "21e238385ea74eeea77421f034191409": {
      "model_module": "@jupyter-widgets/base",
      "model_module_version": "1.2.0",
      "model_name": "LayoutModel",
      "state": {}
     },
     "224c7def8b624de38269246afec63b20": {
      "model_module": "@jupyter-widgets/base",
      "model_module_version": "1.2.0",
      "model_name": "LayoutModel",
      "state": {}
     },
     "2287a8b4a4774b59b9467ecc4c8a5b35": {
      "model_module": "@jupyter-widgets/base",
      "model_module_version": "1.2.0",
      "model_name": "LayoutModel",
      "state": {}
     },
     "228abfd4a736401f872c226f63dca632": {
      "model_module": "@jupyter-widgets/base",
      "model_module_version": "1.2.0",
      "model_name": "LayoutModel",
      "state": {}
     },
     "24b741777e544d8e86b39bc3f1b63b82": {
      "model_module": "@jupyter-widgets/base",
      "model_module_version": "1.2.0",
      "model_name": "LayoutModel",
      "state": {}
     },
     "24d4f8dd83b8409099c8deedc523bf0d": {
      "model_module": "@jupyter-widgets/controls",
      "model_module_version": "1.5.0",
      "model_name": "FloatTextModel",
      "state": {
       "description": "NaCl:",
       "layout": "IPY_MODEL_bfb6c11a88e941e38e44d5c8e4f18b51",
       "step": 0.001,
       "style": "IPY_MODEL_6a4d1860be7d41b8aee4be0b7de3e8e9",
       "value": 0.1
      }
     },
     "24db7a506d7c4c33aa3e9b2fa46e585b": {
      "model_module": "@jupyter-widgets/controls",
      "model_module_version": "1.5.0",
      "model_name": "DescriptionStyleModel",
      "state": {
       "description_width": ""
      }
     },
     "252936e0d30e424cb95e1f190b64fc3e": {
      "model_module": "@jupyter-widgets/controls",
      "model_module_version": "1.5.0",
      "model_name": "FloatTextModel",
      "state": {
       "description": "pH:",
       "layout": "IPY_MODEL_444b5431303d4e268a6f2649274ffcba",
       "step": 0.01,
       "style": "IPY_MODEL_8f1e476060324a2b90df57d8237a8e7f",
       "value": 7
      }
     },
     "258f61e5075642cd84aaa699ee111bce": {
      "model_module": "@jupyter-widgets/output",
      "model_module_version": "1.0.0",
      "model_name": "OutputModel",
      "state": {
       "layout": "IPY_MODEL_6d8e3811bf5a4e6dafac26ba4fd924c2",
       "outputs": [
        {
         "name": "stdout",
         "output_type": "stream",
         "text": "MES Sodium: 0.0g   MES: 0.0g   NaCl: 5.844g\n"
        }
       ]
      }
     },
     "25cdc0f473ec4fa2bff22f93db094b47": {
      "model_module": "@jupyter-widgets/controls",
      "model_module_version": "1.5.0",
      "model_name": "DescriptionStyleModel",
      "state": {
       "description_width": ""
      }
     },
     "2627571acaac4f1e96d4d2e5febb280a": {
      "model_module": "@jupyter-widgets/base",
      "model_module_version": "1.2.0",
      "model_name": "LayoutModel",
      "state": {}
     },
     "282d0b6574c7404eb0be1609aece06b6": {
      "model_module": "@jupyter-widgets/controls",
      "model_module_version": "1.5.0",
      "model_name": "FloatTextModel",
      "state": {
       "description": "pH:",
       "layout": "IPY_MODEL_5844760db923479b96611887e62765df",
       "step": 0.01,
       "style": "IPY_MODEL_3fa01d03161d41619920d89bbd2b1b1f",
       "value": 5.5
      }
     },
     "2992c86359144b8ba124a5648df3aed6": {
      "model_module": "@jupyter-widgets/base",
      "model_module_version": "1.2.0",
      "model_name": "LayoutModel",
      "state": {}
     },
     "2992fddec881457a8ee40dfe62a5bff7": {
      "model_module": "@jupyter-widgets/base",
      "model_module_version": "1.2.0",
      "model_name": "LayoutModel",
      "state": {}
     },
     "2a96ab81aa704a6aa09ab78f99b0e285": {
      "model_module": "@jupyter-widgets/base",
      "model_module_version": "1.2.0",
      "model_name": "LayoutModel",
      "state": {}
     },
     "2ab91ea0df5f49b4a62386ec73729ad6": {
      "model_module": "@jupyter-widgets/controls",
      "model_module_version": "1.5.0",
      "model_name": "DescriptionStyleModel",
      "state": {
       "description_width": ""
      }
     },
     "2ac13ce6b0b4495293fb7b48aebac90f": {
      "model_module": "@jupyter-widgets/controls",
      "model_module_version": "1.5.0",
      "model_name": "DescriptionStyleModel",
      "state": {
       "description_width": ""
      }
     },
     "2b0d3d1a4bb5442dae4babdd6df7b87f": {
      "model_module": "@jupyter-widgets/controls",
      "model_module_version": "1.5.0",
      "model_name": "FloatTextModel",
      "state": {
       "description": "NaCl:",
       "layout": "IPY_MODEL_3ca3e3631b894266a8a786de2fc70d81",
       "step": 0.001,
       "style": "IPY_MODEL_5a786e1789e1497dac8e1b5c2b660ca5",
       "value": 0.1
      }
     },
     "2b7f85d204214eb3ae2ddbf85a9bf851": {
      "model_module": "@jupyter-widgets/controls",
      "model_module_version": "1.5.0",
      "model_name": "FloatTextModel",
      "state": {
       "description": "Total Buffer:",
       "layout": "IPY_MODEL_21e238385ea74eeea77421f034191409",
       "step": 0.001,
       "style": "IPY_MODEL_5c503612715349e7875fc2e4bcefb7e9"
      }
     },
     "2c4e4003fed84057b9b8562e6710d634": {
      "model_module": "@jupyter-widgets/base",
      "model_module_version": "1.2.0",
      "model_name": "LayoutModel",
      "state": {}
     },
     "2cd987a473bc45fd82eb8dec5265ebf8": {
      "model_module": "@jupyter-widgets/controls",
      "model_module_version": "1.5.0",
      "model_name": "DescriptionStyleModel",
      "state": {
       "description_width": ""
      }
     },
     "2e608502ebde4d7085ea1a51d8cacb37": {
      "model_module": "@jupyter-widgets/controls",
      "model_module_version": "1.5.0",
      "model_name": "FloatTextModel",
      "state": {
       "description": "pH:",
       "layout": "IPY_MODEL_3844012157144d16857bf47efe338ee9",
       "step": 0.01,
       "style": "IPY_MODEL_8c1e810a85e34727a9cf4b682c8e1dcd",
       "value": 4.76
      }
     },
     "2eb5356b6add4a6a836301bce0eeec88": {
      "model_module": "@jupyter-widgets/controls",
      "model_module_version": "1.5.0",
      "model_name": "FloatTextModel",
      "state": {
       "description": "NaCl:",
       "layout": "IPY_MODEL_8100760807664f6eabdb177d5c9aa436",
       "step": 0.001,
       "style": "IPY_MODEL_8f4568c0807542689325e84d1e12cfd6",
       "value": 0.1
      }
     },
     "2ec05fce870f4a46a7bdfb250b29dd90": {
      "model_module": "@jupyter-widgets/base",
      "model_module_version": "1.2.0",
      "model_name": "LayoutModel",
      "state": {}
     },
     "2f3f7f643ac847e39603841ae71cb96c": {
      "model_module": "@jupyter-widgets/base",
      "model_module_version": "1.2.0",
      "model_name": "LayoutModel",
      "state": {}
     },
     "2fa9c92127104e6c9334b81d35cefe39": {
      "model_module": "@jupyter-widgets/base",
      "model_module_version": "1.2.0",
      "model_name": "LayoutModel",
      "state": {}
     },
     "30202678d6544996aa2a9ec8522ae8eb": {
      "model_module": "@jupyter-widgets/controls",
      "model_module_version": "1.5.0",
      "model_name": "DescriptionStyleModel",
      "state": {
       "description_width": ""
      }
     },
     "32363a34c2ce4a86a384125d6ac79c4e": {
      "model_module": "@jupyter-widgets/controls",
      "model_module_version": "1.5.0",
      "model_name": "FloatTextModel",
      "state": {
       "description": "Total Buffer:",
       "layout": "IPY_MODEL_e288ea8460f7490580f6390bc0181bf4",
       "step": 0.001,
       "style": "IPY_MODEL_3c2b369d8dd64e608467171f319f4967"
      }
     },
     "337640cc851d4ff48a928876b4d76270": {
      "model_module": "@jupyter-widgets/output",
      "model_module_version": "1.0.0",
      "model_name": "OutputModel",
      "state": {
       "layout": "IPY_MODEL_a3d14f8be4d44b6581186862b849cd79",
       "outputs": [
        {
         "name": "stdout",
         "output_type": "stream",
         "text": "NaPi Dibasic Anhydrous: 0.1480682784121482g   NaPi Monobasic Monohydrate: 3.7197925434059433g   NaCl: 29.22g\n"
        }
       ]
      }
     },
     "33e54ba916ae41e2a3f309c613ec4cb1": {
      "model_module": "@jupyter-widgets/base",
      "model_module_version": "1.2.0",
      "model_name": "LayoutModel",
      "state": {}
     },
     "342e6d55446c4a44bed815044621d1dd": {
      "model_module": "@jupyter-widgets/base",
      "model_module_version": "1.2.0",
      "model_name": "LayoutModel",
      "state": {}
     },
     "348e92f42a104b069603b3f8ec70c0eb": {
      "model_module": "@jupyter-widgets/controls",
      "model_module_version": "1.5.0",
      "model_name": "FloatTextModel",
      "state": {
       "description": "pH:",
       "layout": "IPY_MODEL_bb15598afcc84fe2860a212a2ed10caf",
       "step": 0.01,
       "style": "IPY_MODEL_9eb00338556947a9930007087d469903",
       "value": 4.76
      }
     },
     "35633064b7ad4fb39145451085824b3d": {
      "model_module": "@jupyter-widgets/base",
      "model_module_version": "1.2.0",
      "model_name": "LayoutModel",
      "state": {}
     },
     "3582f23aa4e24ecb8dda587a9ea3da83": {
      "model_module": "@jupyter-widgets/controls",
      "model_module_version": "1.5.0",
      "model_name": "FloatTextModel",
      "state": {
       "description": "Total Buffer:",
       "layout": "IPY_MODEL_66c182fd96474768ba04dd0cbbded332",
       "step": 0.001,
       "style": "IPY_MODEL_5fa0c093767c46639b41ed76b66c5c0e"
      }
     },
     "366396bfcdad4fdd97dce864283bbaa7": {
      "model_module": "@jupyter-widgets/output",
      "model_module_version": "1.0.0",
      "model_name": "OutputModel",
      "state": {
       "layout": "IPY_MODEL_8b1ea1e0255e4791bdefa4e27dcace39",
       "outputs": [
        {
         "name": "stdout",
         "output_type": "stream",
         "text": "MES Sodium: 0.0g   MES: 0.0g   NaCl: 5.844g\n"
        }
       ]
      }
     },
     "36a49468226546baab545cc0c1345ab6": {
      "model_module": "@jupyter-widgets/base",
      "model_module_version": "1.2.0",
      "model_name": "LayoutModel",
      "state": {}
     },
     "36a4a9bd07ed49f1a8d6d07fa627d675": {
      "model_module": "@jupyter-widgets/base",
      "model_module_version": "1.2.0",
      "model_name": "LayoutModel",
      "state": {}
     },
     "36b62a6d7a3e42b480bc06f1836d5a7e": {
      "model_module": "@jupyter-widgets/controls",
      "model_module_version": "1.5.0",
      "model_name": "FloatTextModel",
      "state": {
       "description": "NaCl:",
       "layout": "IPY_MODEL_9c8880ee04d64c95b6de60152d795a3b",
       "step": 0.001,
       "style": "IPY_MODEL_14c7c74c37a849f0b4cae2546c5ac5f6",
       "value": 0.25
      }
     },
     "36c12c978e5a44bcb1fe0eafaf8c115d": {
      "model_module": "@jupyter-widgets/controls",
      "model_module_version": "1.5.0",
      "model_name": "FloatTextModel",
      "state": {
       "description": "Total Buffer:",
       "layout": "IPY_MODEL_cb93ca315f874a2eaa63148ea682721d",
       "step": 0.001,
       "style": "IPY_MODEL_96e4df8e023f456296712f831200d0ec"
      }
     },
     "36e70ed05ee44243a27aaf0c2cd9f2a5": {
      "model_module": "@jupyter-widgets/base",
      "model_module_version": "1.2.0",
      "model_name": "LayoutModel",
      "state": {}
     },
     "370e53ce782944cf895a3dcb9aee8ded": {
      "model_module": "@jupyter-widgets/controls",
      "model_module_version": "1.5.0",
      "model_name": "FloatTextModel",
      "state": {
       "description": "pH:",
       "layout": "IPY_MODEL_f0c0e62f063e4cdbb48918ba0c498e7c",
       "step": 0.01,
       "style": "IPY_MODEL_47d1d25697ab45f989511945ef27c7d8",
       "value": 7
      }
     },
     "3844012157144d16857bf47efe338ee9": {
      "model_module": "@jupyter-widgets/base",
      "model_module_version": "1.2.0",
      "model_name": "LayoutModel",
      "state": {}
     },
     "3a6218de82404e95be39ed7247410230": {
      "model_module": "@jupyter-widgets/base",
      "model_module_version": "1.2.0",
      "model_name": "LayoutModel",
      "state": {}
     },
     "3b2dba1088e4418ca3d1561061124ef7": {
      "model_module": "@jupyter-widgets/base",
      "model_module_version": "1.2.0",
      "model_name": "LayoutModel",
      "state": {}
     },
     "3b7272127da14e69b5ab0d3edee2ae64": {
      "model_module": "@jupyter-widgets/controls",
      "model_module_version": "1.5.0",
      "model_name": "HBoxModel",
      "state": {
       "children": [
        "IPY_MODEL_bbcab5a4625947edbc21cc067098c072",
        "IPY_MODEL_8b0938d1af2a4768bd495c53d03e33f3",
        "IPY_MODEL_ddc2328dbb334c008f778884086e7f3a"
       ],
       "layout": "IPY_MODEL_e9c0d96b3f86462c9d65935acff96574"
      }
     },
     "3bd42afb0c964a638af873f8354b7edd": {
      "model_module": "@jupyter-widgets/base",
      "model_module_version": "1.2.0",
      "model_name": "LayoutModel",
      "state": {}
     },
     "3bfcc50c80024a6d969f3b1cc68dfc5c": {
      "model_module": "@jupyter-widgets/controls",
      "model_module_version": "1.5.0",
      "model_name": "FloatTextModel",
      "state": {
       "description": "Total Buffer:",
       "layout": "IPY_MODEL_63897f028b1a42578a02bed3fadc16e5",
       "step": 0.001,
       "style": "IPY_MODEL_2cd987a473bc45fd82eb8dec5265ebf8"
      }
     },
     "3c18b452e8ac4a7d96eb33586c60fba4": {
      "model_module": "@jupyter-widgets/controls",
      "model_module_version": "1.5.0",
      "model_name": "DescriptionStyleModel",
      "state": {
       "description_width": ""
      }
     },
     "3c2b369d8dd64e608467171f319f4967": {
      "model_module": "@jupyter-widgets/controls",
      "model_module_version": "1.5.0",
      "model_name": "DescriptionStyleModel",
      "state": {
       "description_width": ""
      }
     },
     "3ca3e3631b894266a8a786de2fc70d81": {
      "model_module": "@jupyter-widgets/base",
      "model_module_version": "1.2.0",
      "model_name": "LayoutModel",
      "state": {}
     },
     "3cb4c957b1b049c4968a7279a79637ed": {
      "model_module": "@jupyter-widgets/controls",
      "model_module_version": "1.5.0",
      "model_name": "DescriptionStyleModel",
      "state": {
       "description_width": ""
      }
     },
     "3d2e02c1796b4c8baaadc97c3db30fb6": {
      "model_module": "@jupyter-widgets/controls",
      "model_module_version": "1.5.0",
      "model_name": "DescriptionStyleModel",
      "state": {
       "description_width": ""
      }
     },
     "3f662e023b5a4eec9b8167b6dd30f8a6": {
      "model_module": "@jupyter-widgets/controls",
      "model_module_version": "1.5.0",
      "model_name": "HBoxModel",
      "state": {
       "children": [
        "IPY_MODEL_9781533fca6340f49c54cfc74bf01de5",
        "IPY_MODEL_74cb8266dc2d415796b8e4342d00068a",
        "IPY_MODEL_ab07a8ad63854b959bb221cac9cd6502"
       ],
       "layout": "IPY_MODEL_d6bce893e2db439c8fcfbffa30c06ff4"
      }
     },
     "3fa01d03161d41619920d89bbd2b1b1f": {
      "model_module": "@jupyter-widgets/controls",
      "model_module_version": "1.5.0",
      "model_name": "DescriptionStyleModel",
      "state": {
       "description_width": ""
      }
     },
     "400562254fc346d3b7d13c7cafc5b9a5": {
      "model_module": "@jupyter-widgets/base",
      "model_module_version": "1.2.0",
      "model_name": "LayoutModel",
      "state": {}
     },
     "40d4d7c643964299a4caa0746435598e": {
      "model_module": "@jupyter-widgets/base",
      "model_module_version": "1.2.0",
      "model_name": "LayoutModel",
      "state": {}
     },
     "415b024269384225a96a7924b45c7b9f": {
      "model_module": "@jupyter-widgets/output",
      "model_module_version": "1.0.0",
      "model_name": "OutputModel",
      "state": {
       "layout": "IPY_MODEL_36a4a9bd07ed49f1a8d6d07fa627d675"
      }
     },
     "42910c0f9b5d4fec8c05aab4c18ad7a3": {
      "model_module": "@jupyter-widgets/base",
      "model_module_version": "1.2.0",
      "model_name": "LayoutModel",
      "state": {}
     },
     "4293e26fb6194c9d8526af652d4cc74b": {
      "model_module": "@jupyter-widgets/base",
      "model_module_version": "1.2.0",
      "model_name": "LayoutModel",
      "state": {}
     },
     "429f9db2a019449da7e6d42f71cee1c4": {
      "model_module": "@jupyter-widgets/controls",
      "model_module_version": "1.5.0",
      "model_name": "FloatTextModel",
      "state": {
       "description": "Total Buffer:",
       "layout": "IPY_MODEL_8708cdeef2aa45a981131cdfad3ccb50",
       "step": 0.001,
       "style": "IPY_MODEL_e892835c2add423d964926744ec2f6a2"
      }
     },
     "4310f3dc36994f4e982edc71ecc9f989": {
      "model_module": "@jupyter-widgets/base",
      "model_module_version": "1.2.0",
      "model_name": "LayoutModel",
      "state": {}
     },
     "4446a06ffcc3487685db54e7531cd679": {
      "model_module": "@jupyter-widgets/output",
      "model_module_version": "1.0.0",
      "model_name": "OutputModel",
      "state": {
       "layout": "IPY_MODEL_8c7a4af9906249c8b33740fa47d99686",
       "outputs": [
        {
         "name": "stdout",
         "output_type": "stream",
         "text": "NaPi Dibasic Anhydrous: 0.0g   NaPi Monobasic Monohydrate: 0.0g   NaCl: 5.844g\n"
        }
       ]
      }
     },
     "4447f819dbcb4f279d37806b41c5c196": {
      "model_module": "@jupyter-widgets/output",
      "model_module_version": "1.0.0",
      "model_name": "OutputModel",
      "state": {
       "layout": "IPY_MODEL_1d23ec183ea041e0804794b9e64f7c51",
       "outputs": [
        {
         "name": "stdout",
         "output_type": "stream",
         "text": "MES Sodium: 0.0g   MES: 0.0g   NaCl: 5.844g\n"
        }
       ]
      }
     },
     "444b5431303d4e268a6f2649274ffcba": {
      "model_module": "@jupyter-widgets/base",
      "model_module_version": "1.2.0",
      "model_name": "LayoutModel",
      "state": {}
     },
     "44613a73b84541ebb62a0af33527603d": {
      "model_module": "@jupyter-widgets/output",
      "model_module_version": "1.0.0",
      "model_name": "OutputModel",
      "state": {
       "layout": "IPY_MODEL_97c25861c4794628be64679e393e656e"
      }
     },
     "457e347b4a914c1d9ef9813e81055abc": {
      "model_module": "@jupyter-widgets/base",
      "model_module_version": "1.2.0",
      "model_name": "LayoutModel",
      "state": {}
     },
     "45804d0b015645cab66ccb8c0aaef0a2": {
      "model_module": "@jupyter-widgets/base",
      "model_module_version": "1.2.0",
      "model_name": "LayoutModel",
      "state": {}
     },
     "45cdd89e515649ae884cbd62e7800648": {
      "model_module": "@jupyter-widgets/controls",
      "model_module_version": "1.5.0",
      "model_name": "FloatTextModel",
      "state": {
       "description": "NaCl:",
       "layout": "IPY_MODEL_026a9d1f7d7049559e73616b4a538ee5",
       "step": 0.001,
       "style": "IPY_MODEL_8ed6a1a67639408888d67055e2b62d88",
       "value": 0.1
      }
     },
     "45d8d6c3475a48ca9795a46998dd00f4": {
      "model_module": "@jupyter-widgets/controls",
      "model_module_version": "1.5.0",
      "model_name": "HBoxModel",
      "state": {
       "children": [
        "IPY_MODEL_3bfcc50c80024a6d969f3b1cc68dfc5c",
        "IPY_MODEL_fa2753d9432c44beb8e2d8135d88bc5d",
        "IPY_MODEL_7d708611aae24599940d9c769d0e5819"
       ],
       "layout": "IPY_MODEL_f631bb4d6e9d454a82d0d16c6aac6e1f"
      }
     },
     "46698fb52c134e8784c446e5908a609c": {
      "model_module": "@jupyter-widgets/controls",
      "model_module_version": "1.5.0",
      "model_name": "HBoxModel",
      "state": {
       "children": [
        "IPY_MODEL_c53b85403409479bb16ed724a2eb8de8",
        "IPY_MODEL_aafa3f77ce5c469c83b26c01e9779873",
        "IPY_MODEL_fbcb8f0056e44da8bd3b22a493695783"
       ],
       "layout": "IPY_MODEL_acc676a57bed474fae4d20a0568567ad"
      }
     },
     "47d1d25697ab45f989511945ef27c7d8": {
      "model_module": "@jupyter-widgets/controls",
      "model_module_version": "1.5.0",
      "model_name": "DescriptionStyleModel",
      "state": {
       "description_width": ""
      }
     },
     "486f4b5f4a6e4481b7e48ecc064b391a": {
      "model_module": "@jupyter-widgets/controls",
      "model_module_version": "1.5.0",
      "model_name": "FloatTextModel",
      "state": {
       "description": "Total Buffer:",
       "layout": "IPY_MODEL_fcfaaf69175649e6b25bd379dab6c12c",
       "step": 0.001,
       "style": "IPY_MODEL_f7f6139ac943465a9e85e140d6537a83",
       "value": 0.02
      }
     },
     "4a081c5cb62b4b3a833753aac46d06a5": {
      "model_module": "@jupyter-widgets/base",
      "model_module_version": "1.2.0",
      "model_name": "LayoutModel",
      "state": {}
     },
     "4a0a3b834c354a9d950396fa78a58db4": {
      "model_module": "@jupyter-widgets/base",
      "model_module_version": "1.2.0",
      "model_name": "LayoutModel",
      "state": {}
     },
     "4a29a6d006254d15b4a0d8ae442a3f16": {
      "model_module": "@jupyter-widgets/controls",
      "model_module_version": "1.5.0",
      "model_name": "DescriptionStyleModel",
      "state": {
       "description_width": ""
      }
     },
     "4af8ebb74a5944eda352b39e04c1a750": {
      "model_module": "@jupyter-widgets/base",
      "model_module_version": "1.2.0",
      "model_name": "LayoutModel",
      "state": {}
     },
     "4b8508a880344fbfaca976e722a06896": {
      "model_module": "@jupyter-widgets/controls",
      "model_module_version": "1.5.0",
      "model_name": "FloatTextModel",
      "state": {
       "description": "NaCl:",
       "layout": "IPY_MODEL_e54f3bcf6ebf451aa2bb3748b4280a4e",
       "step": 0.001,
       "style": "IPY_MODEL_ed3b737f12d940b187c0422a2e31ee96",
       "value": 0.1
      }
     },
     "4c3472bf82e0419398f002ebc706457f": {
      "model_module": "@jupyter-widgets/controls",
      "model_module_version": "1.5.0",
      "model_name": "DescriptionStyleModel",
      "state": {
       "description_width": ""
      }
     },
     "4c414798093447df922213253f27d216": {
      "model_module": "@jupyter-widgets/controls",
      "model_module_version": "1.5.0",
      "model_name": "HBoxModel",
      "state": {
       "children": [
        "IPY_MODEL_5a3096125e6f42eea9996784701e83a3",
        "IPY_MODEL_89470395c7e045d7951630fdf24801f3",
        "IPY_MODEL_252936e0d30e424cb95e1f190b64fc3e"
       ],
       "layout": "IPY_MODEL_7b03118c2f30464691428c7e6e3733c6"
      }
     },
     "4ccb1badc4c74e25826dfb68796166c2": {
      "model_module": "@jupyter-widgets/controls",
      "model_module_version": "1.5.0",
      "model_name": "DescriptionStyleModel",
      "state": {
       "description_width": ""
      }
     },
     "4d6697b840304010820e1e9f79b471a7": {
      "model_module": "@jupyter-widgets/controls",
      "model_module_version": "1.5.0",
      "model_name": "HBoxModel",
      "state": {
       "children": [
        "IPY_MODEL_8e90743f8fec48db8c02e16000298f8c",
        "IPY_MODEL_0b83dc7d9cd14ec0a9c17adce3c832e9",
        "IPY_MODEL_370e53ce782944cf895a3dcb9aee8ded"
       ],
       "layout": "IPY_MODEL_45804d0b015645cab66ccb8c0aaef0a2"
      }
     },
     "4e59b1b4ad014e42a1d54dbf9ff5fe81": {
      "model_module": "@jupyter-widgets/base",
      "model_module_version": "1.2.0",
      "model_name": "LayoutModel",
      "state": {}
     },
     "4e88f6f89c4c46bb8f3aedb386685aa1": {
      "model_module": "@jupyter-widgets/controls",
      "model_module_version": "1.5.0",
      "model_name": "DescriptionStyleModel",
      "state": {
       "description_width": ""
      }
     },
     "4ede4a339c0b405c889070ebde2c10bb": {
      "model_module": "@jupyter-widgets/controls",
      "model_module_version": "1.5.0",
      "model_name": "FloatTextModel",
      "state": {
       "description": "NaCl:",
       "layout": "IPY_MODEL_19fcdde9184e4d899b29d6f78968bbd9",
       "step": 0.001,
       "style": "IPY_MODEL_dd91c2741a614d50a7f3907b94406158",
       "value": 0.1
      }
     },
     "4f9dbffd0bea49a59844ee95034f565d": {
      "model_module": "@jupyter-widgets/controls",
      "model_module_version": "1.5.0",
      "model_name": "FloatTextModel",
      "state": {
       "description": "NaCl:",
       "layout": "IPY_MODEL_a1ddbe3132284b219714bfb3cecf99c2",
       "step": 0.001,
       "style": "IPY_MODEL_85881e7551834120adb83ef7c8f69732",
       "value": 0.1
      }
     },
     "4fa347781598463894753128ed3bc7f0": {
      "model_module": "@jupyter-widgets/base",
      "model_module_version": "1.2.0",
      "model_name": "LayoutModel",
      "state": {}
     },
     "53506cbdceec4b15a6d3802ec922f79f": {
      "model_module": "@jupyter-widgets/base",
      "model_module_version": "1.2.0",
      "model_name": "LayoutModel",
      "state": {}
     },
     "552b087983124e80b3c95d48185b869d": {
      "model_module": "@jupyter-widgets/controls",
      "model_module_version": "1.5.0",
      "model_name": "HBoxModel",
      "state": {
       "children": [
        "IPY_MODEL_06e5d8f255f7473fada4aee2a613c7a8",
        "IPY_MODEL_ad00c8cfc18f431588a511588850ea8c",
        "IPY_MODEL_dcdc6181cacb41e4abfbb49ed9807e5a"
       ],
       "layout": "IPY_MODEL_36a49468226546baab545cc0c1345ab6"
      }
     },
     "554e6cfd2d1a431eb2be4b8465130c75": {
      "model_module": "@jupyter-widgets/controls",
      "model_module_version": "1.5.0",
      "model_name": "DescriptionStyleModel",
      "state": {
       "description_width": ""
      }
     },
     "559e611619494bf59353320ec4337635": {
      "model_module": "@jupyter-widgets/output",
      "model_module_version": "1.0.0",
      "model_name": "OutputModel",
      "state": {
       "layout": "IPY_MODEL_b53e3400367d4824ad699f61abbb92c2",
       "outputs": [
        {
         "name": "stdout",
         "output_type": "stream",
         "text": "NaPi Dibasic Anhydrous: 1.8183090736857295g   NaPi Monobasic Monohydrate: 0.992341074401988g   NaCl: 29.22g\n"
        }
       ]
      }
     },
     "569d673a16c74c92af50447939645b35": {
      "model_module": "@jupyter-widgets/base",
      "model_module_version": "1.2.0",
      "model_name": "LayoutModel",
      "state": {}
     },
     "57f6a23818414a6db27a70e6f0273167": {
      "model_module": "@jupyter-widgets/controls",
      "model_module_version": "1.5.0",
      "model_name": "DescriptionStyleModel",
      "state": {
       "description_width": ""
      }
     },
     "5844760db923479b96611887e62765df": {
      "model_module": "@jupyter-widgets/base",
      "model_module_version": "1.2.0",
      "model_name": "LayoutModel",
      "state": {}
     },
     "586e327245544f60b302d21f7b739a2f": {
      "model_module": "@jupyter-widgets/controls",
      "model_module_version": "1.5.0",
      "model_name": "HBoxModel",
      "state": {
       "children": [
        "IPY_MODEL_3582f23aa4e24ecb8dda587a9ea3da83",
        "IPY_MODEL_084493c4c7004afc8998ab5f95f02ad1",
        "IPY_MODEL_df4c7f5e79954bea81e1b5a937a1df35"
       ],
       "layout": "IPY_MODEL_db4f407163294e7793f70b0a191e1c01"
      }
     },
     "5903e4745a094b04b8e48550ccac7845": {
      "model_module": "@jupyter-widgets/base",
      "model_module_version": "1.2.0",
      "model_name": "LayoutModel",
      "state": {}
     },
     "592c34af31dd4eef87b437fcc5e9935a": {
      "model_module": "@jupyter-widgets/base",
      "model_module_version": "1.2.0",
      "model_name": "LayoutModel",
      "state": {}
     },
     "5a3096125e6f42eea9996784701e83a3": {
      "model_module": "@jupyter-widgets/controls",
      "model_module_version": "1.5.0",
      "model_name": "FloatTextModel",
      "state": {
       "description": "Total Buffer:",
       "layout": "IPY_MODEL_d23375270031403aaeea303ce0b44c42",
       "step": 0.001,
       "style": "IPY_MODEL_7920fd6073ab4ec3823bb9334430be9e"
      }
     },
     "5a39d5a0e6744adf8553f5005701cd82": {
      "model_module": "@jupyter-widgets/controls",
      "model_module_version": "1.5.0",
      "model_name": "FloatTextModel",
      "state": {
       "description": "NaCl:",
       "layout": "IPY_MODEL_888e00f0fa0b4cabbc5044c7bbf29a46",
       "step": 0.001,
       "style": "IPY_MODEL_786f609edf5342c398dfb885e282c6ac",
       "value": 0.1
      }
     },
     "5a786e1789e1497dac8e1b5c2b660ca5": {
      "model_module": "@jupyter-widgets/controls",
      "model_module_version": "1.5.0",
      "model_name": "DescriptionStyleModel",
      "state": {
       "description_width": ""
      }
     },
     "5bc4463797f04c6c86821dd72fd20835": {
      "model_module": "@jupyter-widgets/controls",
      "model_module_version": "1.5.0",
      "model_name": "FloatTextModel",
      "state": {
       "description": "Total Buffer:",
       "layout": "IPY_MODEL_89054346693d4f709b7e67bbc5bd9d88",
       "step": 0.001,
       "style": "IPY_MODEL_d38e84212083413fbb66a0b49c9d6a31",
       "value": 0.02
      }
     },
     "5bffbdc627134f2c97876abd9de7405b": {
      "model_module": "@jupyter-widgets/controls",
      "model_module_version": "1.5.0",
      "model_name": "FloatTextModel",
      "state": {
       "description": "pH:",
       "layout": "IPY_MODEL_12542d82eb8d4c188068c53e4f321379",
       "step": 0.01,
       "style": "IPY_MODEL_cc4d7cfccf734dd2a857aa42a38d282f",
       "value": 4.76
      }
     },
     "5c503612715349e7875fc2e4bcefb7e9": {
      "model_module": "@jupyter-widgets/controls",
      "model_module_version": "1.5.0",
      "model_name": "DescriptionStyleModel",
      "state": {
       "description_width": ""
      }
     },
     "5c5f0cd4cc3f4d19a21b33b07aa8df82": {
      "model_module": "@jupyter-widgets/base",
      "model_module_version": "1.2.0",
      "model_name": "LayoutModel",
      "state": {}
     },
     "5cd92f7dcc5b40d68ae4fba2ba30eb3b": {
      "model_module": "@jupyter-widgets/controls",
      "model_module_version": "1.5.0",
      "model_name": "DescriptionStyleModel",
      "state": {
       "description_width": ""
      }
     },
     "5d250a77305d4cb389499fadc8bc9030": {
      "model_module": "@jupyter-widgets/controls",
      "model_module_version": "1.5.0",
      "model_name": "FloatTextModel",
      "state": {
       "description": "pH:",
       "layout": "IPY_MODEL_f9265b827f854860b715bd924a439a18",
       "step": 0.01,
       "style": "IPY_MODEL_7a6843f5f7cd41af9b6f4662a0b8c9b2",
       "value": 6.8
      }
     },
     "5d86e5239ddb44f78463d2d781567279": {
      "model_module": "@jupyter-widgets/controls",
      "model_module_version": "1.5.0",
      "model_name": "DescriptionStyleModel",
      "state": {
       "description_width": ""
      }
     },
     "5e6817036a67433abee8b177ecff32d7": {
      "model_module": "@jupyter-widgets/controls",
      "model_module_version": "1.5.0",
      "model_name": "DescriptionStyleModel",
      "state": {
       "description_width": ""
      }
     },
     "5e948f6531b74d16850408b54d82c293": {
      "model_module": "@jupyter-widgets/base",
      "model_module_version": "1.2.0",
      "model_name": "LayoutModel",
      "state": {}
     },
     "5f379feda35e40ed894edde8ec132aca": {
      "model_module": "@jupyter-widgets/base",
      "model_module_version": "1.2.0",
      "model_name": "LayoutModel",
      "state": {}
     },
     "5f5028be3e85437a8b6fad6f30f69567": {
      "model_module": "@jupyter-widgets/output",
      "model_module_version": "1.0.0",
      "model_name": "OutputModel",
      "state": {
       "layout": "IPY_MODEL_8547a7201840499ebb6eef2dc1d4c7de"
      }
     },
     "5fa0c093767c46639b41ed76b66c5c0e": {
      "model_module": "@jupyter-widgets/controls",
      "model_module_version": "1.5.0",
      "model_name": "DescriptionStyleModel",
      "state": {
       "description_width": ""
      }
     },
     "61cbae590ef44aadafdcd021e43697e4": {
      "model_module": "@jupyter-widgets/controls",
      "model_module_version": "1.5.0",
      "model_name": "FloatTextModel",
      "state": {
       "description": "pH:",
       "layout": "IPY_MODEL_4fa347781598463894753128ed3bc7f0",
       "step": 0.01,
       "style": "IPY_MODEL_d700bce1d0ef486fa7edc101b0fea42b",
       "value": 5.5
      }
     },
     "62b408ff54d241d6817d1d9c199d1857": {
      "model_module": "@jupyter-widgets/output",
      "model_module_version": "1.0.0",
      "model_name": "OutputModel",
      "state": {
       "layout": "IPY_MODEL_4293e26fb6194c9d8526af652d4cc74b",
       "outputs": [
        {
         "name": "stdout",
         "output_type": "stream",
         "text": "Sodium Acetate Anhydrous: 5.904714045610553g   Glacial Acetic Acid: 1.6102084563885708mL   NaCl: 14.61g\n"
        }
       ]
      }
     },
     "63897f028b1a42578a02bed3fadc16e5": {
      "model_module": "@jupyter-widgets/base",
      "model_module_version": "1.2.0",
      "model_name": "LayoutModel",
      "state": {}
     },
     "648efeda32f045cd8d245a7120f18b3b": {
      "model_module": "@jupyter-widgets/base",
      "model_module_version": "1.2.0",
      "model_name": "LayoutModel",
      "state": {}
     },
     "659f7c43e01d4c9aae7fe5e4bb6b4b1c": {
      "model_module": "@jupyter-widgets/controls",
      "model_module_version": "1.5.0",
      "model_name": "FloatTextModel",
      "state": {
       "description": "Total Buffer:",
       "layout": "IPY_MODEL_effabcae0a6943b9b6b8ab7323e6ba70",
       "step": 0.001,
       "style": "IPY_MODEL_9b8f941df1ea4dbc9ab91401cc5c9f65"
      }
     },
     "6608326ca94744b6a7ad004c531d8dce": {
      "model_module": "@jupyter-widgets/controls",
      "model_module_version": "1.5.0",
      "model_name": "DescriptionStyleModel",
      "state": {
       "description_width": ""
      }
     },
     "661a09241b2849bfb06374ec93360433": {
      "model_module": "@jupyter-widgets/output",
      "model_module_version": "1.0.0",
      "model_name": "OutputModel",
      "state": {
       "layout": "IPY_MODEL_400562254fc346d3b7d13c7cafc5b9a5",
       "outputs": [
        {
         "name": "stdout",
         "output_type": "stream",
         "text": "MES Sodium: 0.0g   MES: 0.0g   NaCl: 5.844g\n"
        }
       ]
      }
     },
     "66215ac6bf714fe599b6f56f138d4af2": {
      "model_module": "@jupyter-widgets/base",
      "model_module_version": "1.2.0",
      "model_name": "LayoutModel",
      "state": {}
     },
     "663d5789c85548f6a510a11667896e82": {
      "model_module": "@jupyter-widgets/controls",
      "model_module_version": "1.5.0",
      "model_name": "DescriptionStyleModel",
      "state": {
       "description_width": ""
      }
     },
     "66c182fd96474768ba04dd0cbbded332": {
      "model_module": "@jupyter-widgets/base",
      "model_module_version": "1.2.0",
      "model_name": "LayoutModel",
      "state": {}
     },
     "66fd7fca60ac48cf85ea72268b599d9d": {
      "model_module": "@jupyter-widgets/output",
      "model_module_version": "1.0.0",
      "model_name": "OutputModel",
      "state": {
       "layout": "IPY_MODEL_c92131d878d54e88985ed0cb8b55b302",
       "outputs": [
        {
         "name": "stdout",
         "output_type": "stream",
         "text": "Sodium Acetate Anhydrous: 0.0g   Glacial Acetic Acid: 0.0mL   NaCl: 5.844g\n"
        }
       ]
      }
     },
     "674499da0bb14225911feac9487f2be6": {
      "model_module": "@jupyter-widgets/controls",
      "model_module_version": "1.5.0",
      "model_name": "HBoxModel",
      "state": {
       "children": [
        "IPY_MODEL_6cce7f7ec54c4b38a90f93475a95cf9a",
        "IPY_MODEL_b0009df528924f7fbae490162c10c27e",
        "IPY_MODEL_723a4511093b4aaa94f0548097ca4e72"
       ],
       "layout": "IPY_MODEL_7be16759682948628d58e63554bf66de"
      }
     },
     "67a07ad69f9d46afbd9cb382fbf40d3e": {
      "model_module": "@jupyter-widgets/controls",
      "model_module_version": "1.5.0",
      "model_name": "DescriptionStyleModel",
      "state": {
       "description_width": ""
      }
     },
     "682d902497624f1f8eacd71b644411d6": {
      "model_module": "@jupyter-widgets/base",
      "model_module_version": "1.2.0",
      "model_name": "LayoutModel",
      "state": {}
     },
     "6845e6fd06c342fc955412e696e69172": {
      "model_module": "@jupyter-widgets/base",
      "model_module_version": "1.2.0",
      "model_name": "LayoutModel",
      "state": {}
     },
     "693518769b574b6cb71b6228d251611f": {
      "model_module": "@jupyter-widgets/output",
      "model_module_version": "1.0.0",
      "model_name": "OutputModel",
      "state": {
       "layout": "IPY_MODEL_e0e40791fd7f4e2cacf83e5268221f5d"
      }
     },
     "6a417f49d2214ee6bf1457ac5f46a5c8": {
      "model_module": "@jupyter-widgets/base",
      "model_module_version": "1.2.0",
      "model_name": "LayoutModel",
      "state": {}
     },
     "6a4d1860be7d41b8aee4be0b7de3e8e9": {
      "model_module": "@jupyter-widgets/controls",
      "model_module_version": "1.5.0",
      "model_name": "DescriptionStyleModel",
      "state": {
       "description_width": ""
      }
     },
     "6b02747e2be54ba1aa3975a347b3651c": {
      "model_module": "@jupyter-widgets/controls",
      "model_module_version": "1.5.0",
      "model_name": "DescriptionStyleModel",
      "state": {
       "description_width": ""
      }
     },
     "6b75f803b57f4d7aa48a25e2283c718b": {
      "model_module": "@jupyter-widgets/controls",
      "model_module_version": "1.5.0",
      "model_name": "DescriptionStyleModel",
      "state": {
       "description_width": ""
      }
     },
     "6bb524cb28bd4040b6cffcb5f3764084": {
      "model_module": "@jupyter-widgets/output",
      "model_module_version": "1.0.0",
      "model_name": "OutputModel",
      "state": {
       "layout": "IPY_MODEL_ac4a6fa4a436441093d13953d6da287f",
       "outputs": [
        {
         "name": "stdout",
         "output_type": "stream",
         "text": "Sodium Acetate Anhydrous: 0.0g   Glacial Acetic Acid: 0.0mL   NaCl: 5.844g\n"
        }
       ]
      }
     },
     "6bc319abad6e46beadee7dd027f16f7a": {
      "model_module": "@jupyter-widgets/controls",
      "model_module_version": "1.5.0",
      "model_name": "DescriptionStyleModel",
      "state": {
       "description_width": ""
      }
     },
     "6bdea85d8ae345e88e68a4a25ded373e": {
      "model_module": "@jupyter-widgets/controls",
      "model_module_version": "1.5.0",
      "model_name": "HBoxModel",
      "state": {
       "children": [
        "IPY_MODEL_0e16eafec9194b7a8f0423c8dc2cc9a1",
        "IPY_MODEL_6fc1985abe8e4cd7a75fba67da67a346",
        "IPY_MODEL_beb9905bd79e4eb0a56f2faffb741e59"
       ],
       "layout": "IPY_MODEL_bead2073eadf41caa4367484e4be6d06"
      }
     },
     "6cce7f7ec54c4b38a90f93475a95cf9a": {
      "model_module": "@jupyter-widgets/controls",
      "model_module_version": "1.5.0",
      "model_name": "FloatTextModel",
      "state": {
       "description": "Total Buffer:",
       "layout": "IPY_MODEL_b075a056e017428a9d26d856e4a6a5fb",
       "step": 0.001,
       "style": "IPY_MODEL_edd07d9674444d0793307814c35c2c38"
      }
     },
     "6cef853ba7de499092a5c2d46f25fe26": {
      "model_module": "@jupyter-widgets/controls",
      "model_module_version": "1.5.0",
      "model_name": "FloatTextModel",
      "state": {
       "description": "NaCl:",
       "layout": "IPY_MODEL_724bd501920347849ec526c5ff383749",
       "step": 0.001,
       "style": "IPY_MODEL_968b3a7ef7ef44e38cdbf738ba2b6720",
       "value": 0.5
      }
     },
     "6d8e3811bf5a4e6dafac26ba4fd924c2": {
      "model_module": "@jupyter-widgets/base",
      "model_module_version": "1.2.0",
      "model_name": "LayoutModel",
      "state": {}
     },
     "6e279f96b04444ffae0cefcb491105f1": {
      "model_module": "@jupyter-widgets/controls",
      "model_module_version": "1.5.0",
      "model_name": "DescriptionStyleModel",
      "state": {
       "description_width": ""
      }
     },
     "6ee13325ed7647c290b9b96c2b81927f": {
      "model_module": "@jupyter-widgets/base",
      "model_module_version": "1.2.0",
      "model_name": "LayoutModel",
      "state": {}
     },
     "6fc1985abe8e4cd7a75fba67da67a346": {
      "model_module": "@jupyter-widgets/controls",
      "model_module_version": "1.5.0",
      "model_name": "FloatTextModel",
      "state": {
       "description": "NaCl:",
       "layout": "IPY_MODEL_2c4e4003fed84057b9b8562e6710d634",
       "step": 0.001,
       "style": "IPY_MODEL_96d89d482f7f495bb6b67dcd4e001e19",
       "value": 0.5
      }
     },
     "7018bc55eceb47a1ab848f052eb192cf": {
      "model_module": "@jupyter-widgets/controls",
      "model_module_version": "1.5.0",
      "model_name": "DescriptionStyleModel",
      "state": {
       "description_width": ""
      }
     },
     "70ac495460c44a88a28aedb3f466f2bd": {
      "model_module": "@jupyter-widgets/controls",
      "model_module_version": "1.5.0",
      "model_name": "DescriptionStyleModel",
      "state": {
       "description_width": ""
      }
     },
     "70e80bd48cf449fd81cd4e5614a212b0": {
      "model_module": "@jupyter-widgets/output",
      "model_module_version": "1.0.0",
      "model_name": "OutputModel",
      "state": {
       "layout": "IPY_MODEL_c718abc8d06047e1a664ee2e9bfe8bee",
       "outputs": [
        {
         "name": "stdout",
         "output_type": "stream",
         "text": "NaPi Dibasic Anhydrous: 0.0g   NaPi Monobasic Monohydrate: 0.0g   NaCl: 5.844g\n"
        }
       ]
      }
     },
     "723a4511093b4aaa94f0548097ca4e72": {
      "model_module": "@jupyter-widgets/controls",
      "model_module_version": "1.5.0",
      "model_name": "FloatTextModel",
      "state": {
       "description": "pH:",
       "layout": "IPY_MODEL_ff39bb450a0446bebb141d4ea98d5a1f",
       "step": 0.01,
       "style": "IPY_MODEL_5cd92f7dcc5b40d68ae4fba2ba30eb3b",
       "value": 7
      }
     },
     "724bd501920347849ec526c5ff383749": {
      "model_module": "@jupyter-widgets/base",
      "model_module_version": "1.2.0",
      "model_name": "LayoutModel",
      "state": {}
     },
     "72b37df8356646f59359a70447a3d6ab": {
      "model_module": "@jupyter-widgets/controls",
      "model_module_version": "1.5.0",
      "model_name": "HBoxModel",
      "state": {
       "children": [
        "IPY_MODEL_c34918900d8345adb90aa392a33e3639",
        "IPY_MODEL_2b0d3d1a4bb5442dae4babdd6df7b87f",
        "IPY_MODEL_ea85a01518bd4bd9adc28a2e068c8c7a"
       ],
       "layout": "IPY_MODEL_d6215aec8d3349e49e174b347ecc77f5"
      }
     },
     "7335fd2699e945ec8084feb5afa45984": {
      "model_module": "@jupyter-widgets/controls",
      "model_module_version": "1.5.0",
      "model_name": "DescriptionStyleModel",
      "state": {
       "description_width": ""
      }
     },
     "7370e445545b45348b214db439ef6f0e": {
      "model_module": "@jupyter-widgets/controls",
      "model_module_version": "1.5.0",
      "model_name": "FloatTextModel",
      "state": {
       "description": "pH:",
       "layout": "IPY_MODEL_457e347b4a914c1d9ef9813e81055abc",
       "step": 0.01,
       "style": "IPY_MODEL_0074f1c991ae48b496df085996085690",
       "value": 5.5
      }
     },
     "738f623d92c94b00b05ac1921ef92820": {
      "model_module": "@jupyter-widgets/controls",
      "model_module_version": "1.5.0",
      "model_name": "DescriptionStyleModel",
      "state": {
       "description_width": ""
      }
     },
     "740f3d98fc414e3890014cb6347003d7": {
      "model_module": "@jupyter-widgets/base",
      "model_module_version": "1.2.0",
      "model_name": "LayoutModel",
      "state": {}
     },
     "743712757e4e406a9176c0af0355353a": {
      "model_module": "@jupyter-widgets/controls",
      "model_module_version": "1.5.0",
      "model_name": "FloatTextModel",
      "state": {
       "description": "NaCl:",
       "layout": "IPY_MODEL_ef3d56b87bbb4a3c827af7d2af4ceac2",
       "step": 0.001,
       "style": "IPY_MODEL_a11cf6ed5adf42e7b9f735ce291e640a",
       "value": 0.1
      }
     },
     "74454dcdd04340e4a5b9e5b18cee5361": {
      "model_module": "@jupyter-widgets/controls",
      "model_module_version": "1.5.0",
      "model_name": "HBoxModel",
      "state": {
       "children": [
        "IPY_MODEL_19a7bc9940c24b10a61a7ec9aec4f8f7",
        "IPY_MODEL_81d5b66d98da43828e8927616c2dd397",
        "IPY_MODEL_b1be8caa2e9246949ca72f26327f6da9"
       ],
       "layout": "IPY_MODEL_e929e1b05d0d48778302d1dd5d454cd0"
      }
     },
     "746c5c846e9a4e91873e9075aa4c0c84": {
      "model_module": "@jupyter-widgets/controls",
      "model_module_version": "1.5.0",
      "model_name": "FloatTextModel",
      "state": {
       "description": "pH:",
       "layout": "IPY_MODEL_ce04e4ed5c8a41aa87cc851ba311364e",
       "step": 0.01,
       "style": "IPY_MODEL_79f6802507e74f33876834ed191a086f",
       "value": 5.5
      }
     },
     "74a1415ab3d2479ebef3a09b93e71609": {
      "model_module": "@jupyter-widgets/controls",
      "model_module_version": "1.5.0",
      "model_name": "FloatTextModel",
      "state": {
       "description": "NaCl:",
       "layout": "IPY_MODEL_d8d06c56146c41e1a6fbfec98f877b58",
       "step": 0.001,
       "style": "IPY_MODEL_c7185b28affc48d78e3b9664aca1d1aa",
       "value": 0.1
      }
     },
     "74baba1af7554e7d9820e97da9f77d24": {
      "model_module": "@jupyter-widgets/controls",
      "model_module_version": "1.5.0",
      "model_name": "FloatTextModel",
      "state": {
       "description": "pH:",
       "layout": "IPY_MODEL_206cb6f69ab94bc4bc3cb6bd0546cc7f",
       "step": 0.01,
       "style": "IPY_MODEL_d969c9bce0854682b253b9cba6046ece",
       "value": 5.5
      }
     },
     "74bb74481c754b8c95e8319db19c1bf9": {
      "model_module": "@jupyter-widgets/base",
      "model_module_version": "1.2.0",
      "model_name": "LayoutModel",
      "state": {}
     },
     "74cb8266dc2d415796b8e4342d00068a": {
      "model_module": "@jupyter-widgets/controls",
      "model_module_version": "1.5.0",
      "model_name": "FloatTextModel",
      "state": {
       "description": "NaCl:",
       "layout": "IPY_MODEL_d16c4db88b9640e08323e29b75d789d6",
       "step": 0.001,
       "style": "IPY_MODEL_21d3a6b151f843fca6f51a9b8c7fa2c2",
       "value": 0.1
      }
     },
     "75534f926a4849f1af30d1c4c941bcee": {
      "model_module": "@jupyter-widgets/controls",
      "model_module_version": "1.5.0",
      "model_name": "DescriptionStyleModel",
      "state": {
       "description_width": ""
      }
     },
     "7640a074c8934af383d326077fa1be3d": {
      "model_module": "@jupyter-widgets/base",
      "model_module_version": "1.2.0",
      "model_name": "LayoutModel",
      "state": {}
     },
     "768421cf907b405180c7ba2156fcf11a": {
      "model_module": "@jupyter-widgets/output",
      "model_module_version": "1.0.0",
      "model_name": "OutputModel",
      "state": {
       "layout": "IPY_MODEL_74bb74481c754b8c95e8319db19c1bf9",
       "outputs": [
        {
         "name": "stdout",
         "output_type": "stream",
         "text": "Sodium Acetate Anhydrous: 0.0g   Glacial Acetic Acid: 0.0mL   NaCl: 5.844g\n"
        }
       ]
      }
     },
     "770d78795c3145a4b0a1b67d365b8ceb": {
      "model_module": "@jupyter-widgets/controls",
      "model_module_version": "1.5.0",
      "model_name": "HBoxModel",
      "state": {
       "children": [
        "IPY_MODEL_5bc4463797f04c6c86821dd72fd20835",
        "IPY_MODEL_7a695bf8061c4e51ab4efd4354076aa7",
        "IPY_MODEL_889595ccdcc44d47a7ad8ba695428626"
       ],
       "layout": "IPY_MODEL_2fa9c92127104e6c9334b81d35cefe39"
      }
     },
     "77f2cb1228b647388ff06ca66a3830cd": {
      "model_module": "@jupyter-widgets/controls",
      "model_module_version": "1.5.0",
      "model_name": "DescriptionStyleModel",
      "state": {
       "description_width": ""
      }
     },
     "786f609edf5342c398dfb885e282c6ac": {
      "model_module": "@jupyter-widgets/controls",
      "model_module_version": "1.5.0",
      "model_name": "DescriptionStyleModel",
      "state": {
       "description_width": ""
      }
     },
     "7920fd6073ab4ec3823bb9334430be9e": {
      "model_module": "@jupyter-widgets/controls",
      "model_module_version": "1.5.0",
      "model_name": "DescriptionStyleModel",
      "state": {
       "description_width": ""
      }
     },
     "79345d82122a4118bdd36af09aa95db7": {
      "model_module": "@jupyter-widgets/base",
      "model_module_version": "1.2.0",
      "model_name": "LayoutModel",
      "state": {}
     },
     "799db6cde1744803a26de38f070a3ec5": {
      "model_module": "@jupyter-widgets/base",
      "model_module_version": "1.2.0",
      "model_name": "LayoutModel",
      "state": {}
     },
     "79f6802507e74f33876834ed191a086f": {
      "model_module": "@jupyter-widgets/controls",
      "model_module_version": "1.5.0",
      "model_name": "DescriptionStyleModel",
      "state": {
       "description_width": ""
      }
     },
     "7a029425f6394fc09cec6cf8cac5e027": {
      "model_module": "@jupyter-widgets/controls",
      "model_module_version": "1.5.0",
      "model_name": "FloatTextModel",
      "state": {
       "description": "pH:",
       "layout": "IPY_MODEL_8c70f1a1311241dbbba6fe1c40291e30",
       "step": 0.01,
       "style": "IPY_MODEL_fafa64036df84f00a7d38ebb4d2d6938",
       "value": 4.76
      }
     },
     "7a2196227a5940ab82842b99c0379afa": {
      "model_module": "@jupyter-widgets/base",
      "model_module_version": "1.2.0",
      "model_name": "LayoutModel",
      "state": {}
     },
     "7a6843f5f7cd41af9b6f4662a0b8c9b2": {
      "model_module": "@jupyter-widgets/controls",
      "model_module_version": "1.5.0",
      "model_name": "DescriptionStyleModel",
      "state": {
       "description_width": ""
      }
     },
     "7a695bf8061c4e51ab4efd4354076aa7": {
      "model_module": "@jupyter-widgets/controls",
      "model_module_version": "1.5.0",
      "model_name": "FloatTextModel",
      "state": {
       "description": "NaCl:",
       "layout": "IPY_MODEL_fd7707f783b04d5daaf01e1d1a71f4fa",
       "step": 0.001,
       "style": "IPY_MODEL_6b02747e2be54ba1aa3975a347b3651c",
       "value": 0.5
      }
     },
     "7a7caff9156d4d7aa2658edb9c135131": {
      "model_module": "@jupyter-widgets/controls",
      "model_module_version": "1.5.0",
      "model_name": "DescriptionStyleModel",
      "state": {
       "description_width": ""
      }
     },
     "7b03118c2f30464691428c7e6e3733c6": {
      "model_module": "@jupyter-widgets/base",
      "model_module_version": "1.2.0",
      "model_name": "LayoutModel",
      "state": {}
     },
     "7ba16292d78b48b88dfb71a2e22998c4": {
      "model_module": "@jupyter-widgets/output",
      "model_module_version": "1.0.0",
      "model_name": "OutputModel",
      "state": {
       "layout": "IPY_MODEL_79345d82122a4118bdd36af09aa95db7",
       "outputs": [
        {
         "name": "stdout",
         "output_type": "stream",
         "text": "MES Sodium: 0.0g   MES: 0.0g   NaCl: 5.844g\n"
        }
       ]
      }
     },
     "7be16759682948628d58e63554bf66de": {
      "model_module": "@jupyter-widgets/base",
      "model_module_version": "1.2.0",
      "model_name": "LayoutModel",
      "state": {}
     },
     "7c14890969d64057b46677722a454aaa": {
      "model_module": "@jupyter-widgets/controls",
      "model_module_version": "1.5.0",
      "model_name": "FloatTextModel",
      "state": {
       "description": "pH:",
       "layout": "IPY_MODEL_7eeec4c788b749b49e999044eb6cb11a",
       "step": 0.01,
       "style": "IPY_MODEL_ae72d200679249bea28fc7c0de5fb92a",
       "value": 7
      }
     },
     "7c1f7ee973e040199616578f5b6b4d63": {
      "model_module": "@jupyter-widgets/base",
      "model_module_version": "1.2.0",
      "model_name": "LayoutModel",
      "state": {}
     },
     "7c9278da85a441f3be26a73d6ca5e01f": {
      "model_module": "@jupyter-widgets/controls",
      "model_module_version": "1.5.0",
      "model_name": "HBoxModel",
      "state": {
       "children": [
        "IPY_MODEL_a15ff6eb0c6c4d23b9cc9c8bb2e7d4b6",
        "IPY_MODEL_4f9dbffd0bea49a59844ee95034f565d",
        "IPY_MODEL_5bffbdc627134f2c97876abd9de7405b"
       ],
       "layout": "IPY_MODEL_c3e63ed0df6242f7870486f3686b46b4"
      }
     },
     "7c9ee3dbdb5a45f5b3ad58c6df529aa7": {
      "model_module": "@jupyter-widgets/controls",
      "model_module_version": "1.5.0",
      "model_name": "FloatTextModel",
      "state": {
       "description": "pH:",
       "layout": "IPY_MODEL_84c7a7a386ee4178be63fa623a211fa5",
       "step": 0.01,
       "style": "IPY_MODEL_9cdda783f73c436f9d7b2221579df361",
       "value": 5
      }
     },
     "7d708611aae24599940d9c769d0e5819": {
      "model_module": "@jupyter-widgets/controls",
      "model_module_version": "1.5.0",
      "model_name": "FloatTextModel",
      "state": {
       "description": "pH:",
       "layout": "IPY_MODEL_7eb3b97ac6994c939729767a9fb87255",
       "step": 0.01,
       "style": "IPY_MODEL_6b75f803b57f4d7aa48a25e2283c718b",
       "value": 7
      }
     },
     "7dd2a4b45fc54022960644fb7741aa2b": {
      "model_module": "@jupyter-widgets/base",
      "model_module_version": "1.2.0",
      "model_name": "LayoutModel",
      "state": {}
     },
     "7e07b7030c5e41caba708f0ab95b0195": {
      "model_module": "@jupyter-widgets/base",
      "model_module_version": "1.2.0",
      "model_name": "LayoutModel",
      "state": {}
     },
     "7eb3b97ac6994c939729767a9fb87255": {
      "model_module": "@jupyter-widgets/base",
      "model_module_version": "1.2.0",
      "model_name": "LayoutModel",
      "state": {}
     },
     "7ecf4a0d030b4fe8b9a5cb5be19342a8": {
      "model_module": "@jupyter-widgets/base",
      "model_module_version": "1.2.0",
      "model_name": "LayoutModel",
      "state": {}
     },
     "7eeec4c788b749b49e999044eb6cb11a": {
      "model_module": "@jupyter-widgets/base",
      "model_module_version": "1.2.0",
      "model_name": "LayoutModel",
      "state": {}
     },
     "7f4213b3559d40feb9a63c4570732c67": {
      "model_module": "@jupyter-widgets/controls",
      "model_module_version": "1.5.0",
      "model_name": "DescriptionStyleModel",
      "state": {
       "description_width": ""
      }
     },
     "809a9190775848728d89d02115fbe19b": {
      "model_module": "@jupyter-widgets/controls",
      "model_module_version": "1.5.0",
      "model_name": "DescriptionStyleModel",
      "state": {
       "description_width": ""
      }
     },
     "8100760807664f6eabdb177d5c9aa436": {
      "model_module": "@jupyter-widgets/base",
      "model_module_version": "1.2.0",
      "model_name": "LayoutModel",
      "state": {}
     },
     "816ff22316e74924afd15910ea5e6bdc": {
      "model_module": "@jupyter-widgets/base",
      "model_module_version": "1.2.0",
      "model_name": "LayoutModel",
      "state": {}
     },
     "81d5b66d98da43828e8927616c2dd397": {
      "model_module": "@jupyter-widgets/controls",
      "model_module_version": "1.5.0",
      "model_name": "FloatTextModel",
      "state": {
       "description": "NaCl:",
       "layout": "IPY_MODEL_6ee13325ed7647c290b9b96c2b81927f",
       "step": 0.001,
       "style": "IPY_MODEL_57f6a23818414a6db27a70e6f0273167",
       "value": 0.1
      }
     },
     "8272b70465d040ffa4f87965f1a3aa33": {
      "model_module": "@jupyter-widgets/controls",
      "model_module_version": "1.5.0",
      "model_name": "FloatTextModel",
      "state": {
       "description": "pH:",
       "layout": "IPY_MODEL_993f661b13024f58acdf4c5cf26c82ba",
       "step": 0.01,
       "style": "IPY_MODEL_21c3321000914757a3922b1e84dc79a9",
       "value": 5.5
      }
     },
     "83ee4f0eb0114714b4b327a29c0ba650": {
      "model_module": "@jupyter-widgets/output",
      "model_module_version": "1.0.0",
      "model_name": "OutputModel",
      "state": {
       "layout": "IPY_MODEL_f48ece9e15884e19be71f6d23cd80b10",
       "outputs": [
        {
         "name": "stdout",
         "output_type": "stream",
         "text": "NaPi Dibasic Anhydrous: 0.0g   NaPi Monobasic Monohydrate: 0.0g   NaCl: 5.844g\n"
        }
       ]
      }
     },
     "849248ac06194082b8aed174a0ce894d": {
      "model_module": "@jupyter-widgets/output",
      "model_module_version": "1.0.0",
      "model_name": "OutputModel",
      "state": {
       "layout": "IPY_MODEL_a22d7e9a90014d1db1273961cb6e59e2",
       "outputs": [
        {
         "name": "stdout",
         "output_type": "stream",
         "text": "MES Sodium: 0.0g   MES: 0.0g   NaCl: 5.844g\n"
        }
       ]
      }
     },
     "84c7a7a386ee4178be63fa623a211fa5": {
      "model_module": "@jupyter-widgets/base",
      "model_module_version": "1.2.0",
      "model_name": "LayoutModel",
      "state": {}
     },
     "84fd39c5471b47b2a8d0b986705ac669": {
      "model_module": "@jupyter-widgets/controls",
      "model_module_version": "1.5.0",
      "model_name": "FloatTextModel",
      "state": {
       "description": "pH:",
       "layout": "IPY_MODEL_cdb2f2ed0611449c9d50b3b107d3ba4e",
       "step": 0.01,
       "style": "IPY_MODEL_fae40b8f169f4151b050dd7e97844fee",
       "value": 6.8
      }
     },
     "854011f53afb460b8240764172306267": {
      "model_module": "@jupyter-widgets/controls",
      "model_module_version": "1.5.0",
      "model_name": "DescriptionStyleModel",
      "state": {
       "description_width": ""
      }
     },
     "8547a7201840499ebb6eef2dc1d4c7de": {
      "model_module": "@jupyter-widgets/base",
      "model_module_version": "1.2.0",
      "model_name": "LayoutModel",
      "state": {}
     },
     "8553fb0dc786444881aefa740648de7b": {
      "model_module": "@jupyter-widgets/controls",
      "model_module_version": "1.5.0",
      "model_name": "DescriptionStyleModel",
      "state": {
       "description_width": ""
      }
     },
     "85881e7551834120adb83ef7c8f69732": {
      "model_module": "@jupyter-widgets/controls",
      "model_module_version": "1.5.0",
      "model_name": "DescriptionStyleModel",
      "state": {
       "description_width": ""
      }
     },
     "859e60372baa4e02ab689cd0e1c11726": {
      "model_module": "@jupyter-widgets/base",
      "model_module_version": "1.2.0",
      "model_name": "LayoutModel",
      "state": {}
     },
     "85d0054c58c24b11bc8284da30807f2b": {
      "model_module": "@jupyter-widgets/controls",
      "model_module_version": "1.5.0",
      "model_name": "FloatTextModel",
      "state": {
       "description": "pH:",
       "layout": "IPY_MODEL_799db6cde1744803a26de38f070a3ec5",
       "step": 0.01,
       "style": "IPY_MODEL_77f2cb1228b647388ff06ca66a3830cd",
       "value": 4.76
      }
     },
     "863a79c7510d44fe984627423a894658": {
      "model_module": "@jupyter-widgets/base",
      "model_module_version": "1.2.0",
      "model_name": "LayoutModel",
      "state": {}
     },
     "86e15b1462134466bc09601033c8c27a": {
      "model_module": "@jupyter-widgets/controls",
      "model_module_version": "1.5.0",
      "model_name": "HBoxModel",
      "state": {
       "children": [
        "IPY_MODEL_dcb4aabe06514354ad02fe9af7677df4",
        "IPY_MODEL_36b62a6d7a3e42b480bc06f1836d5a7e",
        "IPY_MODEL_7c9ee3dbdb5a45f5b3ad58c6df529aa7"
       ],
       "layout": "IPY_MODEL_1fc2ecf8973141d4b91153065d65dee0"
      }
     },
     "8708cdeef2aa45a981131cdfad3ccb50": {
      "model_module": "@jupyter-widgets/base",
      "model_module_version": "1.2.0",
      "model_name": "LayoutModel",
      "state": {}
     },
     "8714e324d7da4dcea9a1a453de1a0adf": {
      "model_module": "@jupyter-widgets/output",
      "model_module_version": "1.0.0",
      "model_name": "OutputModel",
      "state": {
       "layout": "IPY_MODEL_c0176a6e0f844d168166b92b7dd6c96d",
       "outputs": [
        {
         "name": "stdout",
         "output_type": "stream",
         "text": "MES Sodium: 0.0g   MES: 0.0g   NaCl: 5.844g\n"
        }
       ]
      }
     },
     "871bc422dae64846b4d5b3d5262b93d1": {
      "model_module": "@jupyter-widgets/base",
      "model_module_version": "1.2.0",
      "model_name": "LayoutModel",
      "state": {}
     },
     "87856f73f0d6499291686d5fda0fe8c9": {
      "model_module": "@jupyter-widgets/base",
      "model_module_version": "1.2.0",
      "model_name": "LayoutModel",
      "state": {}
     },
     "8798de3384ab4dc283bef848b8565491": {
      "model_module": "@jupyter-widgets/base",
      "model_module_version": "1.2.0",
      "model_name": "LayoutModel",
      "state": {}
     },
     "8799bb42bf16434f9bb446f3583a8896": {
      "model_module": "@jupyter-widgets/base",
      "model_module_version": "1.2.0",
      "model_name": "LayoutModel",
      "state": {}
     },
     "882245be58644d30bac4c05ed1beb657": {
      "model_module": "@jupyter-widgets/controls",
      "model_module_version": "1.5.0",
      "model_name": "FloatTextModel",
      "state": {
       "description": "Total Buffer:",
       "layout": "IPY_MODEL_f44c1ba8bd684c539eb3a85bd31c9fa0",
       "step": 0.001,
       "style": "IPY_MODEL_e3b6fa6d9dca4e52ab31c27c762822e6"
      }
     },
     "888e00f0fa0b4cabbc5044c7bbf29a46": {
      "model_module": "@jupyter-widgets/base",
      "model_module_version": "1.2.0",
      "model_name": "LayoutModel",
      "state": {}
     },
     "889595ccdcc44d47a7ad8ba695428626": {
      "model_module": "@jupyter-widgets/controls",
      "model_module_version": "1.5.0",
      "model_name": "FloatTextModel",
      "state": {
       "description": "pH:",
       "layout": "IPY_MODEL_9b7ecd8bb3d247c0a0041e038e956a4d",
       "step": 0.01,
       "style": "IPY_MODEL_ecf068ce5a5f47cebaf4f5eba7ef0f6f",
       "value": 6.8
      }
     },
     "89054346693d4f709b7e67bbc5bd9d88": {
      "model_module": "@jupyter-widgets/base",
      "model_module_version": "1.2.0",
      "model_name": "LayoutModel",
      "state": {}
     },
     "89470395c7e045d7951630fdf24801f3": {
      "model_module": "@jupyter-widgets/controls",
      "model_module_version": "1.5.0",
      "model_name": "FloatTextModel",
      "state": {
       "description": "NaCl:",
       "layout": "IPY_MODEL_569d673a16c74c92af50447939645b35",
       "step": 0.001,
       "style": "IPY_MODEL_9d16857a049f478b98e335650a0d4752",
       "value": 0.1
      }
     },
     "89789d47c78d4667b160ed1d215e415e": {
      "model_module": "@jupyter-widgets/base",
      "model_module_version": "1.2.0",
      "model_name": "LayoutModel",
      "state": {}
     },
     "8a095785e6654910bd6afd1858d866da": {
      "model_module": "@jupyter-widgets/controls",
      "model_module_version": "1.5.0",
      "model_name": "DescriptionStyleModel",
      "state": {
       "description_width": ""
      }
     },
     "8b0938d1af2a4768bd495c53d03e33f3": {
      "model_module": "@jupyter-widgets/controls",
      "model_module_version": "1.5.0",
      "model_name": "FloatTextModel",
      "state": {
       "description": "NaCl:",
       "layout": "IPY_MODEL_d6649cbd979541369856db28645fae71",
       "step": 0.001,
       "style": "IPY_MODEL_99c17def176347bf904fd0e76fdb5472",
       "value": 0.5
      }
     },
     "8b1ea1e0255e4791bdefa4e27dcace39": {
      "model_module": "@jupyter-widgets/base",
      "model_module_version": "1.2.0",
      "model_name": "LayoutModel",
      "state": {}
     },
     "8b5f4bd800ce47e595d53ac65a40672e": {
      "model_module": "@jupyter-widgets/controls",
      "model_module_version": "1.5.0",
      "model_name": "HBoxModel",
      "state": {
       "children": [
        "IPY_MODEL_ce49bd3ae3df4edb8ff574b2174d413f",
        "IPY_MODEL_20e293abdfa4427cbae894ab54070a49",
        "IPY_MODEL_ded03ef7b9264f448b62d05f6bc66bc1"
       ],
       "layout": "IPY_MODEL_b9ec50dc22e8429aa5222800a70a4dd6"
      }
     },
     "8c1e810a85e34727a9cf4b682c8e1dcd": {
      "model_module": "@jupyter-widgets/controls",
      "model_module_version": "1.5.0",
      "model_name": "DescriptionStyleModel",
      "state": {
       "description_width": ""
      }
     },
     "8c70f1a1311241dbbba6fe1c40291e30": {
      "model_module": "@jupyter-widgets/base",
      "model_module_version": "1.2.0",
      "model_name": "LayoutModel",
      "state": {}
     },
     "8c7a4af9906249c8b33740fa47d99686": {
      "model_module": "@jupyter-widgets/base",
      "model_module_version": "1.2.0",
      "model_name": "LayoutModel",
      "state": {}
     },
     "8caa1ee6592b4acbbbd020330cd7a2bd": {
      "model_module": "@jupyter-widgets/controls",
      "model_module_version": "1.5.0",
      "model_name": "FloatTextModel",
      "state": {
       "description": "Total Buffer:",
       "layout": "IPY_MODEL_aa8c518d720c46348d1ba326dab4c6f8",
       "step": 0.001,
       "style": "IPY_MODEL_5d86e5239ddb44f78463d2d781567279"
      }
     },
     "8d55893f394f4fca8a1bf047dc25a1f3": {
      "model_module": "@jupyter-widgets/controls",
      "model_module_version": "1.5.0",
      "model_name": "HBoxModel",
      "state": {
       "children": [
        "IPY_MODEL_8e8835d83c1442ca9a2e665dd697cddc",
        "IPY_MODEL_9db0746f9dc343c3933807dccb17a25f",
        "IPY_MODEL_84fd39c5471b47b2a8d0b986705ac669"
       ],
       "layout": "IPY_MODEL_d84f674612a0476d9d394c1b8685ed96"
      }
     },
     "8daa98cf7f8e4852b36242b508b9d277": {
      "model_module": "@jupyter-widgets/controls",
      "model_module_version": "1.5.0",
      "model_name": "DescriptionStyleModel",
      "state": {
       "description_width": ""
      }
     },
     "8dba8dfea7094731950e09fc9926beaa": {
      "model_module": "@jupyter-widgets/controls",
      "model_module_version": "1.5.0",
      "model_name": "FloatTextModel",
      "state": {
       "description": "Total Buffer:",
       "layout": "IPY_MODEL_4a081c5cb62b4b3a833753aac46d06a5",
       "step": 0.001,
       "style": "IPY_MODEL_7018bc55eceb47a1ab848f052eb192cf"
      }
     },
     "8dd9332842fa47cfbfa14b2af00c339d": {
      "model_module": "@jupyter-widgets/base",
      "model_module_version": "1.2.0",
      "model_name": "LayoutModel",
      "state": {}
     },
     "8dfb4177c0a6457180e90b2bab958087": {
      "model_module": "@jupyter-widgets/controls",
      "model_module_version": "1.5.0",
      "model_name": "FloatTextModel",
      "state": {
       "description": "pH:",
       "layout": "IPY_MODEL_e93ab8f3c1504fc293803a3e00537dd2",
       "step": 0.01,
       "style": "IPY_MODEL_30202678d6544996aa2a9ec8522ae8eb",
       "value": 7
      }
     },
     "8e8835d83c1442ca9a2e665dd697cddc": {
      "model_module": "@jupyter-widgets/controls",
      "model_module_version": "1.5.0",
      "model_name": "FloatTextModel",
      "state": {
       "description": "Total Buffer:",
       "layout": "IPY_MODEL_5c5f0cd4cc3f4d19a21b33b07aa8df82",
       "step": 0.001,
       "style": "IPY_MODEL_f74755a5074749aeba8810a708583682",
       "value": 0.02
      }
     },
     "8e90743f8fec48db8c02e16000298f8c": {
      "model_module": "@jupyter-widgets/controls",
      "model_module_version": "1.5.0",
      "model_name": "FloatTextModel",
      "state": {
       "description": "Total Buffer:",
       "layout": "IPY_MODEL_87856f73f0d6499291686d5fda0fe8c9",
       "step": 0.001,
       "style": "IPY_MODEL_8553fb0dc786444881aefa740648de7b"
      }
     },
     "8ed6a1a67639408888d67055e2b62d88": {
      "model_module": "@jupyter-widgets/controls",
      "model_module_version": "1.5.0",
      "model_name": "DescriptionStyleModel",
      "state": {
       "description_width": ""
      }
     },
     "8f1e476060324a2b90df57d8237a8e7f": {
      "model_module": "@jupyter-widgets/controls",
      "model_module_version": "1.5.0",
      "model_name": "DescriptionStyleModel",
      "state": {
       "description_width": ""
      }
     },
     "8f4568c0807542689325e84d1e12cfd6": {
      "model_module": "@jupyter-widgets/controls",
      "model_module_version": "1.5.0",
      "model_name": "DescriptionStyleModel",
      "state": {
       "description_width": ""
      }
     },
     "8f7203e7a1c44a6283a1ebecccc0e78e": {
      "model_module": "@jupyter-widgets/controls",
      "model_module_version": "1.5.0",
      "model_name": "FloatTextModel",
      "state": {
       "description": "NaCl:",
       "layout": "IPY_MODEL_53506cbdceec4b15a6d3802ec922f79f",
       "step": 0.001,
       "style": "IPY_MODEL_4a29a6d006254d15b4a0d8ae442a3f16",
       "value": 0.1
      }
     },
     "91d4fd9c3b714bbaaeb2bc43a57a1716": {
      "model_module": "@jupyter-widgets/controls",
      "model_module_version": "1.5.0",
      "model_name": "DescriptionStyleModel",
      "state": {
       "description_width": ""
      }
     },
     "927c011a887d421dbd5412e4a618e030": {
      "model_module": "@jupyter-widgets/controls",
      "model_module_version": "1.5.0",
      "model_name": "DescriptionStyleModel",
      "state": {
       "description_width": ""
      }
     },
     "92acae0dfa5d4da98a0bc2068c4f58af": {
      "model_module": "@jupyter-widgets/controls",
      "model_module_version": "1.5.0",
      "model_name": "HBoxModel",
      "state": {
       "children": [
        "IPY_MODEL_b47f3981c4f345e1b03edc57a52a5148",
        "IPY_MODEL_4ede4a339c0b405c889070ebde2c10bb",
        "IPY_MODEL_7a029425f6394fc09cec6cf8cac5e027"
       ],
       "layout": "IPY_MODEL_14da4b258e3b4e2d86bd1a9a5a56e181"
      }
     },
     "93b25dfafaef41e89cba46561b30a6a3": {
      "model_module": "@jupyter-widgets/controls",
      "model_module_version": "1.5.0",
      "model_name": "DescriptionStyleModel",
      "state": {
       "description_width": ""
      }
     },
     "93b3f84fc9524b9cbcb1e45797c9161e": {
      "model_module": "@jupyter-widgets/base",
      "model_module_version": "1.2.0",
      "model_name": "LayoutModel",
      "state": {}
     },
     "93e5b2b3a77f49428064fd92b7ec1837": {
      "model_module": "@jupyter-widgets/controls",
      "model_module_version": "1.5.0",
      "model_name": "FloatTextModel",
      "state": {
       "description": "pH:",
       "layout": "IPY_MODEL_b2c8a7d99b2341948a26b4860b84a167",
       "step": 0.01,
       "style": "IPY_MODEL_f77b0619f0c5406ba70f9725acc01608",
       "value": 5.5
      }
     },
     "94d00133b2a54721a9350d05ce0706ce": {
      "model_module": "@jupyter-widgets/controls",
      "model_module_version": "1.5.0",
      "model_name": "DescriptionStyleModel",
      "state": {
       "description_width": ""
      }
     },
     "950090cb7d554545ab2f4e77107812bd": {
      "model_module": "@jupyter-widgets/base",
      "model_module_version": "1.2.0",
      "model_name": "LayoutModel",
      "state": {}
     },
     "956c6552ae594d82955ae9cde919c928": {
      "model_module": "@jupyter-widgets/controls",
      "model_module_version": "1.5.0",
      "model_name": "DescriptionStyleModel",
      "state": {
       "description_width": ""
      }
     },
     "96706b759b6f42c58fab19738a435381": {
      "model_module": "@jupyter-widgets/output",
      "model_module_version": "1.0.0",
      "model_name": "OutputModel",
      "state": {
       "layout": "IPY_MODEL_12acb2800a1840ba91ef3818c2bee73d"
      }
     },
     "968b3a7ef7ef44e38cdbf738ba2b6720": {
      "model_module": "@jupyter-widgets/controls",
      "model_module_version": "1.5.0",
      "model_name": "DescriptionStyleModel",
      "state": {
       "description_width": ""
      }
     },
     "96d89d482f7f495bb6b67dcd4e001e19": {
      "model_module": "@jupyter-widgets/controls",
      "model_module_version": "1.5.0",
      "model_name": "DescriptionStyleModel",
      "state": {
       "description_width": ""
      }
     },
     "96e4df8e023f456296712f831200d0ec": {
      "model_module": "@jupyter-widgets/controls",
      "model_module_version": "1.5.0",
      "model_name": "DescriptionStyleModel",
      "state": {
       "description_width": ""
      }
     },
     "977d4e646d2e4b2d9f497e8b890ec9fd": {
      "model_module": "@jupyter-widgets/output",
      "model_module_version": "1.0.0",
      "model_name": "OutputModel",
      "state": {
       "layout": "IPY_MODEL_049f72524ef14bf4b0dfaa8ccec5d617",
       "outputs": [
        {
         "name": "stdout",
         "output_type": "stream",
         "text": "NaPi Dibasic Anhydrous: 0.0g   NaPi Monobasic Monohydrate: 0.0g   NaCl: 5.844g\n"
        }
       ]
      }
     },
     "9781533fca6340f49c54cfc74bf01de5": {
      "model_module": "@jupyter-widgets/controls",
      "model_module_version": "1.5.0",
      "model_name": "FloatTextModel",
      "state": {
       "description": "Total Buffer:",
       "layout": "IPY_MODEL_7dd2a4b45fc54022960644fb7741aa2b",
       "step": 0.001,
       "style": "IPY_MODEL_c8358062b7064c4cbf03c7e2d0d0d657"
      }
     },
     "97c25861c4794628be64679e393e656e": {
      "model_module": "@jupyter-widgets/base",
      "model_module_version": "1.2.0",
      "model_name": "LayoutModel",
      "state": {}
     },
     "9807f8416288494a891b2d85fed80524": {
      "model_module": "@jupyter-widgets/base",
      "model_module_version": "1.2.0",
      "model_name": "LayoutModel",
      "state": {}
     },
     "985fb42e216047cb89794b82768ada81": {
      "model_module": "@jupyter-widgets/controls",
      "model_module_version": "1.5.0",
      "model_name": "DescriptionStyleModel",
      "state": {
       "description_width": ""
      }
     },
     "993f661b13024f58acdf4c5cf26c82ba": {
      "model_module": "@jupyter-widgets/base",
      "model_module_version": "1.2.0",
      "model_name": "LayoutModel",
      "state": {}
     },
     "99c17def176347bf904fd0e76fdb5472": {
      "model_module": "@jupyter-widgets/controls",
      "model_module_version": "1.5.0",
      "model_name": "DescriptionStyleModel",
      "state": {
       "description_width": ""
      }
     },
     "9a47a4686b2d451e88a3052847c7756e": {
      "model_module": "@jupyter-widgets/base",
      "model_module_version": "1.2.0",
      "model_name": "LayoutModel",
      "state": {}
     },
     "9a47f94ba1564077b74411448f9b3085": {
      "model_module": "@jupyter-widgets/controls",
      "model_module_version": "1.5.0",
      "model_name": "DescriptionStyleModel",
      "state": {
       "description_width": ""
      }
     },
     "9b7ecd8bb3d247c0a0041e038e956a4d": {
      "model_module": "@jupyter-widgets/base",
      "model_module_version": "1.2.0",
      "model_name": "LayoutModel",
      "state": {}
     },
     "9b8f941df1ea4dbc9ab91401cc5c9f65": {
      "model_module": "@jupyter-widgets/controls",
      "model_module_version": "1.5.0",
      "model_name": "DescriptionStyleModel",
      "state": {
       "description_width": ""
      }
     },
     "9bed221fcc7a4ad5b8d2fb97c3b9edc1": {
      "model_module": "@jupyter-widgets/controls",
      "model_module_version": "1.5.0",
      "model_name": "DescriptionStyleModel",
      "state": {
       "description_width": ""
      }
     },
     "9bf3efd05c634c08a7c164e91b1f6390": {
      "model_module": "@jupyter-widgets/base",
      "model_module_version": "1.2.0",
      "model_name": "LayoutModel",
      "state": {}
     },
     "9c8880ee04d64c95b6de60152d795a3b": {
      "model_module": "@jupyter-widgets/base",
      "model_module_version": "1.2.0",
      "model_name": "LayoutModel",
      "state": {}
     },
     "9cdda783f73c436f9d7b2221579df361": {
      "model_module": "@jupyter-widgets/controls",
      "model_module_version": "1.5.0",
      "model_name": "DescriptionStyleModel",
      "state": {
       "description_width": ""
      }
     },
     "9d16857a049f478b98e335650a0d4752": {
      "model_module": "@jupyter-widgets/controls",
      "model_module_version": "1.5.0",
      "model_name": "DescriptionStyleModel",
      "state": {
       "description_width": ""
      }
     },
     "9db0746f9dc343c3933807dccb17a25f": {
      "model_module": "@jupyter-widgets/controls",
      "model_module_version": "1.5.0",
      "model_name": "FloatTextModel",
      "state": {
       "description": "NaCl:",
       "layout": "IPY_MODEL_8dd9332842fa47cfbfa14b2af00c339d",
       "step": 0.001,
       "style": "IPY_MODEL_0b24224d43ea472a9ff6819eed3df92f",
       "value": 0.5
      }
     },
     "9ddba232411d4b54828f3cbf4a35ff92": {
      "model_module": "@jupyter-widgets/controls",
      "model_module_version": "1.5.0",
      "model_name": "HBoxModel",
      "state": {
       "children": [
        "IPY_MODEL_169365cb233f454db348d618c3192145",
        "IPY_MODEL_cf8c2c415b3848c2af321b66aa863e28",
        "IPY_MODEL_a4b81d5851a34096803bdf35fefebe86"
       ],
       "layout": "IPY_MODEL_40d4d7c643964299a4caa0746435598e"
      }
     },
     "9e31f41f42444d56b6708f7a047c7130": {
      "model_module": "@jupyter-widgets/controls",
      "model_module_version": "1.5.0",
      "model_name": "HBoxModel",
      "state": {
       "children": [
        "IPY_MODEL_d152ba6ade054d6187815743de60ed41",
        "IPY_MODEL_743712757e4e406a9176c0af0355353a",
        "IPY_MODEL_8272b70465d040ffa4f87965f1a3aa33"
       ],
       "layout": "IPY_MODEL_dc206d8a9b454c21985a8d01022ae1c1"
      }
     },
     "9eb00338556947a9930007087d469903": {
      "model_module": "@jupyter-widgets/controls",
      "model_module_version": "1.5.0",
      "model_name": "DescriptionStyleModel",
      "state": {
       "description_width": ""
      }
     },
     "a0de016b1a9d403aa20a594b5375c5ab": {
      "model_module": "@jupyter-widgets/controls",
      "model_module_version": "1.5.0",
      "model_name": "FloatTextModel",
      "state": {
       "description": "pH:",
       "layout": "IPY_MODEL_c9e3e94615094185910671a40275cc85",
       "step": 0.01,
       "style": "IPY_MODEL_ab1a5ad8694a47c689e06bc65983fc3f",
       "value": 5.5
      }
     },
     "a0df8f058c214d38bbfac9ee9bb32e2d": {
      "model_module": "@jupyter-widgets/controls",
      "model_module_version": "1.5.0",
      "model_name": "FloatTextModel",
      "state": {
       "description": "NaCl:",
       "layout": "IPY_MODEL_0c57de4c7cdc48b3b2dee426e3943639",
       "step": 0.001,
       "style": "IPY_MODEL_94d00133b2a54721a9350d05ce0706ce",
       "value": 0.1
      }
     },
     "a11cf6ed5adf42e7b9f735ce291e640a": {
      "model_module": "@jupyter-widgets/controls",
      "model_module_version": "1.5.0",
      "model_name": "DescriptionStyleModel",
      "state": {
       "description_width": ""
      }
     },
     "a15ff6eb0c6c4d23b9cc9c8bb2e7d4b6": {
      "model_module": "@jupyter-widgets/controls",
      "model_module_version": "1.5.0",
      "model_name": "FloatTextModel",
      "state": {
       "description": "Total Buffer:",
       "layout": "IPY_MODEL_228abfd4a736401f872c226f63dca632",
       "step": 0.001,
       "style": "IPY_MODEL_4e88f6f89c4c46bb8f3aedb386685aa1"
      }
     },
     "a1ddbe3132284b219714bfb3cecf99c2": {
      "model_module": "@jupyter-widgets/base",
      "model_module_version": "1.2.0",
      "model_name": "LayoutModel",
      "state": {}
     },
     "a1e5395507814bdf824b70eb7a9b8253": {
      "model_module": "@jupyter-widgets/base",
      "model_module_version": "1.2.0",
      "model_name": "LayoutModel",
      "state": {}
     },
     "a22d7e9a90014d1db1273961cb6e59e2": {
      "model_module": "@jupyter-widgets/base",
      "model_module_version": "1.2.0",
      "model_name": "LayoutModel",
      "state": {}
     },
     "a30ac4c835144e439f1d3a022c637444": {
      "model_module": "@jupyter-widgets/controls",
      "model_module_version": "1.5.0",
      "model_name": "DescriptionStyleModel",
      "state": {
       "description_width": ""
      }
     },
     "a3d14f8be4d44b6581186862b849cd79": {
      "model_module": "@jupyter-widgets/base",
      "model_module_version": "1.2.0",
      "model_name": "LayoutModel",
      "state": {}
     },
     "a47ac5f28ebd4ce0b02c6df750285782": {
      "model_module": "@jupyter-widgets/controls",
      "model_module_version": "1.5.0",
      "model_name": "DescriptionStyleModel",
      "state": {
       "description_width": ""
      }
     },
     "a4b81d5851a34096803bdf35fefebe86": {
      "model_module": "@jupyter-widgets/controls",
      "model_module_version": "1.5.0",
      "model_name": "FloatTextModel",
      "state": {
       "description": "pH:",
       "layout": "IPY_MODEL_7c1f7ee973e040199616578f5b6b4d63",
       "step": 0.01,
       "style": "IPY_MODEL_6608326ca94744b6a7ad004c531d8dce",
       "value": 7
      }
     },
     "a4d4f1c299df4ce292ee6a0b6326b509": {
      "model_module": "@jupyter-widgets/output",
      "model_module_version": "1.0.0",
      "model_name": "OutputModel",
      "state": {
       "layout": "IPY_MODEL_2f3f7f643ac847e39603841ae71cb96c",
       "outputs": [
        {
         "name": "stdout",
         "output_type": "stream",
         "text": "Sodium Acetate Anhydrous: 0.0g   Glacial Acetic Acid: 0.0mL   NaCl: 5.844g\n"
        }
       ]
      }
     },
     "a622eccf454441f1927a821f9131f680": {
      "model_module": "@jupyter-widgets/controls",
      "model_module_version": "1.5.0",
      "model_name": "DescriptionStyleModel",
      "state": {
       "description_width": ""
      }
     },
     "a96d1548816a4276930ad78180b0a54d": {
      "model_module": "@jupyter-widgets/output",
      "model_module_version": "1.0.0",
      "model_name": "OutputModel",
      "state": {
       "layout": "IPY_MODEL_eb172e03ff0b414593bab47bc909e1ed",
       "outputs": [
        {
         "name": "stdout",
         "output_type": "stream",
         "text": "NaPi Dibasic Anhydrous: 0.0g   NaPi Monobasic Monohydrate: 0.0g   NaCl: 5.844g\n"
        }
       ]
      }
     },
     "aa6273d7c586401aa2358ce16cdcdc86": {
      "model_module": "@jupyter-widgets/controls",
      "model_module_version": "1.5.0",
      "model_name": "HBoxModel",
      "state": {
       "children": [
        "IPY_MODEL_fad6bb1a20fe40429690f5f6302db7f1",
        "IPY_MODEL_4b8508a880344fbfaca976e722a06896",
        "IPY_MODEL_85d0054c58c24b11bc8284da30807f2b"
       ],
       "layout": "IPY_MODEL_5f379feda35e40ed894edde8ec132aca"
      }
     },
     "aa8c518d720c46348d1ba326dab4c6f8": {
      "model_module": "@jupyter-widgets/base",
      "model_module_version": "1.2.0",
      "model_name": "LayoutModel",
      "state": {}
     },
     "aa9cfad776ff45688aa757eef5959d29": {
      "model_module": "@jupyter-widgets/controls",
      "model_module_version": "1.5.0",
      "model_name": "FloatTextModel",
      "state": {
       "description": "Total Buffer:",
       "layout": "IPY_MODEL_871bc422dae64846b4d5b3d5262b93d1",
       "step": 0.001,
       "style": "IPY_MODEL_8a095785e6654910bd6afd1858d866da"
      }
     },
     "aafa3f77ce5c469c83b26c01e9779873": {
      "model_module": "@jupyter-widgets/controls",
      "model_module_version": "1.5.0",
      "model_name": "FloatTextModel",
      "state": {
       "description": "NaCl:",
       "layout": "IPY_MODEL_0d92892fabcd416cbc3d88247130949b",
       "step": 0.001,
       "style": "IPY_MODEL_70ac495460c44a88a28aedb3f466f2bd",
       "value": 0.1
      }
     },
     "ab07a8ad63854b959bb221cac9cd6502": {
      "model_module": "@jupyter-widgets/controls",
      "model_module_version": "1.5.0",
      "model_name": "FloatTextModel",
      "state": {
       "description": "pH:",
       "layout": "IPY_MODEL_6a417f49d2214ee6bf1457ac5f46a5c8",
       "step": 0.01,
       "style": "IPY_MODEL_25cdc0f473ec4fa2bff22f93db094b47",
       "value": 4.76
      }
     },
     "ab1a5ad8694a47c689e06bc65983fc3f": {
      "model_module": "@jupyter-widgets/controls",
      "model_module_version": "1.5.0",
      "model_name": "DescriptionStyleModel",
      "state": {
       "description_width": ""
      }
     },
     "ac4a6fa4a436441093d13953d6da287f": {
      "model_module": "@jupyter-widgets/base",
      "model_module_version": "1.2.0",
      "model_name": "LayoutModel",
      "state": {}
     },
     "acc676a57bed474fae4d20a0568567ad": {
      "model_module": "@jupyter-widgets/base",
      "model_module_version": "1.2.0",
      "model_name": "LayoutModel",
      "state": {}
     },
     "ad00c8cfc18f431588a511588850ea8c": {
      "model_module": "@jupyter-widgets/controls",
      "model_module_version": "1.5.0",
      "model_name": "FloatTextModel",
      "state": {
       "description": "NaCl:",
       "layout": "IPY_MODEL_de26a42fab3b42259ac436281c89e04e",
       "step": 0.001,
       "style": "IPY_MODEL_10b1776e6bc14f70880eecde32e353aa",
       "value": 0.1
      }
     },
     "ae72d200679249bea28fc7c0de5fb92a": {
      "model_module": "@jupyter-widgets/controls",
      "model_module_version": "1.5.0",
      "model_name": "DescriptionStyleModel",
      "state": {
       "description_width": ""
      }
     },
     "afa9b798abea43968032690623b9ca0c": {
      "model_module": "@jupyter-widgets/output",
      "model_module_version": "1.0.0",
      "model_name": "OutputModel",
      "state": {
       "layout": "IPY_MODEL_b46e99a23ad440f880ec649b307bcc11",
       "outputs": [
        {
         "name": "stdout",
         "output_type": "stream",
         "text": "NaPi Dibasic Anhydrous: 1.727906100835712g   NaPi Monobasic Monohydrate: 1.0802158716939994g   NaCl: 29.22g\n"
        }
       ]
      }
     },
     "b0009df528924f7fbae490162c10c27e": {
      "model_module": "@jupyter-widgets/controls",
      "model_module_version": "1.5.0",
      "model_name": "FloatTextModel",
      "state": {
       "description": "NaCl:",
       "layout": "IPY_MODEL_5903e4745a094b04b8e48550ccac7845",
       "step": 0.001,
       "style": "IPY_MODEL_4c3472bf82e0419398f002ebc706457f",
       "value": 0.1
      }
     },
     "b05a6fef49874232a04150bd845d876e": {
      "model_module": "@jupyter-widgets/controls",
      "model_module_version": "1.5.0",
      "model_name": "DescriptionStyleModel",
      "state": {
       "description_width": ""
      }
     },
     "b075a056e017428a9d26d856e4a6a5fb": {
      "model_module": "@jupyter-widgets/base",
      "model_module_version": "1.2.0",
      "model_name": "LayoutModel",
      "state": {}
     },
     "b1a18f0e9eab445789eac7c6a7a2449b": {
      "model_module": "@jupyter-widgets/controls",
      "model_module_version": "1.5.0",
      "model_name": "FloatTextModel",
      "state": {
       "description": "NaCl:",
       "layout": "IPY_MODEL_863a79c7510d44fe984627423a894658",
       "step": 0.001,
       "style": "IPY_MODEL_9bed221fcc7a4ad5b8d2fb97c3b9edc1",
       "value": 0.5
      }
     },
     "b1be8caa2e9246949ca72f26327f6da9": {
      "model_module": "@jupyter-widgets/controls",
      "model_module_version": "1.5.0",
      "model_name": "FloatTextModel",
      "state": {
       "description": "pH:",
       "layout": "IPY_MODEL_9a47a4686b2d451e88a3052847c7756e",
       "step": 0.01,
       "style": "IPY_MODEL_dc78c2a6008b4f878eb5a3651e9d5857",
       "value": 5.5
      }
     },
     "b2c8a7d99b2341948a26b4860b84a167": {
      "model_module": "@jupyter-widgets/base",
      "model_module_version": "1.2.0",
      "model_name": "LayoutModel",
      "state": {}
     },
     "b315ae8de29248f78f4b7d30538b04a9": {
      "model_module": "@jupyter-widgets/controls",
      "model_module_version": "1.5.0",
      "model_name": "HBoxModel",
      "state": {
       "children": [
        "IPY_MODEL_8caa1ee6592b4acbbbd020330cd7a2bd",
        "IPY_MODEL_c9ae4d3336684a26a60ffff96c90fe1e",
        "IPY_MODEL_746c5c846e9a4e91873e9075aa4c0c84"
       ],
       "layout": "IPY_MODEL_c41db8619b0f4cba88e3cb245edb61d0"
      }
     },
     "b356f09d21a94986904a741d24af8cb6": {
      "model_module": "@jupyter-widgets/base",
      "model_module_version": "1.2.0",
      "model_name": "LayoutModel",
      "state": {}
     },
     "b3ab35fc8f1c4e6c94990eeb4131077a": {
      "model_module": "@jupyter-widgets/output",
      "model_module_version": "1.0.0",
      "model_name": "OutputModel",
      "state": {
       "layout": "IPY_MODEL_f9e6372f95794ff68a0e805789d7a165",
       "outputs": [
        {
         "name": "stdout",
         "output_type": "stream",
         "text": "NaPi Dibasic Anhydrous: 0.7719600318226262g   NaPi Monobasic Monohydrate: 2.00942831226258g   NaCl: 29.22g\n"
        }
       ]
      }
     },
     "b442a74c25ce4238873035e9dc9a68f6": {
      "model_module": "@jupyter-widgets/base",
      "model_module_version": "1.2.0",
      "model_name": "LayoutModel",
      "state": {}
     },
     "b46e99a23ad440f880ec649b307bcc11": {
      "model_module": "@jupyter-widgets/base",
      "model_module_version": "1.2.0",
      "model_name": "LayoutModel",
      "state": {}
     },
     "b47f3981c4f345e1b03edc57a52a5148": {
      "model_module": "@jupyter-widgets/controls",
      "model_module_version": "1.5.0",
      "model_name": "FloatTextModel",
      "state": {
       "description": "Total Buffer:",
       "layout": "IPY_MODEL_06af524157814aef84d24c02ac63deed",
       "step": 0.001,
       "style": "IPY_MODEL_854011f53afb460b8240764172306267"
      }
     },
     "b4e33b0f456b4276bce20ed9b53e8d8c": {
      "model_module": "@jupyter-widgets/base",
      "model_module_version": "1.2.0",
      "model_name": "LayoutModel",
      "state": {}
     },
     "b53e3400367d4824ad699f61abbb92c2": {
      "model_module": "@jupyter-widgets/base",
      "model_module_version": "1.2.0",
      "model_name": "LayoutModel",
      "state": {}
     },
     "b96d6ff620cc497d96390e436017ca08": {
      "model_module": "@jupyter-widgets/controls",
      "model_module_version": "1.5.0",
      "model_name": "HBoxModel",
      "state": {
       "children": [
        "IPY_MODEL_659f7c43e01d4c9aae7fe5e4bb6b4b1c",
        "IPY_MODEL_74a1415ab3d2479ebef3a09b93e71609",
        "IPY_MODEL_2e608502ebde4d7085ea1a51d8cacb37"
       ],
       "layout": "IPY_MODEL_fb3bb16233a0406abe481fb28f85308b"
      }
     },
     "b9ec50dc22e8429aa5222800a70a4dd6": {
      "model_module": "@jupyter-widgets/base",
      "model_module_version": "1.2.0",
      "model_name": "LayoutModel",
      "state": {}
     },
     "bb15598afcc84fe2860a212a2ed10caf": {
      "model_module": "@jupyter-widgets/base",
      "model_module_version": "1.2.0",
      "model_name": "LayoutModel",
      "state": {}
     },
     "bb2101599b514fc89b5828d399d0d4bd": {
      "model_module": "@jupyter-widgets/controls",
      "model_module_version": "1.5.0",
      "model_name": "DescriptionStyleModel",
      "state": {
       "description_width": ""
      }
     },
     "bb3283664ad349fdba786f4d5bac126d": {
      "model_module": "@jupyter-widgets/controls",
      "model_module_version": "1.5.0",
      "model_name": "HBoxModel",
      "state": {
       "children": [
        "IPY_MODEL_fdcf757f3fcd45e5a55a86b43514db24",
        "IPY_MODEL_2eb5356b6add4a6a836301bce0eeec88",
        "IPY_MODEL_74baba1af7554e7d9820e97da9f77d24"
       ],
       "layout": "IPY_MODEL_8798de3384ab4dc283bef848b8565491"
      }
     },
     "bbcab5a4625947edbc21cc067098c072": {
      "model_module": "@jupyter-widgets/controls",
      "model_module_version": "1.5.0",
      "model_name": "FloatTextModel",
      "state": {
       "description": "Total Buffer:",
       "layout": "IPY_MODEL_42910c0f9b5d4fec8c05aab4c18ad7a3",
       "step": 0.001,
       "style": "IPY_MODEL_67a07ad69f9d46afbd9cb382fbf40d3e",
       "value": 0.028
      }
     },
     "be5924316b474acf86ae5db12064f784": {
      "model_module": "@jupyter-widgets/base",
      "model_module_version": "1.2.0",
      "model_name": "LayoutModel",
      "state": {}
     },
     "bead2073eadf41caa4367484e4be6d06": {
      "model_module": "@jupyter-widgets/base",
      "model_module_version": "1.2.0",
      "model_name": "LayoutModel",
      "state": {}
     },
     "beb9905bd79e4eb0a56f2faffb741e59": {
      "model_module": "@jupyter-widgets/controls",
      "model_module_version": "1.5.0",
      "model_name": "FloatTextModel",
      "state": {
       "description": "pH:",
       "layout": "IPY_MODEL_cd182c85620c4611b91b1252d599e691",
       "step": 0.01,
       "style": "IPY_MODEL_2ac13ce6b0b4495293fb7b48aebac90f",
       "value": 6.8
      }
     },
     "bfb6c11a88e941e38e44d5c8e4f18b51": {
      "model_module": "@jupyter-widgets/base",
      "model_module_version": "1.2.0",
      "model_name": "LayoutModel",
      "state": {}
     },
     "c0176a6e0f844d168166b92b7dd6c96d": {
      "model_module": "@jupyter-widgets/base",
      "model_module_version": "1.2.0",
      "model_name": "LayoutModel",
      "state": {}
     },
     "c151f2cee1f8459a9e757304e216b5fb": {
      "model_module": "@jupyter-widgets/controls",
      "model_module_version": "1.5.0",
      "model_name": "DescriptionStyleModel",
      "state": {
       "description_width": ""
      }
     },
     "c1e21717b5564950aabf28e7a4942c6d": {
      "model_module": "@jupyter-widgets/base",
      "model_module_version": "1.2.0",
      "model_name": "LayoutModel",
      "state": {}
     },
     "c34918900d8345adb90aa392a33e3639": {
      "model_module": "@jupyter-widgets/controls",
      "model_module_version": "1.5.0",
      "model_name": "FloatTextModel",
      "state": {
       "description": "Total Buffer:",
       "layout": "IPY_MODEL_4310f3dc36994f4e982edc71ecc9f989",
       "step": 0.001,
       "style": "IPY_MODEL_8daa98cf7f8e4852b36242b508b9d277"
      }
     },
     "c37cd3d9666d486ea818631be4ed07bd": {
      "model_module": "@jupyter-widgets/controls",
      "model_module_version": "1.5.0",
      "model_name": "DescriptionStyleModel",
      "state": {
       "description_width": ""
      }
     },
     "c3e63ed0df6242f7870486f3686b46b4": {
      "model_module": "@jupyter-widgets/base",
      "model_module_version": "1.2.0",
      "model_name": "LayoutModel",
      "state": {}
     },
     "c41db8619b0f4cba88e3cb245edb61d0": {
      "model_module": "@jupyter-widgets/base",
      "model_module_version": "1.2.0",
      "model_name": "LayoutModel",
      "state": {}
     },
     "c439924c93e64e7b955ef5e1551e999f": {
      "model_module": "@jupyter-widgets/output",
      "model_module_version": "1.0.0",
      "model_name": "OutputModel",
      "state": {
       "layout": "IPY_MODEL_def2b967724846ee8a354ccb15f759de"
      }
     },
     "c47d4878445f476f83d3ad3191a205d8": {
      "model_module": "@jupyter-widgets/controls",
      "model_module_version": "1.5.0",
      "model_name": "FloatTextModel",
      "state": {
       "description": "pH:",
       "layout": "IPY_MODEL_7e07b7030c5e41caba708f0ab95b0195",
       "step": 0.01,
       "style": "IPY_MODEL_a622eccf454441f1927a821f9131f680",
       "value": 6.8
      }
     },
     "c4d2743c4e3147998d9397bdd40b0643": {
      "model_module": "@jupyter-widgets/base",
      "model_module_version": "1.2.0",
      "model_name": "LayoutModel",
      "state": {}
     },
     "c53b85403409479bb16ed724a2eb8de8": {
      "model_module": "@jupyter-widgets/controls",
      "model_module_version": "1.5.0",
      "model_name": "FloatTextModel",
      "state": {
       "description": "Total Buffer:",
       "layout": "IPY_MODEL_3bd42afb0c964a638af873f8354b7edd",
       "step": 0.001,
       "style": "IPY_MODEL_7a7caff9156d4d7aa2658edb9c135131"
      }
     },
     "c7185b28affc48d78e3b9664aca1d1aa": {
      "model_module": "@jupyter-widgets/controls",
      "model_module_version": "1.5.0",
      "model_name": "DescriptionStyleModel",
      "state": {
       "description_width": ""
      }
     },
     "c718abc8d06047e1a664ee2e9bfe8bee": {
      "model_module": "@jupyter-widgets/base",
      "model_module_version": "1.2.0",
      "model_name": "LayoutModel",
      "state": {}
     },
     "c8358062b7064c4cbf03c7e2d0d0d657": {
      "model_module": "@jupyter-widgets/controls",
      "model_module_version": "1.5.0",
      "model_name": "DescriptionStyleModel",
      "state": {
       "description_width": ""
      }
     },
     "c896d8438937425ba9cf2d687fa5eb69": {
      "model_module": "@jupyter-widgets/base",
      "model_module_version": "1.2.0",
      "model_name": "LayoutModel",
      "state": {}
     },
     "c8cbcdb48abb45bc91cc6031a784bf33": {
      "model_module": "@jupyter-widgets/controls",
      "model_module_version": "1.5.0",
      "model_name": "FloatTextModel",
      "state": {
       "description": "pH:",
       "layout": "IPY_MODEL_36e70ed05ee44243a27aaf0c2cd9f2a5",
       "step": 0.01,
       "style": "IPY_MODEL_75534f926a4849f1af30d1c4c941bcee",
       "value": 6.8
      }
     },
     "c92131d878d54e88985ed0cb8b55b302": {
      "model_module": "@jupyter-widgets/base",
      "model_module_version": "1.2.0",
      "model_name": "LayoutModel",
      "state": {}
     },
     "c9ae4d3336684a26a60ffff96c90fe1e": {
      "model_module": "@jupyter-widgets/controls",
      "model_module_version": "1.5.0",
      "model_name": "FloatTextModel",
      "state": {
       "description": "NaCl:",
       "layout": "IPY_MODEL_11fd1015f1584d74984212af218b12da",
       "step": 0.001,
       "style": "IPY_MODEL_7f4213b3559d40feb9a63c4570732c67",
       "value": 0.1
      }
     },
     "c9e3e94615094185910671a40275cc85": {
      "model_module": "@jupyter-widgets/base",
      "model_module_version": "1.2.0",
      "model_name": "LayoutModel",
      "state": {}
     },
     "ca5606dc81a444f4a0e293075798d3be": {
      "model_module": "@jupyter-widgets/output",
      "model_module_version": "1.0.0",
      "model_name": "OutputModel",
      "state": {
       "layout": "IPY_MODEL_f250bcd85c5348fda14ccc198276538f"
      }
     },
     "caee7303ca654a15953094599075b95a": {
      "model_module": "@jupyter-widgets/controls",
      "model_module_version": "1.5.0",
      "model_name": "FloatTextModel",
      "state": {
       "description": "Total Buffer:",
       "layout": "IPY_MODEL_1425c1e6974748fea60098114128b209",
       "step": 0.001,
       "style": "IPY_MODEL_956c6552ae594d82955ae9cde919c928"
      }
     },
     "cb715f84c0ab4e8484289b83a9793a95": {
      "model_module": "@jupyter-widgets/base",
      "model_module_version": "1.2.0",
      "model_name": "LayoutModel",
      "state": {}
     },
     "cb7a39012454492cb1a4d510e1a96a6a": {
      "model_module": "@jupyter-widgets/base",
      "model_module_version": "1.2.0",
      "model_name": "LayoutModel",
      "state": {}
     },
     "cb93ca315f874a2eaa63148ea682721d": {
      "model_module": "@jupyter-widgets/base",
      "model_module_version": "1.2.0",
      "model_name": "LayoutModel",
      "state": {}
     },
     "cc4d7cfccf734dd2a857aa42a38d282f": {
      "model_module": "@jupyter-widgets/controls",
      "model_module_version": "1.5.0",
      "model_name": "DescriptionStyleModel",
      "state": {
       "description_width": ""
      }
     },
     "cd182c85620c4611b91b1252d599e691": {
      "model_module": "@jupyter-widgets/base",
      "model_module_version": "1.2.0",
      "model_name": "LayoutModel",
      "state": {}
     },
     "cdb2f2ed0611449c9d50b3b107d3ba4e": {
      "model_module": "@jupyter-widgets/base",
      "model_module_version": "1.2.0",
      "model_name": "LayoutModel",
      "state": {}
     },
     "ce04e4ed5c8a41aa87cc851ba311364e": {
      "model_module": "@jupyter-widgets/base",
      "model_module_version": "1.2.0",
      "model_name": "LayoutModel",
      "state": {}
     },
     "ce49bd3ae3df4edb8ff574b2174d413f": {
      "model_module": "@jupyter-widgets/controls",
      "model_module_version": "1.5.0",
      "model_name": "FloatTextModel",
      "state": {
       "description": "Total Buffer:",
       "layout": "IPY_MODEL_f03f71a97fe94542aa7f691ab0107bb5",
       "step": 0.001,
       "style": "IPY_MODEL_0464f6a7937947499594278053a6f4b1"
      }
     },
     "cedf899384dc442092e6ae31fb6107bb": {
      "model_module": "@jupyter-widgets/controls",
      "model_module_version": "1.5.0",
      "model_name": "HBoxModel",
      "state": {
       "children": [
        "IPY_MODEL_8dba8dfea7094731950e09fc9926beaa",
        "IPY_MODEL_8f7203e7a1c44a6283a1ebecccc0e78e",
        "IPY_MODEL_8dfb4177c0a6457180e90b2bab958087"
       ],
       "layout": "IPY_MODEL_93b3f84fc9524b9cbcb1e45797c9161e"
      }
     },
     "cf8c2c415b3848c2af321b66aa863e28": {
      "model_module": "@jupyter-widgets/controls",
      "model_module_version": "1.5.0",
      "model_name": "FloatTextModel",
      "state": {
       "description": "NaCl:",
       "layout": "IPY_MODEL_8799bb42bf16434f9bb446f3583a8896",
       "step": 0.001,
       "style": "IPY_MODEL_927c011a887d421dbd5412e4a618e030",
       "value": 0.1
      }
     },
     "d1226966935945dea755ea7a9a040f05": {
      "model_module": "@jupyter-widgets/base",
      "model_module_version": "1.2.0",
      "model_name": "LayoutModel",
      "state": {}
     },
     "d13589e69b4f49bf97555610d6ae1bc5": {
      "model_module": "@jupyter-widgets/output",
      "model_module_version": "1.0.0",
      "model_name": "OutputModel",
      "state": {
       "layout": "IPY_MODEL_fe969b11506047f9a4aa296cdcd28ab6",
       "outputs": [
        {
         "name": "stdout",
         "output_type": "stream",
         "text": "NaPi Dibasic Anhydrous: 0.7719600318226262g   NaPi Monobasic Monohydrate: 2.00942831226258g   NaCl: 29.22g\n"
        }
       ]
      }
     },
     "d152ba6ade054d6187815743de60ed41": {
      "model_module": "@jupyter-widgets/controls",
      "model_module_version": "1.5.0",
      "model_name": "FloatTextModel",
      "state": {
       "description": "Total Buffer:",
       "layout": "IPY_MODEL_7a2196227a5940ab82842b99c0379afa",
       "step": 0.001,
       "style": "IPY_MODEL_738f623d92c94b00b05ac1921ef92820"
      }
     },
     "d16c4db88b9640e08323e29b75d789d6": {
      "model_module": "@jupyter-widgets/base",
      "model_module_version": "1.2.0",
      "model_name": "LayoutModel",
      "state": {}
     },
     "d23375270031403aaeea303ce0b44c42": {
      "model_module": "@jupyter-widgets/base",
      "model_module_version": "1.2.0",
      "model_name": "LayoutModel",
      "state": {}
     },
     "d26cb2e1231c4f5689c99bfe92c3cdda": {
      "model_module": "@jupyter-widgets/base",
      "model_module_version": "1.2.0",
      "model_name": "LayoutModel",
      "state": {}
     },
     "d2b279719e7647b08ca2f329389772e5": {
      "model_module": "@jupyter-widgets/base",
      "model_module_version": "1.2.0",
      "model_name": "LayoutModel",
      "state": {}
     },
     "d36d7ee4208b46ff95fc4593ed10b090": {
      "model_module": "@jupyter-widgets/base",
      "model_module_version": "1.2.0",
      "model_name": "LayoutModel",
      "state": {}
     },
     "d38e84212083413fbb66a0b49c9d6a31": {
      "model_module": "@jupyter-widgets/controls",
      "model_module_version": "1.5.0",
      "model_name": "DescriptionStyleModel",
      "state": {
       "description_width": ""
      }
     },
     "d3aeaf477c894f58a076b36a44d523e3": {
      "model_module": "@jupyter-widgets/controls",
      "model_module_version": "1.5.0",
      "model_name": "DescriptionStyleModel",
      "state": {
       "description_width": ""
      }
     },
     "d3c34630f5274a8ea37d3ee7f4da220f": {
      "model_module": "@jupyter-widgets/output",
      "model_module_version": "1.0.0",
      "model_name": "OutputModel",
      "state": {
       "layout": "IPY_MODEL_7640a074c8934af383d326077fa1be3d",
       "outputs": [
        {
         "name": "stdout",
         "output_type": "stream",
         "text": "Sodium Acetate Anhydrous: 0.0g   Glacial Acetic Acid: 0.0mL   NaCl: 5.844g\n"
        }
       ]
      }
     },
     "d4fe41770cd74f0d87886404f76df413": {
      "model_module": "@jupyter-widgets/controls",
      "model_module_version": "1.5.0",
      "model_name": "HBoxModel",
      "state": {
       "children": [
        "IPY_MODEL_1e0d099669a64d0c992c78c4070e8e4c",
        "IPY_MODEL_45cdd89e515649ae884cbd62e7800648",
        "IPY_MODEL_282d0b6574c7404eb0be1609aece06b6"
       ],
       "layout": "IPY_MODEL_950090cb7d554545ab2f4e77107812bd"
      }
     },
     "d60be8fb53014d4b8592955abafd6cfa": {
      "model_module": "@jupyter-widgets/controls",
      "model_module_version": "1.5.0",
      "model_name": "FloatTextModel",
      "state": {
       "description": "NaCl:",
       "layout": "IPY_MODEL_342e6d55446c4a44bed815044621d1dd",
       "step": 0.001,
       "style": "IPY_MODEL_01428ac972b94e4689a34c65b57b58a3",
       "value": 0.1
      }
     },
     "d6215aec8d3349e49e174b347ecc77f5": {
      "model_module": "@jupyter-widgets/base",
      "model_module_version": "1.2.0",
      "model_name": "LayoutModel",
      "state": {}
     },
     "d6649cbd979541369856db28645fae71": {
      "model_module": "@jupyter-widgets/base",
      "model_module_version": "1.2.0",
      "model_name": "LayoutModel",
      "state": {}
     },
     "d6bce893e2db439c8fcfbffa30c06ff4": {
      "model_module": "@jupyter-widgets/base",
      "model_module_version": "1.2.0",
      "model_name": "LayoutModel",
      "state": {}
     },
     "d700bce1d0ef486fa7edc101b0fea42b": {
      "model_module": "@jupyter-widgets/controls",
      "model_module_version": "1.5.0",
      "model_name": "DescriptionStyleModel",
      "state": {
       "description_width": ""
      }
     },
     "d766c7a13530408893db524b4afef462": {
      "model_module": "@jupyter-widgets/controls",
      "model_module_version": "1.5.0",
      "model_name": "HBoxModel",
      "state": {
       "children": [
        "IPY_MODEL_1323449b628640d5b543a216798edfe1",
        "IPY_MODEL_e6de69f797734380a96e281740a7a892",
        "IPY_MODEL_7370e445545b45348b214db439ef6f0e"
       ],
       "layout": "IPY_MODEL_33e54ba916ae41e2a3f309c613ec4cb1"
      }
     },
     "d84f674612a0476d9d394c1b8685ed96": {
      "model_module": "@jupyter-widgets/base",
      "model_module_version": "1.2.0",
      "model_name": "LayoutModel",
      "state": {}
     },
     "d8d06c56146c41e1a6fbfec98f877b58": {
      "model_module": "@jupyter-widgets/base",
      "model_module_version": "1.2.0",
      "model_name": "LayoutModel",
      "state": {}
     },
     "d969c9bce0854682b253b9cba6046ece": {
      "model_module": "@jupyter-widgets/controls",
      "model_module_version": "1.5.0",
      "model_name": "DescriptionStyleModel",
      "state": {
       "description_width": ""
      }
     },
     "da7086d542b649c5ad0ec166b44c24ae": {
      "model_module": "@jupyter-widgets/controls",
      "model_module_version": "1.5.0",
      "model_name": "FloatTextModel",
      "state": {
       "description": "NaCl:",
       "layout": "IPY_MODEL_859e60372baa4e02ab689cd0e1c11726",
       "step": 0.001,
       "style": "IPY_MODEL_5e6817036a67433abee8b177ecff32d7",
       "value": 0.1
      }
     },
     "db4f407163294e7793f70b0a191e1c01": {
      "model_module": "@jupyter-widgets/base",
      "model_module_version": "1.2.0",
      "model_name": "LayoutModel",
      "state": {}
     },
     "db500f1bdd024819a381ab63c732aed5": {
      "model_module": "@jupyter-widgets/controls",
      "model_module_version": "1.5.0",
      "model_name": "FloatTextModel",
      "state": {
       "description": "pH:",
       "layout": "IPY_MODEL_4af8ebb74a5944eda352b39e04c1a750",
       "step": 0.01,
       "style": "IPY_MODEL_1c8b8f3deb6d4f5d8323841594812770",
       "value": 5.5
      }
     },
     "dbb1fece73bf4ef297aae6e4b84be877": {
      "model_module": "@jupyter-widgets/controls",
      "model_module_version": "1.5.0",
      "model_name": "HBoxModel",
      "state": {
       "children": [
        "IPY_MODEL_36c12c978e5a44bcb1fe0eafaf8c115d",
        "IPY_MODEL_24d4f8dd83b8409099c8deedc523bf0d",
        "IPY_MODEL_0df7b4cc2d094d95b5789513302ee22a"
       ],
       "layout": "IPY_MODEL_2992fddec881457a8ee40dfe62a5bff7"
      }
     },
     "dc206d8a9b454c21985a8d01022ae1c1": {
      "model_module": "@jupyter-widgets/base",
      "model_module_version": "1.2.0",
      "model_name": "LayoutModel",
      "state": {}
     },
     "dc78c2a6008b4f878eb5a3651e9d5857": {
      "model_module": "@jupyter-widgets/controls",
      "model_module_version": "1.5.0",
      "model_name": "DescriptionStyleModel",
      "state": {
       "description_width": ""
      }
     },
     "dcb4aabe06514354ad02fe9af7677df4": {
      "model_module": "@jupyter-widgets/controls",
      "model_module_version": "1.5.0",
      "model_name": "FloatTextModel",
      "state": {
       "description": "Total Buffer:",
       "layout": "IPY_MODEL_1321d641ee7246e0b4fa5858a0a01b66",
       "step": 0.001,
       "style": "IPY_MODEL_3c18b452e8ac4a7d96eb33586c60fba4",
       "value": 0.1
      }
     },
     "dcdc6181cacb41e4abfbb49ed9807e5a": {
      "model_module": "@jupyter-widgets/controls",
      "model_module_version": "1.5.0",
      "model_name": "FloatTextModel",
      "state": {
       "description": "pH:",
       "layout": "IPY_MODEL_740f3d98fc414e3890014cb6347003d7",
       "step": 0.01,
       "style": "IPY_MODEL_bb2101599b514fc89b5828d399d0d4bd",
       "value": 7
      }
     },
     "dd91c2741a614d50a7f3907b94406158": {
      "model_module": "@jupyter-widgets/controls",
      "model_module_version": "1.5.0",
      "model_name": "DescriptionStyleModel",
      "state": {
       "description_width": ""
      }
     },
     "ddc2328dbb334c008f778884086e7f3a": {
      "model_module": "@jupyter-widgets/controls",
      "model_module_version": "1.5.0",
      "model_name": "FloatTextModel",
      "state": {
       "description": "pH:",
       "layout": "IPY_MODEL_0976cbcb07f245258971e99f22f23d63",
       "step": 0.01,
       "style": "IPY_MODEL_663d5789c85548f6a510a11667896e82",
       "value": 6.9
      }
     },
     "de02adcd591f4e249a9cec31092d5b9e": {
      "model_module": "@jupyter-widgets/controls",
      "model_module_version": "1.5.0",
      "model_name": "FloatTextModel",
      "state": {
       "description": "Total Buffer:",
       "layout": "IPY_MODEL_592c34af31dd4eef87b437fcc5e9935a",
       "step": 0.001,
       "style": "IPY_MODEL_9a47f94ba1564077b74411448f9b3085",
       "value": 0.02
      }
     },
     "de26a42fab3b42259ac436281c89e04e": {
      "model_module": "@jupyter-widgets/base",
      "model_module_version": "1.2.0",
      "model_name": "LayoutModel",
      "state": {}
     },
     "ded03ef7b9264f448b62d05f6bc66bc1": {
      "model_module": "@jupyter-widgets/controls",
      "model_module_version": "1.5.0",
      "model_name": "FloatTextModel",
      "state": {
       "description": "pH:",
       "layout": "IPY_MODEL_d2b279719e7647b08ca2f329389772e5",
       "step": 0.01,
       "style": "IPY_MODEL_554e6cfd2d1a431eb2be4b8465130c75",
       "value": 7
      }
     },
     "def2b967724846ee8a354ccb15f759de": {
      "model_module": "@jupyter-widgets/base",
      "model_module_version": "1.2.0",
      "model_name": "LayoutModel",
      "state": {}
     },
     "df4c7f5e79954bea81e1b5a937a1df35": {
      "model_module": "@jupyter-widgets/controls",
      "model_module_version": "1.5.0",
      "model_name": "FloatTextModel",
      "state": {
       "description": "pH:",
       "layout": "IPY_MODEL_648efeda32f045cd8d245a7120f18b3b",
       "step": 0.01,
       "style": "IPY_MODEL_91d4fd9c3b714bbaaeb2bc43a57a1716",
       "value": 4.76
      }
     },
     "e0e40791fd7f4e2cacf83e5268221f5d": {
      "model_module": "@jupyter-widgets/base",
      "model_module_version": "1.2.0",
      "model_name": "LayoutModel",
      "state": {}
     },
     "e1f761a0c0904c64b9a9d8b9a09366f4": {
      "model_module": "@jupyter-widgets/controls",
      "model_module_version": "1.5.0",
      "model_name": "FloatTextModel",
      "state": {
       "description": "Total Buffer:",
       "layout": "IPY_MODEL_fa4aa827fe924ba9b7ffa812a5c56cf4",
       "step": 0.001,
       "style": "IPY_MODEL_7335fd2699e945ec8084feb5afa45984",
       "value": 0.02
      }
     },
     "e288ea8460f7490580f6390bc0181bf4": {
      "model_module": "@jupyter-widgets/base",
      "model_module_version": "1.2.0",
      "model_name": "LayoutModel",
      "state": {}
     },
     "e2abfd83969546d2be8ec32c73bac6ea": {
      "model_module": "@jupyter-widgets/output",
      "model_module_version": "1.0.0",
      "model_name": "OutputModel",
      "state": {
       "layout": "IPY_MODEL_2a96ab81aa704a6aa09ab78f99b0e285"
      }
     },
     "e30dddd9a8b8458f8c49945d6a5c72d7": {
      "model_module": "@jupyter-widgets/base",
      "model_module_version": "1.2.0",
      "model_name": "LayoutModel",
      "state": {}
     },
     "e3176804daef47389ec0952e7e9e2112": {
      "model_module": "@jupyter-widgets/controls",
      "model_module_version": "1.5.0",
      "model_name": "HBoxModel",
      "state": {
       "children": [
        "IPY_MODEL_429f9db2a019449da7e6d42f71cee1c4",
        "IPY_MODEL_08177d6639f14c369e3a572ebb3b2a09",
        "IPY_MODEL_93e5b2b3a77f49428064fd92b7ec1837"
       ],
       "layout": "IPY_MODEL_b442a74c25ce4238873035e9dc9a68f6"
      }
     },
     "e3b6fa6d9dca4e52ab31c27c762822e6": {
      "model_module": "@jupyter-widgets/controls",
      "model_module_version": "1.5.0",
      "model_name": "DescriptionStyleModel",
      "state": {
       "description_width": ""
      }
     },
     "e54f3bcf6ebf451aa2bb3748b4280a4e": {
      "model_module": "@jupyter-widgets/base",
      "model_module_version": "1.2.0",
      "model_name": "LayoutModel",
      "state": {}
     },
     "e5603244f31c472da79da2111f257372": {
      "model_module": "@jupyter-widgets/output",
      "model_module_version": "1.0.0",
      "model_name": "OutputModel",
      "state": {
       "layout": "IPY_MODEL_816ff22316e74924afd15910ea5e6bdc",
       "outputs": [
        {
         "name": "stdout",
         "output_type": "stream",
         "text": "NaPi Dibasic Anhydrous: 1.147840748394653g   NaPi Monobasic Monohydrate: 1.6440593345239634g   NaCl: 29.22g\n"
        }
       ]
      }
     },
     "e6d2539b265141b884d6fb7d1e89adfe": {
      "model_module": "@jupyter-widgets/output",
      "model_module_version": "1.0.0",
      "model_name": "OutputModel",
      "state": {
       "layout": "IPY_MODEL_2287a8b4a4774b59b9467ecc4c8a5b35",
       "outputs": [
        {
         "name": "stdout",
         "output_type": "stream",
         "text": "NaPi Dibasic Anhydrous: 0.835189152521515g   NaPi Monobasic Monohydrate: 1.9479674333865609g   NaCl: 29.22g\n"
        }
       ]
      }
     },
     "e6de69f797734380a96e281740a7a892": {
      "model_module": "@jupyter-widgets/controls",
      "model_module_version": "1.5.0",
      "model_name": "FloatTextModel",
      "state": {
       "description": "NaCl:",
       "layout": "IPY_MODEL_5e948f6531b74d16850408b54d82c293",
       "step": 0.001,
       "style": "IPY_MODEL_a30ac4c835144e439f1d3a022c637444",
       "value": 0.1
      }
     },
     "e892835c2add423d964926744ec2f6a2": {
      "model_module": "@jupyter-widgets/controls",
      "model_module_version": "1.5.0",
      "model_name": "DescriptionStyleModel",
      "state": {
       "description_width": ""
      }
     },
     "e929e1b05d0d48778302d1dd5d454cd0": {
      "model_module": "@jupyter-widgets/base",
      "model_module_version": "1.2.0",
      "model_name": "LayoutModel",
      "state": {}
     },
     "e93ab8f3c1504fc293803a3e00537dd2": {
      "model_module": "@jupyter-widgets/base",
      "model_module_version": "1.2.0",
      "model_name": "LayoutModel",
      "state": {}
     },
     "e9c0d96b3f86462c9d65935acff96574": {
      "model_module": "@jupyter-widgets/base",
      "model_module_version": "1.2.0",
      "model_name": "LayoutModel",
      "state": {}
     },
     "ea85a01518bd4bd9adc28a2e068c8c7a": {
      "model_module": "@jupyter-widgets/controls",
      "model_module_version": "1.5.0",
      "model_name": "FloatTextModel",
      "state": {
       "description": "pH:",
       "layout": "IPY_MODEL_b356f09d21a94986904a741d24af8cb6",
       "step": 0.01,
       "style": "IPY_MODEL_0a304082f7ab42598850c5f32109e5d6",
       "value": 5.5
      }
     },
     "eb172e03ff0b414593bab47bc909e1ed": {
      "model_module": "@jupyter-widgets/base",
      "model_module_version": "1.2.0",
      "model_name": "LayoutModel",
      "state": {}
     },
     "eb9a72e4bca946708e38344326190be7": {
      "model_module": "@jupyter-widgets/base",
      "model_module_version": "1.2.0",
      "model_name": "LayoutModel",
      "state": {}
     },
     "ec15361a147b4ef3b43a233f27c7104f": {
      "model_module": "@jupyter-widgets/controls",
      "model_module_version": "1.5.0",
      "model_name": "DescriptionStyleModel",
      "state": {
       "description_width": ""
      }
     },
     "ecf068ce5a5f47cebaf4f5eba7ef0f6f": {
      "model_module": "@jupyter-widgets/controls",
      "model_module_version": "1.5.0",
      "model_name": "DescriptionStyleModel",
      "state": {
       "description_width": ""
      }
     },
     "ed052bee370344598be85c7c6f2431fc": {
      "model_module": "@jupyter-widgets/controls",
      "model_module_version": "1.5.0",
      "model_name": "FloatTextModel",
      "state": {
       "description": "NaCl:",
       "layout": "IPY_MODEL_4a0a3b834c354a9d950396fa78a58db4",
       "step": 0.001,
       "style": "IPY_MODEL_d3aeaf477c894f58a076b36a44d523e3",
       "value": 0.1
      }
     },
     "ed3b737f12d940b187c0422a2e31ee96": {
      "model_module": "@jupyter-widgets/controls",
      "model_module_version": "1.5.0",
      "model_name": "DescriptionStyleModel",
      "state": {
       "description_width": ""
      }
     },
     "ed60dcb30c9c4075bf28db0c16a56b9a": {
      "model_module": "@jupyter-widgets/base",
      "model_module_version": "1.2.0",
      "model_name": "LayoutModel",
      "state": {}
     },
     "edd07d9674444d0793307814c35c2c38": {
      "model_module": "@jupyter-widgets/controls",
      "model_module_version": "1.5.0",
      "model_name": "DescriptionStyleModel",
      "state": {
       "description_width": ""
      }
     },
     "ef3d56b87bbb4a3c827af7d2af4ceac2": {
      "model_module": "@jupyter-widgets/base",
      "model_module_version": "1.2.0",
      "model_name": "LayoutModel",
      "state": {}
     },
     "effabcae0a6943b9b6b8ab7323e6ba70": {
      "model_module": "@jupyter-widgets/base",
      "model_module_version": "1.2.0",
      "model_name": "LayoutModel",
      "state": {}
     },
     "f03f71a97fe94542aa7f691ab0107bb5": {
      "model_module": "@jupyter-widgets/base",
      "model_module_version": "1.2.0",
      "model_name": "LayoutModel",
      "state": {}
     },
     "f0c0e62f063e4cdbb48918ba0c498e7c": {
      "model_module": "@jupyter-widgets/base",
      "model_module_version": "1.2.0",
      "model_name": "LayoutModel",
      "state": {}
     },
     "f250bcd85c5348fda14ccc198276538f": {
      "model_module": "@jupyter-widgets/base",
      "model_module_version": "1.2.0",
      "model_name": "LayoutModel",
      "state": {}
     },
     "f26c97b8729745caa2265c1db95e9c94": {
      "model_module": "@jupyter-widgets/base",
      "model_module_version": "1.2.0",
      "model_name": "LayoutModel",
      "state": {}
     },
     "f44c1ba8bd684c539eb3a85bd31c9fa0": {
      "model_module": "@jupyter-widgets/base",
      "model_module_version": "1.2.0",
      "model_name": "LayoutModel",
      "state": {}
     },
     "f48ece9e15884e19be71f6d23cd80b10": {
      "model_module": "@jupyter-widgets/base",
      "model_module_version": "1.2.0",
      "model_name": "LayoutModel",
      "state": {}
     },
     "f4c99be93eea4936a1afd3846251afc3": {
      "model_module": "@jupyter-widgets/controls",
      "model_module_version": "1.5.0",
      "model_name": "HBoxModel",
      "state": {
       "children": [
        "IPY_MODEL_aa9cfad776ff45688aa757eef5959d29",
        "IPY_MODEL_da7086d542b649c5ad0ec166b44c24ae",
        "IPY_MODEL_61cbae590ef44aadafdcd021e43697e4"
       ],
       "layout": "IPY_MODEL_682d902497624f1f8eacd71b644411d6"
      }
     },
     "f631bb4d6e9d454a82d0d16c6aac6e1f": {
      "model_module": "@jupyter-widgets/base",
      "model_module_version": "1.2.0",
      "model_name": "LayoutModel",
      "state": {}
     },
     "f74755a5074749aeba8810a708583682": {
      "model_module": "@jupyter-widgets/controls",
      "model_module_version": "1.5.0",
      "model_name": "DescriptionStyleModel",
      "state": {
       "description_width": ""
      }
     },
     "f77b0619f0c5406ba70f9725acc01608": {
      "model_module": "@jupyter-widgets/controls",
      "model_module_version": "1.5.0",
      "model_name": "DescriptionStyleModel",
      "state": {
       "description_width": ""
      }
     },
     "f7f6139ac943465a9e85e140d6537a83": {
      "model_module": "@jupyter-widgets/controls",
      "model_module_version": "1.5.0",
      "model_name": "DescriptionStyleModel",
      "state": {
       "description_width": ""
      }
     },
     "f8e87e23145d42bd9005ae3736140026": {
      "model_module": "@jupyter-widgets/controls",
      "model_module_version": "1.5.0",
      "model_name": "HBoxModel",
      "state": {
       "children": [
        "IPY_MODEL_882245be58644d30bac4c05ed1beb657",
        "IPY_MODEL_d60be8fb53014d4b8592955abafd6cfa",
        "IPY_MODEL_7c14890969d64057b46677722a454aaa"
       ],
       "layout": "IPY_MODEL_a1e5395507814bdf824b70eb7a9b8253"
      }
     },
     "f9265b827f854860b715bd924a439a18": {
      "model_module": "@jupyter-widgets/base",
      "model_module_version": "1.2.0",
      "model_name": "LayoutModel",
      "state": {}
     },
     "f9e6372f95794ff68a0e805789d7a165": {
      "model_module": "@jupyter-widgets/base",
      "model_module_version": "1.2.0",
      "model_name": "LayoutModel",
      "state": {}
     },
     "f9eaa2b64c2d46ddb06a7dbcdffe2034": {
      "model_module": "@jupyter-widgets/controls",
      "model_module_version": "1.5.0",
      "model_name": "FloatTextModel",
      "state": {
       "description": "pH:",
       "layout": "IPY_MODEL_35633064b7ad4fb39145451085824b3d",
       "step": 0.01,
       "style": "IPY_MODEL_a47ac5f28ebd4ce0b02c6df750285782",
       "value": 4.76
      }
     },
     "fa2753d9432c44beb8e2d8135d88bc5d": {
      "model_module": "@jupyter-widgets/controls",
      "model_module_version": "1.5.0",
      "model_name": "FloatTextModel",
      "state": {
       "description": "NaCl:",
       "layout": "IPY_MODEL_2992c86359144b8ba124a5648df3aed6",
       "step": 0.001,
       "style": "IPY_MODEL_6e279f96b04444ffae0cefcb491105f1",
       "value": 0.1
      }
     },
     "fa4aa827fe924ba9b7ffa812a5c56cf4": {
      "model_module": "@jupyter-widgets/base",
      "model_module_version": "1.2.0",
      "model_name": "LayoutModel",
      "state": {}
     },
     "fa772773ea7b4aa9b953c41a9cd1bca4": {
      "model_module": "@jupyter-widgets/controls",
      "model_module_version": "1.5.0",
      "model_name": "HBoxModel",
      "state": {
       "children": [
        "IPY_MODEL_32363a34c2ce4a86a384125d6ac79c4e",
        "IPY_MODEL_5a39d5a0e6744adf8553f5005701cd82",
        "IPY_MODEL_f9eaa2b64c2d46ddb06a7dbcdffe2034"
       ],
       "layout": "IPY_MODEL_2627571acaac4f1e96d4d2e5febb280a"
      }
     },
     "fad6bb1a20fe40429690f5f6302db7f1": {
      "model_module": "@jupyter-widgets/controls",
      "model_module_version": "1.5.0",
      "model_name": "FloatTextModel",
      "state": {
       "description": "Total Buffer:",
       "layout": "IPY_MODEL_9807f8416288494a891b2d85fed80524",
       "step": 0.001,
       "style": "IPY_MODEL_3cb4c957b1b049c4968a7279a79637ed"
      }
     },
     "fae40b8f169f4151b050dd7e97844fee": {
      "model_module": "@jupyter-widgets/controls",
      "model_module_version": "1.5.0",
      "model_name": "DescriptionStyleModel",
      "state": {
       "description_width": ""
      }
     },
     "fafa64036df84f00a7d38ebb4d2d6938": {
      "model_module": "@jupyter-widgets/controls",
      "model_module_version": "1.5.0",
      "model_name": "DescriptionStyleModel",
      "state": {
       "description_width": ""
      }
     },
     "fb3bb16233a0406abe481fb28f85308b": {
      "model_module": "@jupyter-widgets/base",
      "model_module_version": "1.2.0",
      "model_name": "LayoutModel",
      "state": {}
     },
     "fbcb8f0056e44da8bd3b22a493695783": {
      "model_module": "@jupyter-widgets/controls",
      "model_module_version": "1.5.0",
      "model_name": "FloatTextModel",
      "state": {
       "description": "pH:",
       "layout": "IPY_MODEL_89789d47c78d4667b160ed1d215e415e",
       "step": 0.01,
       "style": "IPY_MODEL_24db7a506d7c4c33aa3e9b2fa46e585b",
       "value": 5.5
      }
     },
     "fcfaaf69175649e6b25bd379dab6c12c": {
      "model_module": "@jupyter-widgets/base",
      "model_module_version": "1.2.0",
      "model_name": "LayoutModel",
      "state": {}
     },
     "fd0ac307d9e54112a4662c82ab7c2e21": {
      "model_module": "@jupyter-widgets/controls",
      "model_module_version": "1.5.0",
      "model_name": "HBoxModel",
      "state": {
       "children": [
        "IPY_MODEL_2b7f85d204214eb3ae2ddbf85a9bf851",
        "IPY_MODEL_a0df8f058c214d38bbfac9ee9bb32e2d",
        "IPY_MODEL_db500f1bdd024819a381ab63c732aed5"
       ],
       "layout": "IPY_MODEL_66215ac6bf714fe599b6f56f138d4af2"
      }
     },
     "fd7707f783b04d5daaf01e1d1a71f4fa": {
      "model_module": "@jupyter-widgets/base",
      "model_module_version": "1.2.0",
      "model_name": "LayoutModel",
      "state": {}
     },
     "fdcf757f3fcd45e5a55a86b43514db24": {
      "model_module": "@jupyter-widgets/controls",
      "model_module_version": "1.5.0",
      "model_name": "FloatTextModel",
      "state": {
       "description": "Total Buffer:",
       "layout": "IPY_MODEL_d36d7ee4208b46ff95fc4593ed10b090",
       "step": 0.001,
       "style": "IPY_MODEL_2ab91ea0df5f49b4a62386ec73729ad6"
      }
     },
     "fe292ac76410414f8eaeabd735bf4a0d": {
      "model_module": "@jupyter-widgets/controls",
      "model_module_version": "1.5.0",
      "model_name": "HBoxModel",
      "state": {
       "children": [
        "IPY_MODEL_e1f761a0c0904c64b9a9d8b9a09366f4",
        "IPY_MODEL_6cef853ba7de499092a5c2d46f25fe26",
        "IPY_MODEL_c8cbcdb48abb45bc91cc6031a784bf33"
       ],
       "layout": "IPY_MODEL_b4e33b0f456b4276bce20ed9b53e8d8c"
      }
     },
     "fe969b11506047f9a4aa296cdcd28ab6": {
      "model_module": "@jupyter-widgets/base",
      "model_module_version": "1.2.0",
      "model_name": "LayoutModel",
      "state": {}
     },
     "ff39bb450a0446bebb141d4ea98d5a1f": {
      "model_module": "@jupyter-widgets/base",
      "model_module_version": "1.2.0",
      "model_name": "LayoutModel",
      "state": {}
     }
    },
    "version_major": 2,
    "version_minor": 0
   }
  }
 },
 "nbformat": 4,
 "nbformat_minor": 4
}
